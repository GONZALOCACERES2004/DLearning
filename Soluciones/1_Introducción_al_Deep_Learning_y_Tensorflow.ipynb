{
  "nbformat": 4,
  "nbformat_minor": 0,
  "metadata": {
    "colab": {
      "provenance": [],
      "collapsed_sections": [
        "OFDhMkz78NoB",
        "oLJb8m8c8TSH"
      ]
    },
    "kernelspec": {
      "display_name": "Python 3",
      "name": "python3"
    },
    "language_info": {
      "codemirror_mode": {
        "name": "ipython",
        "version": 3
      },
      "file_extension": ".py",
      "mimetype": "text/x-python",
      "name": "python",
      "nbconvert_exporter": "python",
      "pygments_lexer": "ipython3",
      "version": "3.7.4"
    }
  },
  "cells": [
    {
      "cell_type": "markdown",
      "metadata": {
        "id": "jJQZDOSRlvjY"
      },
      "source": [
        "# **Módulo 1. Deep Learning y Tensorflow**\n",
        "\n",
        "¡Bienvenidos al apasionante mundo del Deep Learning!\n",
        "\n",
        "En este primer módulo, el alumno conocerá los princiaples fundamentos del area del deep learning y se familiarizará con tensorflow. Para ello, comenzaremos con una pequeña introducción al deep learning y su diferencia con inteligencia artificial y machine learning, repsaremos su contexto histórico, aprenderemos los principales tipos de aprendizajes exsistenes e introduciremos google colab.\n",
        "\n",
        "Posteriormente, comenzaremos a trabajar con TensorFlow, y al terminar la sesión, ¡habréis implementado vuestra **primera red neuronal**!\n",
        "\n",
        "\n",
        "**¡Vamos allá!**"
      ]
    },
    {
      "cell_type": "markdown",
      "metadata": {
        "id": "-0dQrH-TDD1z"
      },
      "source": [
        "# 1. Introducción al Deep Learning\n",
        "\n",
        "## 1.1. Del Machine Learning al Deep Learning\n",
        "\n",
        "¿Qué es el Deep Learning? ¿En qué se diferencia del Machine Learning? ¿Y de la Inteligencia Artificial?\n",
        "\n",
        "<center> <a href=\"https://ibb.co/hWqjG7\"><img src=\"https://preview.ibb.co/cETFOn/AI_ML_DL.png\" alt=\"IA engloba ML, que a su vez engloba DL\" border=\"0\"> </center> </a>\n",
        "\n",
        "**Inteligencia artificial:**\n",
        "\n",
        "Inteligencia Artificial (IA) es un conjunto de algoritmos y técnicas que pueden ser\n",
        "usadas para resolver problemas que los humanos realizamos intuitivamente, pero\n",
        "que son realmente difíciles para un ordenador. Se puede dividir en dos campos:\n",
        "\n",
        "*   *General AI*: consiste en dotar a las máquinas de todas nuestras capacidades y sentidos. Por ejemplo, C-3PO o Terminator. Tranquilos, todavía queda muuuucho para ver algo parecido a Skynet por aquí.\n",
        "*   *Narrow AI*: consiste en dotar a las máquinas de la capacidad de desarrollar una determinada tarea, como por ejemplo, reconocer caras, señales de tráfico, el habla, etc. Es en este campo donde actualmente se están observando grandes avances.\n",
        "\n",
        "**Machine Learning:**\n",
        "\n",
        "El Machine Learning (ML) o aprendizaje máquina es un **subcampo dentro de la Inteligencia Artificial**. Básicamente, consiste en **utilizar una gran cantidad de datos para extraer información útil para las personas**. Por ejemplo, imaginaos que disponemos de los últimos resultados de La Liga y queremos ser capaces de predecir el resultado del próximo Clásico. Primero, necesitariamos *parsear* los datos, limpiarlos, eliminar las entradas incompletas, estudiar la distribución de las variables y elegir las características o atributos (*feature engineering*) que nos permitieran predecir este resultado con la mayor precisión posible. Una vez tuviésemos claro cuales son las mejores características a utilizar, necesitaríamos encontrar el mejor algoritmo posible para nuestro dataset.\n",
        "\n",
        "La **elección de las características**, que a priori puede llegar a parecer sencillo, es el paso **más complicado y costoso** y, además, requiere de un alto grado de conocimientos sobre el problema en cuestión y sobre técnicas de extracción de características.\n",
        "\n",
        "<center> <a  <href=\"https://ibb.co/3s04DyH\"><img src=\"https://i.ibb.co/MVpvSx2/machine-learning.jpg\" alt=\"IA engloba ML, que a su vez engloba DL\" align= \"middle\" border=\"1\"> </center></a>\n",
        "\n",
        "\n",
        "**Deep Learning:**\n",
        "\n",
        "El aprendizaje profundo o Deep Learning (DL) es un subcampo del **Machine Learning**, y soluciona el problema anterior de la elección de características. También llamado aprendizaje jerárquico, ***aprende*** distintas **representaciones de los datos** que son introducidas a un clasificador final.\n",
        "\n",
        "La magia está en que ya no necesitamos volvernos locos buscando las mejores características o atributos para cada problema, si no que esto lo hace **automáticamente** nuestro algoritmo.\n",
        "\n",
        "<center> <a  <href=\"https://ibb.co/3s04DyH\"><img src=\"https://i.ibb.co/zbjHVnW/deep-learning.jpg\" alt=\"Deep learning\"  border=\"1\"> </center></a>\n",
        "\n",
        "Por último, cabe destacar la importancia de tener una gran cantidad de datos para poder utilizar técnicas de ML o DL. Además, cuanta más calidad tengan esos datos, mejor se comportaran nuestros modelos.\n",
        "\n",
        "*“I think AI is akin to building a rocket ship. You need a huge engine and a lot of fuel. If you have a large engine and a tiny amount of fuel, you won’t make it to orbit. If you have a tiny engine and a ton of fuel, you can’t even lift off. To build a rocket you need a huge engine and a lot of fuel.”*\n",
        "\n",
        "– Andrew Ng (source: Wired)\n",
        "\n",
        "Que traducido quiere decir:\n",
        "\n",
        "*Creo que la IA es parecido a construir un cohete espacial. Necesitas un motor enorme y mucho combustible. Si tienes un motor enorme pero poco combustible, no conseguirás poner el cohete en órbita. Si tienes un pequeño motor y un montón de combustible, no podrás ni despegar. Para construir un cohete espacial necesitas un motor enorme y un monton de combustible.*\n",
        "\n",
        "Así que ya sabéis, no solo es importante el algoritmo que utilicemos, sino los datos de los que dispongamos.\n",
        "\n",
        "\n",
        "\n",
        "<center> <img src=\"https://i.ibb.co/44fMMTF/machine-learning-vs-deep.jpg\" border=\"0\" height=\"250\"  height=\"300\" align= \"middle\"> </center>\n"
      ]
    },
    {
      "cell_type": "markdown",
      "metadata": {
        "id": "OFDhMkz78NoB"
      },
      "source": [
        "## 1.2. Contexto histórico\n",
        "\n",
        "Probablemente muchos de vosotros penséis que el área del Deep Learning y las redes neuronales es una novedad, pues, ¡nada más lejos de la realidad! De hecho, **a primera red neuronal data de 1958**. El problema es que no había potencia de cálculo suficiente para poder progresar hasta hace relativamente poco, con la popularización de las **GPUs** de altas prestaciones. Así que... gracias gamers!!\n",
        "\n",
        "Por si tenéis curiosidad, estos son los hechos más importantes que han ocurrido en el campo de la IA:\n",
        "\n",
        "<img src=\"https://image.ibb.co/mEVbA8/timeline_deep_learning.png\" alt=\"timeline_deep_learning\" border=\"0\">\n",
        "\n",
        "*   **1950**: Alan Turing crea el **Test de Turing**\n",
        "*   **1952**: Arthur Samuel crea el primer programa que **aprende** partida tras partida a jugar a las Damas\n",
        "*   **1956**: Martin Minsky acuña el término **\"Artificial Intelligence\"** para referirse a este nuevo campo\n",
        "*   **1958**: Frank Rosenblatt diseña el Perceptrón, **la primera red neuronal artificial**. HACE **60 AÑOS!!!**\n",
        "\n",
        "Como podéis ver, la Inteligencia Artificial no es ni mucho menos nueva, lleva mucho tiempo entre nosotros, sufriendo altibajos debidos a las altas expectativas depositadas y los \"pocos\" avances conseguidos.\n",
        "\n",
        "Desde 1974 hasta nuestros días, se han producido varios \"inviernos\" y \"primaveras\".\n",
        "\n",
        "<a href=\"https://imgbb.com/\"><img src=\"https://image.ibb.co/b3ih3n/AI_winter.jpg\" alt=\"Winter is coming\" border=\"0\"></a>\n",
        "\n",
        "Algunos de los hechos más relevantes hasta 2006 son estos:\n",
        "\n",
        "*   **1967**: Nace el campo del reconocimiento de patrones con la aparición del algoritmo **\"Nearest Neighbor\"**\n",
        "*   **1979**: Crean el Stanford Cart, un **robot capaz de navegar automáticamente por una habitación evitando obstáculos**\n",
        "*   **1981**: Gerald Dejong introduce el \"Explanation Based Learning\", el precursor del Machine Learning. El ordenador **analizaba datos** de entrenamiento y creaba reglas **para descartar los datos menos importantes**\n",
        "*   **1985**: Terry Sejnowski inventa NetTalk, un algoritmo capaz de **aprender a pronunciar palabras** como lo haría un niño\n",
        "*   **1990s**: **Cambia el paradigma del Machine Learning**: de un enfoque orientado al conocimiento, a uno **orientado al dato**. Empiezan a extraer conclusiones de grandes cantidades de datos.\n",
        "*   **1997**: **DeepBlue derrota a Kaspárov** por primera vez.\n",
        "\n",
        "Tras esta época de luces y sombras, y gracias, entre otras cosas, a la disponibilidad de mucha más potencia de cálculo y de datos, desde 2006 hasta la fecha ha habido una explosión del Machine Learning.\n",
        "\n",
        "*   **2006**: Aparecen las **arquitecturas profundas**, acuñadas como Deep Learning por Geoffrey Hinton\n",
        "*   **2011**: **Watson IBM vence** a sus competidores **humanos** en el concurso Jeopardy\n",
        "*   **2012**: Geoffrey Hinton gana por goleada el concurso de **ImageNet** con una red neuronal profunda\n",
        "*   **2012**: En Google X crean GoogleBrain, capaz de **detectar gatos en videos**\n",
        "*   **2014**: Facebook desarrolla DeepFace, capaz de **reconocer caras de humanos con una precisión de 97.25%**, solo un 0.28% por debajo de un ser humano\n",
        "*   **2014**: Google compra DeepMind, una stertup inglesa que había creado un algoritmo capaz de **aprender a jugar con juegos Atari simplemente viendo el video**\n",
        "*   **2014**: Aparecen las **GANs (Generative Adversarial Networks)**, capaces de generar contenido falso que no lo parece, cambiando para siempre la percepción de \"real\" (deep fakes).\n",
        "*   **2015**: Elon Musk y Sam Altman crean OpenAI para **promover el bueno uso de la IA**\n",
        "*   **2016**: **Google DeepMind vence** por primera vez en el **juego Go, consiguiendo movimientos creativos**"
      ]
    },
    {
      "cell_type": "markdown",
      "source": [
        "## 1.3 Tipos de aprendizaje\n",
        "\n",
        "Como con cualquier método, existen diferentes formas de entrenar los algoritmos de aprendizaje profundo, cada una con sus propias ventajas y desventajas. Para comprender los pros y los contras de cada tipo de aprendizaje automático, primero debemos observar cuáles son sus inputs. En deep learning, hay dos tipos de datos: datos etiquetados y datos no etiquetados.\n",
        "\n",
        "Los datos etiquetados tienen los parámetros de entrada y salida en un patrón completamente legible por máquina, pero requiere mucho trabajo humano para etiquetar los datos. Los datos sin etiquetar solo tienen uno o ninguno de los parámetros en un formato legible por máquina. Esto reduce la necesidad de mano de obra humana pero requiere soluciones más complejas. Podemos dividir los tipos de aprendizajes en deep learning en:\n",
        "\n",
        "**Supervised Learning**\n",
        "\n",
        "El aprendizaje supervisado es el paradigma más popular para el aprendizaje automático. Dados los datos en forma de ejemplos con etiquetas, podemos alimentar un algoritmo de aprendizaje con estos pares de etiqueta-ejemplo, lo que permite que el algoritmo prediga la etiqueta para cada ejemplo y le proporcione retroalimentación sobre si predijo la respuesta correcta o no. Con el tiempo, el algoritmo aprenderá a aproximarse a la naturaleza exacta de la relación entre los ejemplos y sus etiquetas. Cuando esté completamente capacitado, el algoritmo de aprendizaje supervisado podrá observar un nuevo ejemplo nunca antes visto y predecir una buena etiqueta para él.\n",
        "\n",
        "<center> <img src=\"https://i.ibb.co/Jp9KF00/aprendizaje-supervisado.png\" alt=\"IA engloba ML, que a su vez engloba DL\" border=\"0\"  width=\"700\"\n",
        "     height=\"400\"> </center> </a>\n",
        "\n",
        "\n",
        "\n",
        "**Unsupervised Learning**\n",
        "\n",
        "El aprendizaje no supervisado es opuesto al aprendizaje supervisado. No presenta etiquetas. En cambio, nuestro algoritmo recibiría una gran cantidad de datos y se le darían las herramientas para comprender las propiedades de los datos. A partir de ahí, puede aprender a agrupar, agrupar y/u organizar los datos de tal manera que un ser humano (u otro algoritmo inteligente) pueda ingresar y dar sentido a los datos recién organizados.\n",
        "\n",
        "<center> <img src=\"https://i.ibb.co/RgtVwHp/aprendizaje-no-supervisado-1.png\" alt=\"IA engloba ML, que a su vez engloba DL\" border=\"0\"  width=\"800\"\n",
        "     height=\"400\"> </center> </a>\n",
        "\n",
        "Dentro del aprendizaje no supervisado destacan los algoritmos generativos.\n",
        "\n",
        "**Reinforcement Learning**\n",
        "\n",
        "El aprendizaje por refuerzo es bastante diferente en comparación con el aprendizaje supervisado y no supervisado. Si bien podemos ver fácilmente la relación entre supervisado y no supervisado (la presencia o ausencia de etiquetas), la relación con el aprendizaje por refuerzo es un poco más complicada. El aprendizaje por refuerzo básicamente consiste en aprender de los errores. Si colocamos un algoritmo de aprendizaje por refuerzo en cualquier entorno, al principio cometerá muchos errores. Siempre que proporcionemos algún tipo de señal al algoritmo que asocie los buenos comportamientos con una señal positiva y los malos comportamientos con una negativa, podemos reforzar nuestro algoritmo para preferir los buenos comportamientos a los malos. Con el tiempo, nuestro algoritmo de aprendizaje aprenderá a cometer menos errores que antes. Para cualquier problema de aprendizaje por refuerzo, necesitamos un agente y un entorno, así como una forma de conectar los dos a través de un circuito de retroalimentación. Para conectar al agente con el entorno, le damos un conjunto de acciones que puede realizar y que afectan al entorno. Para conectar el entorno con el agente, hacemos que emita continuamente dos señales al agente: un estado actualizado y una recompensa (nuestra señal de refuerzo para el comportamiento).\n",
        "\n",
        "<center> <img src=\"https://i.ibb.co/c2qvTjn/aprendizaje-por-refuerzo.png\" alt=\"IA engloba ML, que a su vez engloba DL\" border=\"0\"  width=\"900\"\n",
        "     height=\"400\"> </center> </a>\n",
        "\n",
        "\n",
        "\n",
        "\n"
      ],
      "metadata": {
        "id": "MsJ9YYHPgLFp"
      }
    },
    {
      "cell_type": "markdown",
      "metadata": {
        "id": "oLJb8m8c8TSH"
      },
      "source": [
        "## 1.4. Introducción a Google Colab\n",
        "\n",
        "La plataforma en la que os encontráis se llama **Google Colab**. Va a ser a la vez nuestro *notebook* y nuestra IDE, ya que nos permite aprovechar la GPU **NVIDIA K80** que por el momento ofrece Google de forma **gratuita**.\n",
        "\n",
        "Cualquiera con una cuenta de Google puede crear un nuevo notebook y empezar a disfrutarlo! A lo largo del curso iremos viendo lo necesario para que aprendáis a manejarlo con soltura, así que no tenéis por qué preocuparos si es la primera vez que lo véis. Y si habéis trabajado antes con Jupyter, ¡esto es lo mismo!\n",
        "\n",
        "Lo único que tenéis que hacer todos para aprovechar la GPU es ir a **Edit**, en la barra de herramientas, y luego a **Notebook settings**. Os aparecerá esta pantalla, la cual tiene que quedar igual que en la imagen. Debéis seleccionar Python 3 y GPU, y luego darle a **Save**.\n",
        "\n",
        "<a href=\"https://ibb.co/ceoX3n\"><img src=\"https://preview.ibb.co/mQEi9S/notebook_config.png\" alt=\"Notebook configuration\" border=\"0\"></a>"
      ]
    },
    {
      "cell_type": "markdown",
      "metadata": {
        "id": "TcokI_bpc4Ui"
      },
      "source": [
        "## 2. Introducción a TensorFlow\n",
        "\n",
        "Como muchos de vosotros ya sabréis, TensorFlow es un framework desarrollado y mantenido por Google que permite la ejecución de operaciones matemáticas de una forma optimizada en una CPU o GPU. En nuestro caso estamos más interesados en la GPU, ya que es la única forma que tenemos de entrenar una red neuronal profunda y no morir de viejos esperando ;)\n",
        "\n",
        "¿Por qué tensorflow?\n",
        "\n",
        "* Por su **flexibilidad y escalabilidad**\n",
        "\n",
        "* Por su **popularidad**\n",
        "\n",
        "<img src=\"https://image.ibb.co/mCJNqd/tf_pop.png\" alt=\"tf_pop\" border=\"0\" height=\"300\"> <img src=\"https://image.ibb.co/bBDYwJ/tf_users.png\" alt=\"tf_users\" border=\"0\" height=\"300\">\n",
        "\n",
        "\n",
        "Más adelante comprenderemos por qué es tan importante disponer de un buen framework que nos permita realizar operaciones de la forma más rápida posible. De momento, vamos a trabajar un poco con TensorFlow hasta que nos familiaricemos con su modo de funcionar. Pero antes, algunas de sus características más importantes:\n",
        "\n",
        "*    TensorFlow utiliza **tensores** para realizar las operaciones.\n",
        "*    En TensorFlow, primero se definen las operaciones a realizar (construimos el **grafo**), y luego se ejecutan (se ejecuta el grafo)\n",
        "*    Permite ejecutar el código implementado **paralelamente** o en una o varias GPUs, a elección del usuario\n",
        "\n",
        "Vale, pero **¿qué es un tensor?**\n",
        "\n",
        "## 2.1 Definición de tensores\n",
        "Aunque los tensores los inventaron los físicos para ser capaces de describir interacciones, en el ámbito de la IA se pueden entender simplemente como **contenedores de números**.\n",
        "\n",
        "<a href=\"https://ibb.co/bBCyb7\"><img src=\"https://image.ibb.co/fnFvOn/tensores.png\" alt=\"tensores\" border=\"0\"></a>"
      ]
    },
    {
      "cell_type": "markdown",
      "source": [
        "¡Vamos a practicar con nuestros nuevos mejores amigos, los Tensores!"
      ],
      "metadata": {
        "id": "9_7r3PgCqTMQ"
      }
    },
    {
      "cell_type": "code",
      "metadata": {
        "id": "dIIqtgJf3P_5",
        "colab": {
          "base_uri": "https://localhost:8080/"
        },
        "outputId": "127f47e4-9c18-4945-9c37-596a22f8f99a"
      },
      "source": [
        "import numpy as np\n",
        "import tensorflow as tf\n",
        "\n",
        "# Imaginaos que queréis guardar la nota media del máster de Tristina Cipuentes.\n",
        "# Para ello utilizaríais un tensor de 0D, que no es otra cosa que un simple\n",
        "# número, también conocido como escalar.\n",
        "\n",
        "# Definición del tensor 0D\n",
        "arr0d=np.array(5)\n",
        "tensor_0D=tf.convert_to_tensor(arr0d, tf.float64)\n",
        "\n",
        "# De este escalar, podemos ver tanto su contenido como ciertas propiedades\n",
        "print(\"Nota media:{}\".format(arr0d))\n",
        "print(\"Dimensiones del tensor: {}\".format(tensor_0D.ndim))\n",
        "print(\"Tamaño  del tensor: {}\".format(tensor_0D.shape))\n",
        "print(\"Tipo  del tensor: {}\".format(tensor_0D.dtype))"
      ],
      "execution_count": 1,
      "outputs": [
        {
          "output_type": "stream",
          "name": "stdout",
          "text": [
            "Nota media:5\n",
            "Dimensiones del tensor: 0\n",
            "Tamaño  del tensor: ()\n",
            "Tipo  del tensor: <dtype: 'float64'>\n"
          ]
        }
      ]
    },
    {
      "cell_type": "code",
      "metadata": {
        "id": "zkk4unVy4CwS",
        "colab": {
          "base_uri": "https://localhost:8080/"
        },
        "outputId": "21d463b7-824c-44b7-d746-6c218967a424"
      },
      "source": [
        "# Pero con una sola nota no habría mucho que defender, podría decirse incluso\n",
        "# que alguien se la ha inventado, así que mejor si guardamos las notas de\n",
        "# TODOS las asignaturas que hizo. Podemos usar un tensor 1D para ello:\n",
        "\n",
        "# Tensor 1D (vector)\n",
        "array_1D=np.array([2,6,8, 10, 2])\n",
        "tensor_1D=tf.convert_to_tensor(array_1D, tf.float64)\n",
        "\n",
        "print(\"Notas de las asignaturas: {}\".format(tensor_1D))\n",
        "print(\"Dimensiones del tensor: {}\".format(tensor_1D.ndim))\n",
        "print(\"Tamaño  del tensor: {}\".format(tensor_1D.shape))\n",
        "print(\"Tipo  del tensor: {}\".format(tensor_1D.dtype))"
      ],
      "execution_count": 2,
      "outputs": [
        {
          "output_type": "stream",
          "name": "stdout",
          "text": [
            "Notas de las asignaturas: [ 2.  6.  8. 10.  2.]\n",
            "Dimensiones del tensor: 1\n",
            "Tamaño  del tensor: (5,)\n",
            "Tipo  del tensor: <dtype: 'float64'>\n"
          ]
        }
      ]
    },
    {
      "cell_type": "code",
      "metadata": {
        "id": "_ab-ex3W4tfc",
        "colab": {
          "base_uri": "https://localhost:8080/"
        },
        "outputId": "fd77774e-445f-4038-adb6-5f24480b1540"
      },
      "source": [
        "# Un momento... ¿no sería mejor que estructurásemos las notas por asignatura?\n",
        "# ¿Cómo podríamos hacerlo, si cada asignatura consta de 3 exámenes?\n",
        "# ¿Se os ocurre alguna estructura que nos lo permita?\n",
        "\n",
        "# En efecto, ¡un tensor 2D! ¡ Una matriz de números!\n",
        "\n",
        "# Tensor 2D (matriz)\n",
        "array_2D = np.array([[5, 6, 7], # asignatura 1\n",
        "                     [9, 8, 10], #asignatura 2\n",
        "                    [2, 1, 3]] # asignatura 3\n",
        "                    )\n",
        "tensor_2D = tf.convert_to_tensor(array_2D, tf.float64)\n",
        "print(\"Las puntuaciones de Tristina en sus exámenes son:\\n{}\".format(tensor_2D))\n",
        "print(\"Asignatura 1:\\n{}\".format(tensor_2D[0]))\n",
        "print(\"Asignatura 2:\\n{}\".format(tensor_2D[1]))\n",
        "print(\"Asignatura 3:\\n{}\".format(tensor_2D[2]))\n",
        "print(\"Dimensiones del tensor: {}\".format(tensor_2D.ndim))\n",
        "print(\"Tamaño  del tensor: {}\".format(tensor_2D.shape))\n",
        "print(\"Tipo  del tensor: {}\".format(tensor_2D.dtype))"
      ],
      "execution_count": 3,
      "outputs": [
        {
          "output_type": "stream",
          "name": "stdout",
          "text": [
            "Las puntuaciones de Tristina en sus exámenes son:\n",
            "[[ 5.  6.  7.]\n",
            " [ 9.  8. 10.]\n",
            " [ 2.  1.  3.]]\n",
            "Asignatura 1:\n",
            "[5. 6. 7.]\n",
            "Asignatura 2:\n",
            "[ 9.  8. 10.]\n",
            "Asignatura 3:\n",
            "[2. 1. 3.]\n",
            "Dimensiones del tensor: 2\n",
            "Tamaño  del tensor: (3, 3)\n",
            "Tipo  del tensor: <dtype: 'float64'>\n"
          ]
        }
      ]
    },
    {
      "cell_type": "code",
      "metadata": {
        "id": "3cZSBcPu597b",
        "colab": {
          "base_uri": "https://localhost:8080/"
        },
        "outputId": "98a5c6a8-cb7e-4f34-e832-64969188d9b3"
      },
      "source": [
        "# Sin embargo, como nosotros somos muy ordenados y no queremos que se nos pierda\n",
        "# nada, mejor si guardamos las notas de las asignaturas (que son anuales) por\n",
        "# cuatrimestres, así será más fácil acceder a ellas si hiciese falta en un\n",
        "# futuro, ¿no os parece? ¿Cómo se os ocurre que podríamos organizarlas?\n",
        "\n",
        "# ¿Y si añadimos una dimensión a nuestro tensor 2D que indique el cuatrimestre?\n",
        "\n",
        "# Tensor 3D (matriz 3D o cubo)\n",
        "array_3D = np.array([[[0, 1, 1],  # Primer cuatrimestre\n",
        "                      [2, 3, 3],\n",
        "                      [1, 3, 2]],\n",
        "                     [[1, 3, 2],  # Segundo cuatrimestre\n",
        "                      [2, 4, 2],\n",
        "                      [0, 1, 1]]])\n",
        "\n",
        "tensor_3D = tf.convert_to_tensor(array_3D,tf.float64)\n",
        "\n",
        "print(\"Las notas de Tristina por cuatrimestre son:\\n{}\".format(tensor_3D))\n",
        "print(\"Primer cuatrimestre:\\n{}\".format(tensor_3D[0]))\n",
        "print(\"Segundo cuatrimestre:\\n{}\".format(tensor_3D[1]))\n",
        "print(\"Dimensiones del tensor: {}\".format(tensor_3D.ndim))\n",
        "print(\"Tamaño  del tensor: {}\".format(tensor_3D.shape))\n",
        "print(\"Tipo  del tensor: {}\".format(tensor_3D.dtype))"
      ],
      "execution_count": 4,
      "outputs": [
        {
          "output_type": "stream",
          "name": "stdout",
          "text": [
            "Las notas de Tristina por cuatrimestre son:\n",
            "[[[0. 1. 1.]\n",
            "  [2. 3. 3.]\n",
            "  [1. 3. 2.]]\n",
            "\n",
            " [[1. 3. 2.]\n",
            "  [2. 4. 2.]\n",
            "  [0. 1. 1.]]]\n",
            "Primer cuatrimestre:\n",
            "[[0. 1. 1.]\n",
            " [2. 3. 3.]\n",
            " [1. 3. 2.]]\n",
            "Segundo cuatrimestre:\n",
            "[[1. 3. 2.]\n",
            " [2. 4. 2.]\n",
            " [0. 1. 1.]]\n",
            "Dimensiones del tensor: 3\n",
            "Tamaño  del tensor: (2, 3, 3)\n",
            "Tipo  del tensor: <dtype: 'float64'>\n"
          ]
        }
      ]
    },
    {
      "cell_type": "code",
      "metadata": {
        "id": "ZRztNF9K-Qx_",
        "colab": {
          "base_uri": "https://localhost:8080/"
        },
        "outputId": "f3cc5fbe-7938-4a11-b8a8-bbc51e6d7f2a"
      },
      "source": [
        "# ¿Qué os parece? Ya tenemos perfectamente guardadas las notas de Tristina,\n",
        "# para que no se pierdan. ¿Pero qué pasa con los demás alumnos? ¿Se os ocurre\n",
        "# cómo podríamos guardarnos sus notas también?\n",
        "# ¿Y si añadimos una dimensión a nuestro tensor, de forma que podamos tener las\n",
        "# notas por cuatrimestre de cada asignatura para cada alumno?\n",
        "\n",
        "# Tensor 4D (vector de matrices 3D o vector de cubos)\n",
        "array_4D = np.array([[[[0, 1, 1], # Tristina\n",
        "                      [2, 3, 3],\n",
        "                      [1, 3, 2]],\n",
        "                     [[1, 3, 2],\n",
        "                      [2, 4, 2],\n",
        "                      [0, 1, 1]]],\n",
        "                      [[[0, 3, 1], # Facundo\n",
        "                      [2, 4, 1],\n",
        "                      [1, 3, 2]],\n",
        "                     [[1, 1, 1],\n",
        "                      [2, 3, 4],\n",
        "                      [1, 3, 2]]],\n",
        "                     [[[2, 2, 4], # Celedonio\n",
        "                      [2, 1, 3],\n",
        "                      [0, 4, 2]],\n",
        "                     [[2, 4, 1],\n",
        "                      [2, 3, 0],\n",
        "                      [1, 3, 3]]]])\n",
        "tensor_4D = tf.convert_to_tensor(array_4D,tf.float64)\n",
        "\n",
        "print(\"Las notas de Tristina, Facundo y Celedonio por cuatrimestre son:\\n{}\".format(tensor_4D))\n",
        "print(\"Notas de Tristina:\\n{}\".format(tensor_4D[0]))\n",
        "print(\"Notas de Facundo:\\n{}\".format(tensor_4D[1]))\n",
        "print(\"Notas de Celedonio:\\n{}\".format(tensor_4D[2]))\n",
        "print(\"Dimensiones del tensor: {}\".format(tensor_4D.ndim))\n",
        "print(\"Tamaño  del tensor: {}\".format(tensor_4D.shape))\n",
        "print(\"Tipo  del tensor: {}\".format(tensor_4D.dtype))"
      ],
      "execution_count": 5,
      "outputs": [
        {
          "output_type": "stream",
          "name": "stdout",
          "text": [
            "Las notas de Tristina, Facundo y Celedonio por cuatrimestre son:\n",
            "[[[[0. 1. 1.]\n",
            "   [2. 3. 3.]\n",
            "   [1. 3. 2.]]\n",
            "\n",
            "  [[1. 3. 2.]\n",
            "   [2. 4. 2.]\n",
            "   [0. 1. 1.]]]\n",
            "\n",
            "\n",
            " [[[0. 3. 1.]\n",
            "   [2. 4. 1.]\n",
            "   [1. 3. 2.]]\n",
            "\n",
            "  [[1. 1. 1.]\n",
            "   [2. 3. 4.]\n",
            "   [1. 3. 2.]]]\n",
            "\n",
            "\n",
            " [[[2. 2. 4.]\n",
            "   [2. 1. 3.]\n",
            "   [0. 4. 2.]]\n",
            "\n",
            "  [[2. 4. 1.]\n",
            "   [2. 3. 0.]\n",
            "   [1. 3. 3.]]]]\n",
            "Notas de Tristina:\n",
            "[[[0. 1. 1.]\n",
            "  [2. 3. 3.]\n",
            "  [1. 3. 2.]]\n",
            "\n",
            " [[1. 3. 2.]\n",
            "  [2. 4. 2.]\n",
            "  [0. 1. 1.]]]\n",
            "Notas de Facundo:\n",
            "[[[0. 3. 1.]\n",
            "  [2. 4. 1.]\n",
            "  [1. 3. 2.]]\n",
            "\n",
            " [[1. 1. 1.]\n",
            "  [2. 3. 4.]\n",
            "  [1. 3. 2.]]]\n",
            "Notas de Celedonio:\n",
            "[[[2. 2. 4.]\n",
            "  [2. 1. 3.]\n",
            "  [0. 4. 2.]]\n",
            "\n",
            " [[2. 4. 1.]\n",
            "  [2. 3. 0.]\n",
            "  [1. 3. 3.]]]\n",
            "Dimensiones del tensor: 4\n",
            "Tamaño  del tensor: (3, 2, 3, 3)\n",
            "Tipo  del tensor: <dtype: 'float64'>\n"
          ]
        }
      ]
    },
    {
      "cell_type": "markdown",
      "metadata": {
        "id": "bYU1IwoWCBaD"
      },
      "source": [
        "Y así podríamos seguir hasta el infinito añadiendo dimensiones a nuestros tensores para ser capaces de guardar más datos. Para que os hagáis una idea de cómo se suelen utilizar en el mundo del Deep Learning, los tipos más comunes de tensores son:\n",
        "\n",
        "*    **Tensores 3D**: utilizados en **series temporales**\n",
        "*    **Tensores 4D**: utilizados con **imágenes**\n",
        "*    **Tensores 5D**: utilizados con **videos**\n",
        "\n",
        "Normalmente, siempre habrá una de las dimensiones que se utilizará para almacenar las muestras de cada tipo de datos. Por ejemplo, con las imágenes:\n",
        "\n",
        "Si queremos almacenar 64 imágenes RGB de 224x224 píxels, necesitaremos un vector de matrices 3D, o lo que es lo mismo, un tensor 4D. ¿Quién sabría decirme las dimensiones que tendría nuestro vector de matrices 3D?\n",
        "\n",
        "Tenemos 64 imágenes de 224 pixels x 224 pixels x 3 canales (R, G y B).\n",
        "\n",
        "Por tanto: (64, 224, 224, 3)\n",
        "\n",
        "De acuerdo, pues ya sabemos qué es un tensor y para que sirve: ¡para mantener las notas de vuestros exámenes bien guardadas! ;D\n",
        "\n",
        "Si queréis profundizar en los tensores o más ejemplos, aquí tenéis un recurso muy bueno para ello (en inglés): [Tensors ilustrated with cats](https://hackernoon.com/learning-ai-if-you-suck-at-math-p4-tensors-illustrated-with-cats-27f0002c9b32)"
      ]
    },
    {
      "cell_type": "markdown",
      "source": [
        "### Ejemplo de carga de dataset externo\n",
        "\n",
        "¿Y por qué son importantes los tensores? Porque van a ser las estructuras de datos que utilizaremos para entrenar nuestras redes.\n",
        "\n",
        "Vamos a ver un ejemplo de cómo podríamos cargar un dataset de imágenes junto con sus etiquetas.\n",
        "\n",
        "Para este ejemplo vamos a utilizar imágenes provenientes de escáneres de pulmón para tratar de predecir el Covid-19. Los datos son públicos y están disponibles en el siguiente enlace:\n",
        "\n",
        "https://github.com/UCSD-AI4H/COVID-CT\n",
        "\n",
        "Este dataset consta de imágenes de pacientes patológicos y sanos. Para hacer el ejemplo más sencillo, vamos a tratar con las imágenes correspondientes a Covid19 únicamente."
      ],
      "metadata": {
        "id": "lagZCHBoujYV"
      }
    },
    {
      "cell_type": "code",
      "metadata": {
        "id": "Tv-yXA4_QuXI",
        "colab": {
          "base_uri": "https://localhost:8080/"
        },
        "outputId": "1819f8c5-d8c2-4e5c-facf-32b0fa861b4e"
      },
      "source": [
        "# Para ello, lo primero es decargarnos el dataset\n",
        "!wget -O CT_Covid.zip https://github.com/desaisrkr/https-github.com-UCSD-AI4H-COVID-CT/blob/master/Images-processed/CT_COVID.zip?raw=True"
      ],
      "execution_count": 6,
      "outputs": [
        {
          "output_type": "stream",
          "name": "stdout",
          "text": [
            "--2024-10-21 22:58:47--  https://github.com/desaisrkr/https-github.com-UCSD-AI4H-COVID-CT/blob/master/Images-processed/CT_COVID.zip?raw=True\n",
            "Resolving github.com (github.com)... 140.82.113.4\n",
            "Connecting to github.com (github.com)|140.82.113.4|:443... connected.\n",
            "HTTP request sent, awaiting response... 302 Found\n",
            "Location: https://github.com/desaisrkr/https-github.com-UCSD-AI4H-COVID-CT/raw/refs/heads/master/Images-processed/CT_COVID.zip [following]\n",
            "--2024-10-21 22:58:47--  https://github.com/desaisrkr/https-github.com-UCSD-AI4H-COVID-CT/raw/refs/heads/master/Images-processed/CT_COVID.zip\n",
            "Reusing existing connection to github.com:443.\n",
            "HTTP request sent, awaiting response... 302 Found\n",
            "Location: https://raw.githubusercontent.com/desaisrkr/https-github.com-UCSD-AI4H-COVID-CT/refs/heads/master/Images-processed/CT_COVID.zip [following]\n",
            "--2024-10-21 22:58:47--  https://raw.githubusercontent.com/desaisrkr/https-github.com-UCSD-AI4H-COVID-CT/refs/heads/master/Images-processed/CT_COVID.zip\n",
            "Resolving raw.githubusercontent.com (raw.githubusercontent.com)... 185.199.108.133, 185.199.109.133, 185.199.110.133, ...\n",
            "Connecting to raw.githubusercontent.com (raw.githubusercontent.com)|185.199.108.133|:443... connected.\n",
            "HTTP request sent, awaiting response... 200 OK\n",
            "Length: 47929914 (46M) [application/zip]\n",
            "Saving to: ‘CT_Covid.zip’\n",
            "\n",
            "CT_Covid.zip        100%[===================>]  45.71M  35.6MB/s    in 1.3s    \n",
            "\n",
            "2024-10-21 22:58:49 (35.6 MB/s) - ‘CT_Covid.zip’ saved [47929914/47929914]\n",
            "\n"
          ]
        }
      ]
    },
    {
      "cell_type": "code",
      "metadata": {
        "id": "UoBobtNrRPAl",
        "colab": {
          "base_uri": "https://localhost:8080/"
        },
        "outputId": "2bb9d3c9-71c2-4de4-c125-6d74d6041dcf"
      },
      "source": [
        "# comprobamos que tenemos el dataset descargado\n",
        "!ls -lah"
      ],
      "execution_count": 7,
      "outputs": [
        {
          "output_type": "stream",
          "name": "stdout",
          "text": [
            "total 46M\n",
            "drwxr-xr-x 1 root root 4.0K Oct 21 22:58 .\n",
            "drwxr-xr-x 1 root root 4.0K Oct 21 22:57 ..\n",
            "drwxr-xr-x 4 root root 4.0K Oct 16 13:23 .config\n",
            "-rw-r--r-- 1 root root  46M Oct 21 22:58 CT_Covid.zip\n",
            "drwxr-xr-x 1 root root 4.0K Oct 16 13:24 sample_data\n"
          ]
        }
      ]
    },
    {
      "cell_type": "code",
      "metadata": {
        "id": "eqgap56DRoH7",
        "colab": {
          "base_uri": "https://localhost:8080/"
        },
        "outputId": "22144500-b90e-4781-e329-2d58b3e4a59a"
      },
      "source": [
        "# lo descomprimimos\n",
        "!unzip CT_Covid.zip"
      ],
      "execution_count": 8,
      "outputs": [
        {
          "output_type": "stream",
          "name": "stdout",
          "text": [
            "Archive:  CT_Covid.zip\n",
            "   creating: CT_COVID/\n",
            "  inflating: CT_COVID/2020.03.01.20029769-p21-73_1%1.png  \n",
            "   creating: __MACOSX/\n",
            "   creating: __MACOSX/CT_COVID/\n",
            "  inflating: __MACOSX/CT_COVID/._2020.03.01.20029769-p21-73_1%1.png  \n",
            "  inflating: CT_COVID/Recurrence-of-positive-SARS-CoV-2-RNA-in-C_2020_International-Journal-of-Inf-p1-21%1.png  \n",
            "  inflating: __MACOSX/CT_COVID/._Recurrence-of-positive-SARS-CoV-2-RNA-in-C_2020_International-Journal-of-Inf-p1-21%1.png  \n",
            "  inflating: CT_COVID/2020.03.12.20034686-p17-91-4.png  \n",
            "  inflating: __MACOSX/CT_COVID/._2020.03.12.20034686-p17-91-4.png  \n",
            "  inflating: CT_COVID/2020.02.25.20021568-p24-111%8.png  \n",
            "  inflating: __MACOSX/CT_COVID/._2020.02.25.20021568-p24-111%8.png  \n",
            "  inflating: CT_COVID/2020.03.13.20035212-p23-153.png  \n",
            "  inflating: __MACOSX/CT_COVID/._2020.03.13.20035212-p23-153.png  \n",
            "  inflating: CT_COVID/2020.03.21.20040691-p18-6-6.png  \n",
            "  inflating: __MACOSX/CT_COVID/._2020.03.21.20040691-p18-6-6.png  \n",
            "  inflating: CT_COVID/2020.03.04.20030395-p27-108%7.png  \n",
            "  inflating: __MACOSX/CT_COVID/._2020.03.04.20030395-p27-108%7.png  \n",
            "  inflating: CT_COVID/2020.02.22.20024927-p19-68%3.png  \n",
            "  inflating: __MACOSX/CT_COVID/._2020.02.22.20024927-p19-68%3.png  \n",
            "  inflating: CT_COVID/2020.03.07.20031393-p7-50%2.png  \n",
            "  inflating: __MACOSX/CT_COVID/._2020.03.07.20031393-p7-50%2.png  \n",
            "  inflating: CT_COVID/2020.03.09.20033118-p20-93%0.png  \n",
            "  inflating: __MACOSX/CT_COVID/._2020.03.09.20033118-p20-93%0.png  \n",
            "  inflating: CT_COVID/2020.03.09.20033118-p20-93%1.png  \n",
            "  inflating: __MACOSX/CT_COVID/._2020.03.09.20033118-p20-93%1.png  \n",
            "  inflating: CT_COVID/2020.03.07.20031393-p7-50%3.png  \n",
            "  inflating: __MACOSX/CT_COVID/._2020.03.07.20031393-p7-50%3.png  \n",
            "  inflating: CT_COVID/2020.02.22.20024927-p19-68%2.png  \n",
            "  inflating: __MACOSX/CT_COVID/._2020.02.22.20024927-p19-68%2.png  \n",
            "  inflating: CT_COVID/2020.03.04.20030395-p27-108%6.png  \n",
            "  inflating: __MACOSX/CT_COVID/._2020.03.04.20030395-p27-108%6.png  \n",
            "  inflating: CT_COVID/2020.03.13.20035212-p23-152.png  \n",
            "  inflating: __MACOSX/CT_COVID/._2020.03.13.20035212-p23-152.png  \n",
            "  inflating: CT_COVID/2020.03.22.20034041-p18-92-1.png  \n",
            "  inflating: __MACOSX/CT_COVID/._2020.03.22.20034041-p18-92-1.png  \n",
            "  inflating: CT_COVID/2020.02.25.20021568-p24-111%9.png  \n",
            "  inflating: __MACOSX/CT_COVID/._2020.02.25.20021568-p24-111%9.png  \n",
            "  inflating: CT_COVID/2020.03.12.20034686-p17-91-5.png  \n",
            "  inflating: __MACOSX/CT_COVID/._2020.03.12.20034686-p17-91-5.png  \n",
            "  inflating: CT_COVID/Recurrence-of-positive-SARS-CoV-2-RNA-in-C_2020_International-Journal-of-Inf-p1-21%0.png  \n",
            "  inflating: __MACOSX/CT_COVID/._Recurrence-of-positive-SARS-CoV-2-RNA-in-C_2020_International-Journal-of-Inf-p1-21%0.png  \n",
            "  inflating: CT_COVID/2020.03.01.20029769-p21-73_1%0.png  \n",
            "  inflating: __MACOSX/CT_COVID/._2020.03.01.20029769-p21-73_1%0.png  \n",
            "  inflating: CT_COVID/2020.03.01.20029769-p21-73_1%2.png  \n",
            "  inflating: __MACOSX/CT_COVID/._2020.03.01.20029769-p21-73_1%2.png  \n",
            "  inflating: CT_COVID/2020.02.26.20027938-p6-80_2%0.png  \n",
            "  inflating: __MACOSX/CT_COVID/._2020.02.26.20027938-p6-80_2%0.png  \n",
            "  inflating: CT_COVID/2020.03.22.20034041-p18-92-3.png  \n",
            "  inflating: __MACOSX/CT_COVID/._2020.03.22.20034041-p18-92-3.png  \n",
            "  inflating: CT_COVID/2020.02.17.20024018-p17-61%4.png  \n",
            "  inflating: __MACOSX/CT_COVID/._2020.02.17.20024018-p17-61%4.png  \n",
            "  inflating: CT_COVID/2020.03.04.20030395-p27-108%4.png  \n",
            "  inflating: __MACOSX/CT_COVID/._2020.03.04.20030395-p27-108%4.png  \n",
            "  inflating: CT_COVID/2020.02.22.20024927-p19-68%0.png  \n",
            "  inflating: __MACOSX/CT_COVID/._2020.02.22.20024927-p19-68%0.png  \n",
            "  inflating: CT_COVID/2020.03.09.20033118-p20-93%3.png  \n",
            "  inflating: __MACOSX/CT_COVID/._2020.03.09.20033118-p20-93%3.png  \n",
            "  inflating: CT_COVID/2020.03.07.20031393-p7-50%1.png  \n",
            "  inflating: __MACOSX/CT_COVID/._2020.03.07.20031393-p7-50%1.png  \n",
            "  inflating: CT_COVID/2020.03.07.20031393-p7-50%0.png  \n",
            "  inflating: __MACOSX/CT_COVID/._2020.03.07.20031393-p7-50%0.png  \n",
            "  inflating: CT_COVID/2020.03.09.20033118-p20-93%2.png  \n",
            "  inflating: __MACOSX/CT_COVID/._2020.03.09.20033118-p20-93%2.png  \n",
            "  inflating: CT_COVID/2020.02.22.20024927-p19-68%1.png  \n",
            "  inflating: __MACOSX/CT_COVID/._2020.02.22.20024927-p19-68%1.png  \n",
            "  inflating: CT_COVID/2020.03.04.20030395-p27-108%5.png  \n",
            "  inflating: __MACOSX/CT_COVID/._2020.03.04.20030395-p27-108%5.png  \n",
            "  inflating: CT_COVID/2020.03.22.20034041-p18-92-2.png  \n",
            "  inflating: __MACOSX/CT_COVID/._2020.03.22.20034041-p18-92-2.png  \n",
            "  inflating: CT_COVID/2020.03.12.20034686-p17-91-6.png  \n",
            "  inflating: __MACOSX/CT_COVID/._2020.03.12.20034686-p17-91-6.png  \n",
            "  inflating: CT_COVID/2020.02.26.20027938-p6-80_2%1.png  \n",
            "  inflating: __MACOSX/CT_COVID/._2020.02.26.20027938-p6-80_2%1.png  \n",
            "  inflating: CT_COVID/2020.02.22.20024927-p20-70%0.png  \n",
            "  inflating: __MACOSX/CT_COVID/._2020.02.22.20024927-p20-70%0.png  \n",
            "  inflating: CT_COVID/2020.03.12.20027185-p8-217.png  \n",
            "  inflating: __MACOSX/CT_COVID/._2020.03.12.20027185-p8-217.png  \n",
            "  inflating: CT_COVID/2020.02.10.20021584-p6-52%9.png  \n",
            "  inflating: __MACOSX/CT_COVID/._2020.02.10.20021584-p6-52%9.png  \n",
            "  inflating: CT_COVID/2020.03.12.20034686-p17-91-2.png  \n",
            "  inflating: __MACOSX/CT_COVID/._2020.03.12.20034686-p17-91-2.png  \n",
            "  inflating: CT_COVID/2020.03.26.20041426-p11-128.png  \n",
            "  inflating: __MACOSX/CT_COVID/._2020.03.26.20041426-p11-128.png  \n",
            "  inflating: CT_COVID/2020.03.19.20038539-p10-57.png  \n",
            "  inflating: __MACOSX/CT_COVID/._2020.03.19.20038539-p10-57.png  \n",
            "  inflating: CT_COVID/2020.02.17.20024018-p17-61%1.png  \n",
            "  inflating: __MACOSX/CT_COVID/._2020.02.17.20024018-p17-61%1.png  \n",
            "  inflating: CT_COVID/2020.03.04.20030395-p27-108%1.png  \n",
            "  inflating: __MACOSX/CT_COVID/._2020.03.04.20030395-p27-108%1.png  \n",
            "  inflating: CT_COVID/2020.03.13.20035212-p23-155.png  \n",
            "  inflating: __MACOSX/CT_COVID/._2020.03.13.20035212-p23-155.png  \n",
            "  inflating: CT_COVID/kjr-21-e24-p5-31.png  \n",
            "  inflating: __MACOSX/CT_COVID/._kjr-21-e24-p5-31.png  \n",
            "  inflating: CT_COVID/2020.02.22.20024927-p19-68%5.png  \n",
            "  inflating: __MACOSX/CT_COVID/._2020.02.22.20024927-p19-68%5.png  \n",
            "  inflating: CT_COVID/2020.02.22.20024927-p19-68%4.png  \n",
            "  inflating: __MACOSX/CT_COVID/._2020.02.22.20024927-p19-68%4.png  \n",
            "  inflating: CT_COVID/2020.03.13.20035212-p23-154.png  \n",
            "  inflating: __MACOSX/CT_COVID/._2020.03.13.20035212-p23-154.png  \n",
            "  inflating: CT_COVID/2020.03.04.20030395-p27-108%0.png  \n",
            "  inflating: __MACOSX/CT_COVID/._2020.03.04.20030395-p27-108%0.png  \n",
            "  inflating: CT_COVID/2020.02.17.20024018-p17-61%0.png  \n",
            "  inflating: __MACOSX/CT_COVID/._2020.02.17.20024018-p17-61%0.png  \n",
            "  inflating: CT_COVID/2020.03.12.20034686-p17-91-3.png  \n",
            "  inflating: __MACOSX/CT_COVID/._2020.03.12.20034686-p17-91-3.png  \n",
            "  inflating: CT_COVID/2020.02.10.20021584-p6-52%8.png  \n",
            "  inflating: __MACOSX/CT_COVID/._2020.02.10.20021584-p6-52%8.png  \n",
            "  inflating: CT_COVID/2020.03.12.20027185-p8-216.png  \n",
            "  inflating: __MACOSX/CT_COVID/._2020.03.12.20027185-p8-216.png  \n",
            "  inflating: CT_COVID/2020.02.22.20024927-p20-70%1.png  \n",
            "  inflating: __MACOSX/CT_COVID/._2020.02.22.20024927-p20-70%1.png  \n",
            "  inflating: CT_COVID/2020.02.22.20024927-p20-70%3.png  \n",
            "  inflating: __MACOSX/CT_COVID/._2020.02.22.20024927-p20-70%3.png  \n",
            "  inflating: CT_COVID/2020.03.12.20034686-p17-91-1.png  \n",
            "  inflating: __MACOSX/CT_COVID/._2020.03.12.20034686-p17-91-1.png  \n",
            "  inflating: CT_COVID/2020.02.17.20024018-p17-61%2.png  \n",
            "  inflating: __MACOSX/CT_COVID/._2020.02.17.20024018-p17-61%2.png  \n",
            "  inflating: CT_COVID/2020.02.26.20026989-p34-114_1%0.png  \n",
            "  inflating: __MACOSX/CT_COVID/._2020.02.26.20026989-p34-114_1%0.png  \n",
            "  inflating: CT_COVID/2020.03.04.20030395-p27-108%2.png  \n",
            "  inflating: __MACOSX/CT_COVID/._2020.03.04.20030395-p27-108%2.png  \n",
            "  inflating: CT_COVID/2020.03.13.20035212-p23-156.png  \n",
            "  inflating: __MACOSX/CT_COVID/._2020.03.13.20035212-p23-156.png  \n",
            "  inflating: CT_COVID/2020.03.13.20035212-p23-157.png  \n",
            "  inflating: __MACOSX/CT_COVID/._2020.03.13.20035212-p23-157.png  \n",
            "  inflating: CT_COVID/2020.03.04.20030395-p27-108%3.png  \n",
            "  inflating: __MACOSX/CT_COVID/._2020.03.04.20030395-p27-108%3.png  \n",
            "  inflating: CT_COVID/2020.02.26.20026989-p34-114_1%1.png  \n",
            "  inflating: __MACOSX/CT_COVID/._2020.02.26.20026989-p34-114_1%1.png  \n",
            "  inflating: CT_COVID/2020.02.17.20024018-p17-61%3.png  \n",
            "  inflating: __MACOSX/CT_COVID/._2020.02.17.20024018-p17-61%3.png  \n",
            "  inflating: CT_COVID/2020.02.22.20024927-p20-70%2.png  \n",
            "  inflating: __MACOSX/CT_COVID/._2020.02.22.20024927-p20-70%2.png  \n",
            "  inflating: CT_COVID/2020.03.16.20036145-p19-128-3.png  \n",
            "  inflating: __MACOSX/CT_COVID/._2020.03.16.20036145-p19-128-3.png  \n",
            "  inflating: CT_COVID/2020.03.25.20037721-p27-174.png  \n",
            "  inflating: __MACOSX/CT_COVID/._2020.03.25.20037721-p27-174.png  \n",
            "  inflating: CT_COVID/Comparison-of-different-samples-for-2019-novel-cor_2020_International-Journa-p2-21%8.png  \n",
            "  inflating: __MACOSX/CT_COVID/._Comparison-of-different-samples-for-2019-novel-cor_2020_International-Journa-p2-21%8.png  \n",
            "  inflating: CT_COVID/PIIS0140673620303603%4.png  \n",
            "  inflating: __MACOSX/CT_COVID/._PIIS0140673620303603%4.png  \n",
            "  inflating: CT_COVID/2020.03.25.20043166-p17-81.png  \n",
            "  inflating: __MACOSX/CT_COVID/._2020.03.25.20043166-p17-81.png  \n",
            "  inflating: CT_COVID/2020.02.11.20021493-p16-109%1.png  \n",
            "  inflating: __MACOSX/CT_COVID/._2020.02.11.20021493-p16-109%1.png  \n",
            "  inflating: CT_COVID/2020.03.01.20029769-p21-73_2%0.png  \n",
            "  inflating: __MACOSX/CT_COVID/._2020.03.01.20029769-p21-73_2%0.png  \n",
            "  inflating: CT_COVID/2020.02.19.20025023-p20-93%2.png  \n",
            "  inflating: __MACOSX/CT_COVID/._2020.02.19.20025023-p20-93%2.png  \n",
            "  inflating: CT_COVID/2020.02.24.20027052-p8-73%2.png  \n",
            "  inflating: __MACOSX/CT_COVID/._2020.02.24.20027052-p8-73%2.png  \n",
            "  inflating: CT_COVID/2020.03.21.20040691-p18-67-7.png  \n",
            "  inflating: __MACOSX/CT_COVID/._2020.03.21.20040691-p18-67-7.png  \n",
            "  inflating: CT_COVID/2020.02.26.20027938-p6-80_3%0.png  \n",
            "  inflating: __MACOSX/CT_COVID/._2020.02.26.20027938-p6-80_3%0.png  \n",
            "  inflating: CT_COVID/2020.03.18.20038125-p16-56-6.png  \n",
            "  inflating: __MACOSX/CT_COVID/._2020.03.18.20038125-p16-56-6.png  \n",
            "  inflating: CT_COVID/2020.02.24.20027201-p19-669.png  \n",
            "  inflating: __MACOSX/CT_COVID/._2020.02.24.20027201-p19-669.png  \n",
            "  inflating: CT_COVID/2020.02.26.20027938-p6-80_3%1.png  \n",
            "  inflating: __MACOSX/CT_COVID/._2020.02.26.20027938-p6-80_3%1.png  \n",
            "  inflating: CT_COVID/2020.03.22.20040782-p24-1533-1.png  \n",
            "  inflating: __MACOSX/CT_COVID/._2020.03.22.20040782-p24-1533-1.png  \n",
            "  inflating: CT_COVID/2020.02.24.20027052-p8-73%3.png  \n",
            "  inflating: __MACOSX/CT_COVID/._2020.02.24.20027052-p8-73%3.png  \n",
            "  inflating: CT_COVID/2020.02.19.20025023-p20-93%3.png  \n",
            "  inflating: __MACOSX/CT_COVID/._2020.02.19.20025023-p20-93%3.png  \n",
            "  inflating: CT_COVID/2020.03.01.20029769-p21-73_2%1.png  \n",
            "  inflating: __MACOSX/CT_COVID/._2020.03.01.20029769-p21-73_2%1.png  \n",
            "  inflating: CT_COVID/2020.02.11.20021493-p16-109%0.png  \n",
            "  inflating: __MACOSX/CT_COVID/._2020.02.11.20021493-p16-109%0.png  \n",
            "  inflating: CT_COVID/2020.03.25.20043166-p17-80.png  \n",
            "  inflating: __MACOSX/CT_COVID/._2020.03.25.20043166-p17-80.png  \n",
            "  inflating: CT_COVID/PIIS0140673620303603%5.png  \n",
            "  inflating: __MACOSX/CT_COVID/._PIIS0140673620303603%5.png  \n",
            "  inflating: CT_COVID/Comparison-of-different-samples-for-2019-novel-cor_2020_International-Journa-p2-21%9.png  \n",
            "  inflating: __MACOSX/CT_COVID/._Comparison-of-different-samples-for-2019-novel-cor_2020_International-Journa-p2-21%9.png  \n",
            "  inflating: CT_COVID/2020.03.22.20034041-p17-80-1.png  \n",
            "  inflating: __MACOSX/CT_COVID/._2020.03.22.20034041-p17-80-1.png  \n",
            "  inflating: CT_COVID/2020.03.16.20036145-p19-128-2.png  \n",
            "  inflating: __MACOSX/CT_COVID/._2020.03.16.20036145-p19-128-2.png  \n",
            "  inflating: CT_COVID/2020.03.01.20029769-p21-73_4.png  \n",
            "  inflating: __MACOSX/CT_COVID/._2020.03.01.20029769-p21-73_4.png  \n",
            "  inflating: CT_COVID/PIIS0140673620303603%7.png  \n",
            "  inflating: __MACOSX/CT_COVID/._PIIS0140673620303603%7.png  \n",
            "  inflating: CT_COVID/2020.02.11.20021493-p16-109%2.png  \n",
            "  inflating: __MACOSX/CT_COVID/._2020.02.11.20021493-p16-109%2.png  \n",
            "  inflating: CT_COVID/2020.02.26.20027938-p6-80_1%1.png  \n",
            "  inflating: __MACOSX/CT_COVID/._2020.02.26.20027938-p6-80_1%1.png  \n",
            "  inflating: CT_COVID/2020.02.24.20027052-p8-73%1.png  \n",
            "  inflating: __MACOSX/CT_COVID/._2020.02.24.20027052-p8-73%1.png  \n",
            "  inflating: CT_COVID/2020.02.19.20025023-p20-93%1.png  \n",
            "  inflating: __MACOSX/CT_COVID/._2020.02.19.20025023-p20-93%1.png  \n",
            "  inflating: CT_COVID/2020.03.21.20040691-p18-67-4.png  \n",
            "  inflating: __MACOSX/CT_COVID/._2020.03.21.20040691-p18-67-4.png  \n",
            "  inflating: CT_COVID/2020.03.22.20040782-p24-1533-3.png  \n",
            "  inflating: __MACOSX/CT_COVID/._2020.03.22.20040782-p24-1533-3.png  \n",
            "  inflating: CT_COVID/2020.03.18.20038125-p16-56-5.png  \n",
            "  inflating: __MACOSX/CT_COVID/._2020.03.18.20038125-p16-56-5.png  \n",
            "  inflating: CT_COVID/2020.03.18.20038125-p16-56-4.png  \n",
            "  inflating: __MACOSX/CT_COVID/._2020.03.18.20038125-p16-56-4.png  \n",
            "  inflating: CT_COVID/2020.03.22.20040782-p24-1533-2.png  \n",
            "  inflating: __MACOSX/CT_COVID/._2020.03.22.20040782-p24-1533-2.png  \n",
            "  inflating: CT_COVID/2020.03.21.20040691-p18-67-5.png  \n",
            "  inflating: __MACOSX/CT_COVID/._2020.03.21.20040691-p18-67-5.png  \n",
            "  inflating: CT_COVID/2020.02.19.20025023-p20-93%0.png  \n",
            "  inflating: __MACOSX/CT_COVID/._2020.02.19.20025023-p20-93%0.png  \n",
            "  inflating: CT_COVID/2020.02.24.20027052-p8-73%0.png  \n",
            "  inflating: __MACOSX/CT_COVID/._2020.02.24.20027052-p8-73%0.png  \n",
            "  inflating: CT_COVID/2020.02.26.20027938-p6-80_1%0.png  \n",
            "  inflating: __MACOSX/CT_COVID/._2020.02.26.20027938-p6-80_1%0.png  \n",
            "  inflating: CT_COVID/2020.03.01.20029769-p21-73_2%2.png  \n",
            "  inflating: __MACOSX/CT_COVID/._2020.03.01.20029769-p21-73_2%2.png  \n",
            "  inflating: CT_COVID/med-9780198814924-chapter-17-p10-515.png  \n",
            "  inflating: __MACOSX/CT_COVID/._med-9780198814924-chapter-17-p10-515.png  \n",
            "  inflating: CT_COVID/PIIS0140673620303603%6.png  \n",
            "  inflating: __MACOSX/CT_COVID/._PIIS0140673620303603%6.png  \n",
            "  inflating: CT_COVID/2020.03.22.20034041-p17-80-2.png  \n",
            "  inflating: __MACOSX/CT_COVID/._2020.03.22.20034041-p17-80-2.png  \n",
            "  inflating: CT_COVID/2020.03.16.20036145-p19-128-1.png  \n",
            "  inflating: __MACOSX/CT_COVID/._2020.03.16.20036145-p19-128-1.png  \n",
            "  inflating: CT_COVID/2020.03.03.20030775-p12-93%1.png  \n",
            "  inflating: __MACOSX/CT_COVID/._2020.03.03.20030775-p12-93%1.png  \n",
            "  inflating: CT_COVID/2020.03.25.20037721-p27-172.png  \n",
            "  inflating: __MACOSX/CT_COVID/._2020.03.25.20037721-p27-172.png  \n",
            "  inflating: CT_COVID/2020.03.25.20043166-p17-78.png  \n",
            "  inflating: __MACOSX/CT_COVID/._2020.03.25.20043166-p17-78.png  \n",
            "  inflating: CT_COVID/PIIS0140673620303603%2.png  \n",
            "  inflating: __MACOSX/CT_COVID/._PIIS0140673620303603%2.png  \n",
            "  inflating: CT_COVID/2020.03.22.20040782-p24-1533-6.png  \n",
            "  inflating: __MACOSX/CT_COVID/._2020.03.22.20040782-p24-1533-6.png  \n",
            "  inflating: CT_COVID/2020.02.25.20021568-p23-108%8.png  \n",
            "  inflating: __MACOSX/CT_COVID/._2020.02.25.20021568-p23-108%8.png  \n",
            "  inflating: CT_COVID/2020.03.21.20040691-p18-67-1.png  \n",
            "  inflating: __MACOSX/CT_COVID/._2020.03.21.20040691-p18-67-1.png  \n",
            "  inflating: CT_COVID/2019-novel-Coronavirus-severe-adult-respiratory-dist_2020_International-Jour-p3-89%1.png  \n",
            "  inflating: __MACOSX/CT_COVID/._2019-novel-Coronavirus-severe-adult-respiratory-dist_2020_International-Jour-p3-89%1.png  \n",
            "  inflating: CT_COVID/2019-novel-Coronavirus-severe-adult-respiratory-dist_2020_International-Jour-p3-89%0.png  \n",
            "  inflating: __MACOSX/CT_COVID/._2019-novel-Coronavirus-severe-adult-respiratory-dist_2020_International-Jour-p3-89%0.png  \n",
            "  inflating: CT_COVID/2020.03.18.20038125-p16-56-1.png  \n",
            "  inflating: __MACOSX/CT_COVID/._2020.03.18.20038125-p16-56-1.png  \n",
            "  inflating: CT_COVID/2020.03.22.20040782-p24-1533-7.png  \n",
            "  inflating: __MACOSX/CT_COVID/._2020.03.22.20040782-p24-1533-7.png  \n",
            "  inflating: CT_COVID/2020.02.25.20021568-p23-108%9.png  \n",
            "  inflating: __MACOSX/CT_COVID/._2020.02.25.20021568-p23-108%9.png  \n",
            "  inflating: CT_COVID/PIIS0140673620303603%3.png  \n",
            "  inflating: __MACOSX/CT_COVID/._PIIS0140673620303603%3.png  \n",
            "  inflating: CT_COVID/2020.03.25.20043166-p17-79.png  \n",
            "  inflating: __MACOSX/CT_COVID/._2020.03.25.20043166-p17-79.png  \n",
            "  inflating: CT_COVID/2020.03.25.20037721-p27-173.png  \n",
            "  inflating: __MACOSX/CT_COVID/._2020.03.25.20037721-p27-173.png  \n",
            "  inflating: CT_COVID/kjr-21-e25-p1-6.png  \n",
            "  inflating: __MACOSX/CT_COVID/._kjr-21-e25-p1-6.png  \n",
            "  inflating: CT_COVID/2020.03.16.20036145-p19-128-4.png  \n",
            "  inflating: __MACOSX/CT_COVID/._2020.03.16.20036145-p19-128-4.png  \n",
            "  inflating: CT_COVID/2020.03.03.20030775-p12-93%0.png  \n",
            "  inflating: __MACOSX/CT_COVID/._2020.03.03.20030775-p12-93%0.png  \n",
            "  inflating: CT_COVID/2020.03.25.20037721-p27-165.png  \n",
            "  inflating: __MACOSX/CT_COVID/._2020.03.25.20037721-p27-165.png  \n",
            "  inflating: CT_COVID/2020.02.26.20026989-p34-114_2%1.png  \n",
            "  inflating: __MACOSX/CT_COVID/._2020.02.26.20026989-p34-114_2%1.png  \n",
            "  inflating: CT_COVID/PIIS0140673620303603%1.png  \n",
            "  inflating: __MACOSX/CT_COVID/._PIIS0140673620303603%1.png  \n",
            "  inflating: CT_COVID/PIIS0140673620301549_0%1.png  \n",
            "  inflating: __MACOSX/CT_COVID/._PIIS0140673620301549_0%1.png  \n",
            "  inflating: CT_COVID/2020.03.22.20040782-p24-1533-5.png  \n",
            "  inflating: __MACOSX/CT_COVID/._2020.03.22.20040782-p24-1533-5.png  \n",
            "  inflating: CT_COVID/2020.03.21.20040691-p18-67-2.png  \n",
            "  inflating: __MACOSX/CT_COVID/._2020.03.21.20040691-p18-67-2.png  \n",
            "  inflating: CT_COVID/2020.03.18.20038125-p16-56-3.png  \n",
            "  inflating: __MACOSX/CT_COVID/._2020.03.18.20038125-p16-56-3.png  \n",
            "  inflating: CT_COVID/2020.03.18.20038125-p16-56-2.png  \n",
            "  inflating: __MACOSX/CT_COVID/._2020.03.18.20038125-p16-56-2.png  \n",
            "  inflating: CT_COVID/2020.03.21.20040691-p18-67-3.png  \n",
            "  inflating: __MACOSX/CT_COVID/._2020.03.21.20040691-p18-67-3.png  \n",
            "  inflating: CT_COVID/2020.03.22.20040782-p24-1533-4.png  \n",
            "  inflating: __MACOSX/CT_COVID/._2020.03.22.20040782-p24-1533-4.png  \n",
            "  inflating: CT_COVID/PIIS0140673620301549_0%0.png  \n",
            "  inflating: __MACOSX/CT_COVID/._PIIS0140673620301549_0%0.png  \n",
            "  inflating: CT_COVID/PIIS0140673620303603%0.png  \n",
            "  inflating: __MACOSX/CT_COVID/._PIIS0140673620303603%0.png  \n",
            "  inflating: CT_COVID/2020.02.26.20026989-p34-114_2%0.png  \n",
            "  inflating: __MACOSX/CT_COVID/._2020.02.26.20026989-p34-114_2%0.png  \n",
            "  inflating: CT_COVID/2020.03.01.20029769-p21-73_3.png  \n",
            "  inflating: __MACOSX/CT_COVID/._2020.03.01.20029769-p21-73_3.png  \n",
            "  inflating: CT_COVID/2020.03.25.20037721-p27-182.png  \n",
            "  inflating: __MACOSX/CT_COVID/._2020.03.25.20037721-p27-182.png  \n",
            "  inflating: CT_COVID/kjr-21-e25-p1-8.png  \n",
            "  inflating: __MACOSX/CT_COVID/._kjr-21-e25-p1-8.png  \n",
            "  inflating: CT_COVID/Comparison-of-different-samples-for-2019-novel-cor_2020_International-Journa-p2-21%1.png  \n",
            "  inflating: __MACOSX/CT_COVID/._Comparison-of-different-samples-for-2019-novel-cor_2020_International-Journa-p2-21%1.png  \n",
            "  inflating: CT_COVID/2020.02.23.20026856-p17-115%4.png  \n",
            "  inflating: __MACOSX/CT_COVID/._2020.02.23.20026856-p17-115%4.png  \n",
            "  inflating: CT_COVID/2020.03.16.20035105-p6-64-4.png  \n",
            "  inflating: __MACOSX/CT_COVID/._2020.03.16.20035105-p6-64-4.png  \n",
            "  inflating: CT_COVID/impact_of_covid19_infection_on_pregnancy_outcomes_and_the_risk_of_maternaltoneonatal_intrapartum_transmission_of_covid19_during_natural_birth-p8-41%1.png  \n",
            "  inflating: __MACOSX/CT_COVID/._impact_of_covid19_infection_on_pregnancy_outcomes_and_the_risk_of_maternaltoneonatal_intrapartum_transmission_of_covid19_during_natural_birth-p8-41%1.png  \n",
            "  inflating: CT_COVID/bmj.m606.full-p4-22%2.png  \n",
            "  inflating: __MACOSX/CT_COVID/._bmj.m606.full-p4-22%2.png  \n",
            "  inflating: CT_COVID/2020.03.11.20033159-p12-45%1.png  \n",
            "  inflating: __MACOSX/CT_COVID/._2020.03.11.20033159-p12-45%1.png  \n",
            "  inflating: CT_COVID/2020.03.22.20040782-p25-1545.png  \n",
            "  inflating: __MACOSX/CT_COVID/._2020.03.22.20040782-p25-1545.png  \n",
            "  inflating: CT_COVID/2020.03.20.20037325-p23-122.png  \n",
            "  inflating: __MACOSX/CT_COVID/._2020.03.20.20037325-p23-122.png  \n",
            "  inflating: CT_COVID/2020.02.25.20021568-p23-108%7.png  \n",
            "  inflating: __MACOSX/CT_COVID/._2020.02.25.20021568-p23-108%7.png  \n",
            "  inflating: CT_COVID/Ni2020_Article_CombinationOfWesternMedicineAn-p3-10%0.png  \n",
            "  inflating: __MACOSX/CT_COVID/._Ni2020_Article_CombinationOfWesternMedicineAn-p3-10%0.png  \n",
            "  inflating: CT_COVID/Ni2020_Article_CombinationOfWesternMedicineAn-p3-10%1.png  \n",
            "  inflating: __MACOSX/CT_COVID/._Ni2020_Article_CombinationOfWesternMedicineAn-p3-10%1.png  \n",
            "  inflating: CT_COVID/PIIS0140673620302117_2.png  \n",
            "  inflating: __MACOSX/CT_COVID/._PIIS0140673620302117_2.png  \n",
            "  inflating: CT_COVID/2020.02.25.20021568-p23-108%6.png  \n",
            "  inflating: __MACOSX/CT_COVID/._2020.02.25.20021568-p23-108%6.png  \n",
            "  inflating: CT_COVID/2020.03.22.20040782-p24-1533-8.png  \n",
            "  inflating: __MACOSX/CT_COVID/._2020.03.22.20040782-p24-1533-8.png  \n",
            "  inflating: CT_COVID/2020.03.20.20037325-p23-123.png  \n",
            "  inflating: __MACOSX/CT_COVID/._2020.03.20.20037325-p23-123.png  \n",
            "  inflating: CT_COVID/2020.03.22.20040782-p25-1544.png  \n",
            "  inflating: __MACOSX/CT_COVID/._2020.03.22.20040782-p25-1544.png  \n",
            "  inflating: CT_COVID/2020.03.11.20033159-p12-45%0.png  \n",
            "  inflating: __MACOSX/CT_COVID/._2020.03.11.20033159-p12-45%0.png  \n",
            "  inflating: CT_COVID/bmj.m606.full-p4-22%3.png  \n",
            "  inflating: __MACOSX/CT_COVID/._bmj.m606.full-p4-22%3.png  \n",
            "  inflating: CT_COVID/2020.02.23.20026856-p17-115%5.png  \n",
            "  inflating: __MACOSX/CT_COVID/._2020.02.23.20026856-p17-115%5.png  \n",
            "  inflating: CT_COVID/Comparison-of-different-samples-for-2019-novel-cor_2020_International-Journa-p2-21%0.png  \n",
            "  inflating: __MACOSX/CT_COVID/._Comparison-of-different-samples-for-2019-novel-cor_2020_International-Journa-p2-21%0.png  \n",
            "  inflating: CT_COVID/2020.03.25.20037721-p27-181.png  \n",
            "  inflating: __MACOSX/CT_COVID/._2020.03.25.20037721-p27-181.png  \n",
            "  inflating: CT_COVID/2020.03.10.20032136-p34-118_1%0.png  \n",
            "  inflating: __MACOSX/CT_COVID/._2020.03.10.20032136-p34-118_1%0.png  \n",
            "  inflating: CT_COVID/Comparison-of-different-samples-for-2019-novel-cor_2020_International-Journa-p2-21%2.png  \n",
            "  inflating: __MACOSX/CT_COVID/._Comparison-of-different-samples-for-2019-novel-cor_2020_International-Journa-p2-21%2.png  \n",
            "  inflating: CT_COVID/Comparison-of-different-samples-for-2019-novel-cor_2020_International-Journa-p2-21%11.png  \n",
            "  inflating: __MACOSX/CT_COVID/._Comparison-of-different-samples-for-2019-novel-cor_2020_International-Journa-p2-21%11.png  \n",
            "  inflating: CT_COVID/bmj.m606.full-p4-22%1.png  \n",
            "  inflating: __MACOSX/CT_COVID/._bmj.m606.full-p4-22%1.png  \n",
            "  inflating: CT_COVID/2020.03.11.20033159-p12-45%2.png  \n",
            "  inflating: __MACOSX/CT_COVID/._2020.03.11.20033159-p12-45%2.png  \n",
            "  inflating: CT_COVID/2020.03.22.20040782-p25-1546.png  \n",
            "  inflating: __MACOSX/CT_COVID/._2020.03.22.20040782-p25-1546.png  \n",
            "  inflating: CT_COVID/2020.02.25.20021568-p23-108%4.png  \n",
            "  inflating: __MACOSX/CT_COVID/._2020.02.25.20021568-p23-108%4.png  \n",
            "  inflating: CT_COVID/2020.03.20.20037325-p23-121.png  \n",
            "  inflating: __MACOSX/CT_COVID/._2020.03.20.20037325-p23-121.png  \n",
            "  inflating: CT_COVID/2020.02.27.20027557-p25-137%4.png  \n",
            "  inflating: __MACOSX/CT_COVID/._2020.02.27.20027557-p25-137%4.png  \n",
            "  inflating: CT_COVID/2020.03.08.20031658-p15-103.png  \n",
            "  inflating: __MACOSX/CT_COVID/._2020.03.08.20031658-p15-103.png  \n",
            "  inflating: CT_COVID/PIIS0140673620302117_1.png  \n",
            "  inflating: __MACOSX/CT_COVID/._PIIS0140673620302117_1.png  \n",
            "  inflating: CT_COVID/2020.02.25.20021568-p23-108%5.png  \n",
            "  inflating: __MACOSX/CT_COVID/._2020.02.25.20021568-p23-108%5.png  \n",
            "  inflating: CT_COVID/2020.03.11.20033159-p12-45%3.png  \n",
            "  inflating: __MACOSX/CT_COVID/._2020.03.11.20033159-p12-45%3.png  \n",
            "  inflating: CT_COVID/bmj.m606.full-p4-22%0.png  \n",
            "  inflating: __MACOSX/CT_COVID/._bmj.m606.full-p4-22%0.png  \n",
            "  inflating: CT_COVID/impact_of_covid19_infection_on_pregnancy_outcomes_and_the_risk_of_maternaltoneonatal_intrapartum_transmission_of_covid19_during_natural_birth-p8-41%3.png  \n",
            "  inflating: __MACOSX/CT_COVID/._impact_of_covid19_infection_on_pregnancy_outcomes_and_the_risk_of_maternaltoneonatal_intrapartum_transmission_of_covid19_during_natural_birth-p8-41%3.png  \n",
            "  inflating: CT_COVID/kjr-21-e24-p3-16.png  \n",
            "  inflating: __MACOSX/CT_COVID/._kjr-21-e24-p3-16.png  \n",
            "  inflating: CT_COVID/Comparison-of-different-samples-for-2019-novel-cor_2020_International-Journa-p2-21%10.png  \n",
            "  inflating: __MACOSX/CT_COVID/._Comparison-of-different-samples-for-2019-novel-cor_2020_International-Journa-p2-21%10.png  \n",
            "  inflating: CT_COVID/Comparison-of-different-samples-for-2019-novel-cor_2020_International-Journa-p2-21%3.png  \n",
            "  inflating: __MACOSX/CT_COVID/._Comparison-of-different-samples-for-2019-novel-cor_2020_International-Journa-p2-21%3.png  \n",
            "  inflating: CT_COVID/2020.03.10.20032136-p34-118_1%1.png  \n",
            "  inflating: __MACOSX/CT_COVID/._2020.03.10.20032136-p34-118_1%1.png  \n",
            "  inflating: CT_COVID/Comparison-of-different-samples-for-2019-novel-cor_2020_International-Journa-p2-21%7.png  \n",
            "  inflating: __MACOSX/CT_COVID/._Comparison-of-different-samples-for-2019-novel-cor_2020_International-Journa-p2-21%7.png  \n",
            "  inflating: CT_COVID/Ni2020_Article_CombinationOfWesternMedicineAn-p4-13%1.png  \n",
            "  inflating: __MACOSX/CT_COVID/._Ni2020_Article_CombinationOfWesternMedicineAn-p4-13%1.png  \n",
            "  inflating: CT_COVID/2020.03.22.20034041-p16-66.png  \n",
            "  inflating: __MACOSX/CT_COVID/._2020.03.22.20034041-p16-66.png  \n",
            "  inflating: CT_COVID/2020.03.16.20035105-p6-64-2.png  \n",
            "  inflating: __MACOSX/CT_COVID/._2020.03.16.20035105-p6-64-2.png  \n",
            "  inflating: CT_COVID/2020.02.23.20026856-p17-115%2.png  \n",
            "  inflating: __MACOSX/CT_COVID/._2020.02.23.20026856-p17-115%2.png  \n",
            "  inflating: CT_COVID/ehaa254-p0-63%3.png  \n",
            "  inflating: __MACOSX/CT_COVID/._ehaa254-p0-63%3.png  \n",
            "  inflating: CT_COVID/2020.03.04.20031047-p12-81%0.png  \n",
            "  inflating: __MACOSX/CT_COVID/._2020.03.04.20031047-p12-81%0.png  \n",
            "  inflating: CT_COVID/bmj.m606.full-p4-22%4.png  \n",
            "  inflating: __MACOSX/CT_COVID/._bmj.m606.full-p4-22%4.png  \n",
            "  inflating: CT_COVID/2020.03.22.20040782-p25-1543.png  \n",
            "  inflating: __MACOSX/CT_COVID/._2020.03.22.20040782-p25-1543.png  \n",
            "  inflating: CT_COVID/2020.02.11.20022053-p12-67%0.png  \n",
            "  inflating: __MACOSX/CT_COVID/._2020.02.11.20022053-p12-67%0.png  \n",
            "  inflating: CT_COVID/2020.02.27.20027557-p25-137%0.png  \n",
            "  inflating: __MACOSX/CT_COVID/._2020.02.27.20027557-p25-137%0.png  \n",
            "  inflating: CT_COVID/2020.03.21.20040691-p18-67-8.png  \n",
            "  inflating: __MACOSX/CT_COVID/._2020.03.21.20040691-p18-67-8.png  \n",
            "  inflating: CT_COVID/Talaromyces-marneffei-infection-relapse-presenting-as-ost_2020_International-p1-12%1.png  \n",
            "  inflating: __MACOSX/CT_COVID/._Talaromyces-marneffei-infection-relapse-presenting-as-ost_2020_International-p1-12%1.png  \n",
            "  inflating: CT_COVID/2020.02.25.20021568-p23-108%1.png  \n",
            "  inflating: __MACOSX/CT_COVID/._2020.02.25.20021568-p23-108%1.png  \n",
            "  inflating: CT_COVID/2020.03.20.20037325-p23-124.png  \n",
            "  inflating: __MACOSX/CT_COVID/._2020.03.20.20037325-p23-124.png  \n",
            "  inflating: CT_COVID/2020.02.25.20021568-p23-108%0.png  \n",
            "  inflating: __MACOSX/CT_COVID/._2020.02.25.20021568-p23-108%0.png  \n",
            "  inflating: CT_COVID/2020.02.27.20027557-p25-137%1.png  \n",
            "  inflating: __MACOSX/CT_COVID/._2020.02.27.20027557-p25-137%1.png  \n",
            "  inflating: CT_COVID/Talaromyces-marneffei-infection-relapse-presenting-as-ost_2020_International-p1-12%0.png  \n",
            "  inflating: __MACOSX/CT_COVID/._Talaromyces-marneffei-infection-relapse-presenting-as-ost_2020_International-p1-12%0.png  \n",
            "  inflating: CT_COVID/2020.03.08.20031658-p15-106.png  \n",
            "  inflating: __MACOSX/CT_COVID/._2020.03.08.20031658-p15-106.png  \n",
            "  inflating: CT_COVID/2020.02.11.20022053-p12-67%1.png  \n",
            "  inflating: __MACOSX/CT_COVID/._2020.02.11.20022053-p12-67%1.png  \n",
            "  inflating: CT_COVID/2020.03.22.20040782-p25-1542.png  \n",
            "  inflating: __MACOSX/CT_COVID/._2020.03.22.20040782-p25-1542.png  \n",
            "  inflating: CT_COVID/bmj.m606.full-p4-22%5.png  \n",
            "  inflating: __MACOSX/CT_COVID/._bmj.m606.full-p4-22%5.png  \n",
            "  inflating: CT_COVID/2020.03.04.20031047-p12-81%1.png  \n",
            "  inflating: __MACOSX/CT_COVID/._2020.03.04.20031047-p12-81%1.png  \n",
            "  inflating: CT_COVID/2020.03.04.20031039-p23-97_2%2.png  \n",
            "  inflating: __MACOSX/CT_COVID/._2020.03.04.20031039-p23-97_2%2.png  \n",
            "  inflating: CT_COVID/ehaa254-p0-63%2.png  \n",
            "  inflating: __MACOSX/CT_COVID/._ehaa254-p0-63%2.png  \n",
            "  inflating: CT_COVID/2020.02.23.20026856-p17-115%3.png  \n",
            "  inflating: __MACOSX/CT_COVID/._2020.02.23.20026856-p17-115%3.png  \n",
            "  inflating: CT_COVID/2020.03.16.20035105-p6-64-3.png  \n",
            "  inflating: __MACOSX/CT_COVID/._2020.03.16.20035105-p6-64-3.png  \n",
            "  inflating: CT_COVID/2020.03.03.20030353-p17-106%2.png  \n",
            "  inflating: __MACOSX/CT_COVID/._2020.03.03.20030353-p17-106%2.png  \n",
            "  inflating: CT_COVID/Ni2020_Article_CombinationOfWesternMedicineAn-p4-13%0.png  \n",
            "  inflating: __MACOSX/CT_COVID/._Ni2020_Article_CombinationOfWesternMedicineAn-p4-13%0.png  \n",
            "  inflating: CT_COVID/Comparison-of-different-samples-for-2019-novel-cor_2020_International-Journa-p2-21%6.png  \n",
            "  inflating: __MACOSX/CT_COVID/._Comparison-of-different-samples-for-2019-novel-cor_2020_International-Journa-p2-21%6.png  \n",
            "  inflating: CT_COVID/2020.02.28.20029025-p23-182.png  \n",
            "  inflating: __MACOSX/CT_COVID/._2020.02.28.20029025-p23-182.png  \n",
            "  inflating: CT_COVID/Comparison-of-different-samples-for-2019-novel-cor_2020_International-Journa-p2-21%4.png  \n",
            "  inflating: __MACOSX/CT_COVID/._Comparison-of-different-samples-for-2019-novel-cor_2020_International-Journa-p2-21%4.png  \n",
            "  inflating: CT_COVID/PIIS0140673620303603%8.png  \n",
            "  inflating: __MACOSX/CT_COVID/._PIIS0140673620303603%8.png  \n",
            "  inflating: CT_COVID/2020.03.03.20030353-p17-106%0.png  \n",
            "  inflating: __MACOSX/CT_COVID/._2020.03.03.20030353-p17-106%0.png  \n",
            "  inflating: CT_COVID/2020.03.16.20035105-p6-64-1.png  \n",
            "  inflating: __MACOSX/CT_COVID/._2020.03.16.20035105-p6-64-1.png  \n",
            "  inflating: CT_COVID/2020.02.23.20026856-p17-115%1.png  \n",
            "  inflating: __MACOSX/CT_COVID/._2020.02.23.20026856-p17-115%1.png  \n",
            "  inflating: CT_COVID/2020.03.04.20031039-p23-97_2%0.png  \n",
            "  inflating: __MACOSX/CT_COVID/._2020.03.04.20031039-p23-97_2%0.png  \n",
            "  inflating: CT_COVID/2020.03.04.20031047-p12-81%3.png  \n",
            "  inflating: __MACOSX/CT_COVID/._2020.03.04.20031047-p12-81%3.png  \n",
            "  inflating: CT_COVID/bmj.m606.full-p4-22%7.png  \n",
            "  inflating: __MACOSX/CT_COVID/._bmj.m606.full-p4-22%7.png  \n",
            "  inflating: CT_COVID/2020.03.11.20033159-p12-45%4.png  \n",
            "  inflating: __MACOSX/CT_COVID/._2020.03.11.20033159-p12-45%4.png  \n",
            "  inflating: CT_COVID/2020.02.11.20022053-p12-67%3.png  \n",
            "  inflating: __MACOSX/CT_COVID/._2020.02.11.20022053-p12-67%3.png  \n",
            "  inflating: CT_COVID/Talaromyces-marneffei-infection-relapse-presenting-as-ost_2020_International-p1-12%2.png  \n",
            "  inflating: __MACOSX/CT_COVID/._Talaromyces-marneffei-infection-relapse-presenting-as-ost_2020_International-p1-12%2.png  \n",
            "  inflating: CT_COVID/2020.02.27.20027557-p25-137%3.png  \n",
            "  inflating: __MACOSX/CT_COVID/._2020.02.27.20027557-p25-137%3.png  \n",
            "  inflating: CT_COVID/2020.03.08.20031658-p15-104.png  \n",
            "  inflating: __MACOSX/CT_COVID/._2020.03.08.20031658-p15-104.png  \n",
            "  inflating: CT_COVID/2020.02.25.20021568-p23-108%2.png  \n",
            "  inflating: __MACOSX/CT_COVID/._2020.02.25.20021568-p23-108%2.png  \n",
            "  inflating: CT_COVID/2020.02.24.20027201-p19-670.png  \n",
            "  inflating: __MACOSX/CT_COVID/._2020.02.24.20027201-p19-670.png  \n",
            "  inflating: CT_COVID/2020.02.25.20021568-p23-108%3.png  \n",
            "  inflating: __MACOSX/CT_COVID/._2020.02.25.20021568-p23-108%3.png  \n",
            "  inflating: CT_COVID/2020.03.08.20031658-p15-105.png  \n",
            "  inflating: __MACOSX/CT_COVID/._2020.03.08.20031658-p15-105.png  \n",
            "  inflating: CT_COVID/Talaromyces-marneffei-infection-relapse-presenting-as-ost_2020_International-p1-12%3.png  \n",
            "  inflating: __MACOSX/CT_COVID/._Talaromyces-marneffei-infection-relapse-presenting-as-ost_2020_International-p1-12%3.png  \n",
            "  inflating: CT_COVID/2020.02.27.20027557-p25-137%2.png  \n",
            "  inflating: __MACOSX/CT_COVID/._2020.02.27.20027557-p25-137%2.png  \n",
            "  inflating: CT_COVID/2020.02.11.20022053-p12-67%2.png  \n",
            "  inflating: __MACOSX/CT_COVID/._2020.02.11.20022053-p12-67%2.png  \n",
            "  inflating: CT_COVID/2020.03.11.20033159-p12-45%5.png  \n",
            "  inflating: __MACOSX/CT_COVID/._2020.03.11.20033159-p12-45%5.png  \n",
            "  inflating: CT_COVID/2020.03.22.20040782-p25-1541.png  \n",
            "  inflating: __MACOSX/CT_COVID/._2020.03.22.20040782-p25-1541.png  \n",
            "  inflating: CT_COVID/bmj.m606.full-p4-22%6.png  \n",
            "  inflating: __MACOSX/CT_COVID/._bmj.m606.full-p4-22%6.png  \n",
            "  inflating: CT_COVID/impact_of_covid19_infection_on_pregnancy_outcomes_and_the_risk_of_maternaltoneonatal_intrapartum_transmission_of_covid19_during_natural_birth-p8-41%5.png  \n",
            "  inflating: __MACOSX/CT_COVID/._impact_of_covid19_infection_on_pregnancy_outcomes_and_the_risk_of_maternaltoneonatal_intrapartum_transmission_of_covid19_during_natural_birth-p8-41%5.png  \n",
            "  inflating: CT_COVID/2020.03.04.20031047-p12-81%2.png  \n",
            "  inflating: __MACOSX/CT_COVID/._2020.03.04.20031047-p12-81%2.png  \n",
            "  inflating: CT_COVID/2020.03.04.20031039-p23-97_2%1.png  \n",
            "  inflating: __MACOSX/CT_COVID/._2020.03.04.20031039-p23-97_2%1.png  \n",
            "  inflating: CT_COVID/2020.02.23.20026856-p17-115%0.png  \n",
            "  inflating: __MACOSX/CT_COVID/._2020.02.23.20026856-p17-115%0.png  \n",
            "  inflating: CT_COVID/2020.03.03.20030353-p17-106%1.png  \n",
            "  inflating: __MACOSX/CT_COVID/._2020.03.03.20030353-p17-106%1.png  \n",
            "  inflating: CT_COVID/Comparison-of-different-samples-for-2019-novel-cor_2020_International-Journa-p2-21%5.png  \n",
            "  inflating: __MACOSX/CT_COVID/._Comparison-of-different-samples-for-2019-novel-cor_2020_International-Journa-p2-21%5.png  \n",
            "  inflating: CT_COVID/2020.02.28.20029025-p23-183.png  \n",
            "  inflating: __MACOSX/CT_COVID/._2020.02.28.20029025-p23-183.png  \n",
            "  inflating: CT_COVID/2020.03.04.20026005-p12-1946%1.png  \n",
            "  inflating: __MACOSX/CT_COVID/._2020.03.04.20026005-p12-1946%1.png  \n",
            "  inflating: CT_COVID/2020.03.12.20027185-p8-218.png  \n",
            "  inflating: __MACOSX/CT_COVID/._2020.03.12.20027185-p8-218.png  \n",
            "  inflating: CT_COVID/2020.02.25.20021568-p24-111%1.png  \n",
            "  inflating: __MACOSX/CT_COVID/._2020.02.25.20021568-p24-111%1.png  \n",
            "  inflating: CT_COVID/2020.02.10.20021584-p6-52%6.png  \n",
            "  inflating: __MACOSX/CT_COVID/._2020.02.10.20021584-p6-52%6.png  \n",
            "  inflating: CT_COVID/2020.03.26.20041426-p11-133.png  \n",
            "  inflating: __MACOSX/CT_COVID/._2020.03.26.20041426-p11-133.png  \n",
            "  inflating: CT_COVID/2019-novel-Coronavirus-severe-adult-respiratory-dist_2020_International-Jour-p3-91.png  \n",
            "  inflating: __MACOSX/CT_COVID/._2019-novel-Coronavirus-severe-adult-respiratory-dist_2020_International-Jour-p3-91.png  \n",
            "  inflating: CT_COVID/2020.03.26.20041426-p11-127.png  \n",
            "  inflating: __MACOSX/CT_COVID/._2020.03.26.20041426-p11-127.png  \n",
            "  inflating: CT_COVID/2020.03.19.20038539-p10-58.png  \n",
            "  inflating: __MACOSX/CT_COVID/._2020.03.19.20038539-p10-58.png  \n",
            "  inflating: CT_COVID/2020.01.24.919183-p27-134.png  \n",
            "  inflating: __MACOSX/CT_COVID/._2020.01.24.919183-p27-134.png  \n",
            "  inflating: CT_COVID/2020.03.03.20030775-p10-88%1.png  \n",
            "  inflating: __MACOSX/CT_COVID/._2020.03.03.20030775-p10-88%1.png  \n",
            "  inflating: CT_COVID/2020.03.04.20031047-p13-84%1.png  \n",
            "  inflating: __MACOSX/CT_COVID/._2020.03.04.20031047-p13-84%1.png  \n",
            "  inflating: CT_COVID/2020.02.10.20021584-p6-52%14.png  \n",
            "  inflating: __MACOSX/CT_COVID/._2020.02.10.20021584-p6-52%14.png  \n",
            "  inflating: CT_COVID/2020.02.10.20021584-p6-52%15.png  \n",
            "  inflating: __MACOSX/CT_COVID/._2020.02.10.20021584-p6-52%15.png  \n",
            "  inflating: CT_COVID/2020.03.03.20030775-p10-88%0.png  \n",
            "  inflating: __MACOSX/CT_COVID/._2020.03.03.20030775-p10-88%0.png  \n",
            "  inflating: CT_COVID/2020.03.04.20031047-p13-84%0.png  \n",
            "  inflating: __MACOSX/CT_COVID/._2020.03.04.20031047-p13-84%0.png  \n",
            "  inflating: CT_COVID/2020.01.24.919183-p27-135.png  \n",
            "  inflating: __MACOSX/CT_COVID/._2020.01.24.919183-p27-135.png  \n",
            "  inflating: CT_COVID/kjr-21-e24-p2-8.png  \n",
            "  inflating: __MACOSX/CT_COVID/._kjr-21-e24-p2-8.png  \n",
            "  inflating: CT_COVID/2020.03.19.20038539-p10-59.png  \n",
            "  inflating: __MACOSX/CT_COVID/._2020.03.19.20038539-p10-59.png  \n",
            "  inflating: CT_COVID/2020.03.26.20041426-p11-126.png  \n",
            "  inflating: __MACOSX/CT_COVID/._2020.03.26.20041426-p11-126.png  \n",
            "  inflating: CT_COVID/2020.03.26.20041426-p11-132.png  \n",
            "  inflating: __MACOSX/CT_COVID/._2020.03.26.20041426-p11-132.png  \n",
            "  inflating: CT_COVID/2020.02.25.20021568-p24-111%0.png  \n",
            "  inflating: __MACOSX/CT_COVID/._2020.02.25.20021568-p24-111%0.png  \n",
            "  inflating: CT_COVID/2020.02.10.20021584-p6-52%7.png  \n",
            "  inflating: __MACOSX/CT_COVID/._2020.02.10.20021584-p6-52%7.png  \n",
            "  inflating: CT_COVID/kjr-21-e25-p1-10.png  \n",
            "  inflating: __MACOSX/CT_COVID/._kjr-21-e25-p1-10.png  \n",
            "  inflating: CT_COVID/2020.03.04.20026005-p12-1946%0.png  \n",
            "  inflating: __MACOSX/CT_COVID/._2020.03.04.20026005-p12-1946%0.png  \n",
            "  inflating: CT_COVID/2020.03.04.20026005-p12-1946%2.png  \n",
            "  inflating: __MACOSX/CT_COVID/._2020.03.04.20026005-p12-1946%2.png  \n",
            "  inflating: CT_COVID/kjr-21-e25-p1-12.png  \n",
            "  inflating: __MACOSX/CT_COVID/._kjr-21-e25-p1-12.png  \n",
            "  inflating: CT_COVID/2020.02.10.20021584-p6-52%5.png  \n",
            "  inflating: __MACOSX/CT_COVID/._2020.02.10.20021584-p6-52%5.png  \n",
            "  inflating: CT_COVID/2020.02.25.20021568-p24-111%2.png  \n",
            "  inflating: __MACOSX/CT_COVID/._2020.02.25.20021568-p24-111%2.png  \n",
            "  inflating: CT_COVID/2020.03.26.20041426-p11-124.png  \n",
            "  inflating: __MACOSX/CT_COVID/._2020.03.26.20041426-p11-124.png  \n",
            "  inflating: CT_COVID/2020.03.26.20041426-p11-130.png  \n",
            "  inflating: __MACOSX/CT_COVID/._2020.03.26.20041426-p11-130.png  \n",
            "  inflating: CT_COVID/2020.02.25.20021568-p23-108%15.png  \n",
            "  inflating: __MACOSX/CT_COVID/._2020.02.25.20021568-p23-108%15.png  \n",
            "  inflating: CT_COVID/2020.03.10.20032136-p34-118_2%1.png  \n",
            "  inflating: __MACOSX/CT_COVID/._2020.03.10.20032136-p34-118_2%1.png  \n",
            "  inflating: CT_COVID/2020.03.18.20038125-p15-54-2.png  \n",
            "  inflating: __MACOSX/CT_COVID/._2020.03.18.20038125-p15-54-2.png  \n",
            "  inflating: CT_COVID/kjr-21-e24-p5-29.png  \n",
            "  inflating: __MACOSX/CT_COVID/._kjr-21-e24-p5-29.png  \n",
            "  inflating: CT_COVID/2020.03.04.20031047-p13-84%2.png  \n",
            "  inflating: __MACOSX/CT_COVID/._2020.03.04.20031047-p13-84%2.png  \n",
            "  inflating: CT_COVID/2020.03.13.20035212-p23-159.png  \n",
            "  inflating: __MACOSX/CT_COVID/._2020.03.13.20035212-p23-159.png  \n",
            "  inflating: CT_COVID/2020.03.13.20035212-p23-158.png  \n",
            "  inflating: __MACOSX/CT_COVID/._2020.03.13.20035212-p23-158.png  \n",
            "  inflating: CT_COVID/2020.03.04.20031047-p13-84%3.png  \n",
            "  inflating: __MACOSX/CT_COVID/._2020.03.04.20031047-p13-84%3.png  \n",
            "  inflating: CT_COVID/2020.03.10.20032136-p34-118_2%0.png  \n",
            "  inflating: __MACOSX/CT_COVID/._2020.03.10.20032136-p34-118_2%0.png  \n",
            "  inflating: CT_COVID/2020.02.25.20021568-p23-108%14.png  \n",
            "  inflating: __MACOSX/CT_COVID/._2020.02.25.20021568-p23-108%14.png  \n",
            "  inflating: CT_COVID/2020.03.26.20041426-p11-131.png  \n",
            "  inflating: __MACOSX/CT_COVID/._2020.03.26.20041426-p11-131.png  \n",
            "  inflating: CT_COVID/2020.03.26.20041426-p11-125.png  \n",
            "  inflating: __MACOSX/CT_COVID/._2020.03.26.20041426-p11-125.png  \n",
            "  inflating: CT_COVID/2020.02.10.20021584-p6-52%4.png  \n",
            "  inflating: __MACOSX/CT_COVID/._2020.02.10.20021584-p6-52%4.png  \n",
            "  inflating: CT_COVID/2020.02.25.20021568-p24-111%3.png  \n",
            "  inflating: __MACOSX/CT_COVID/._2020.02.25.20021568-p24-111%3.png  \n",
            "  inflating: CT_COVID/2020.03.26.20041426-p11-119.png  \n",
            "  inflating: __MACOSX/CT_COVID/._2020.03.26.20041426-p11-119.png  \n",
            "  inflating: CT_COVID/2020.03.04.20026005-p12-1946%3.png  \n",
            "  inflating: __MACOSX/CT_COVID/._2020.03.04.20026005-p12-1946%3.png  \n",
            "  inflating: CT_COVID/2020.03.30.20047985-p9-56%1.png  \n",
            "  inflating: __MACOSX/CT_COVID/._2020.03.30.20047985-p9-56%1.png  \n",
            "  inflating: CT_COVID/2020.03.04.20031039-p23-97_1%2.png  \n",
            "  inflating: __MACOSX/CT_COVID/._2020.03.04.20031039-p23-97_1%2.png  \n",
            "  inflating: CT_COVID/2020.03.04.20031047-p14-87%0.png  \n",
            "  inflating: __MACOSX/CT_COVID/._2020.03.04.20031047-p14-87%0.png  \n",
            "  inflating: CT_COVID/2020.03.26.20041426-p11-121.png  \n",
            "  inflating: __MACOSX/CT_COVID/._2020.03.26.20041426-p11-121.png  \n",
            "  inflating: CT_COVID/2020.02.25.20027763-p15-53%0.png  \n",
            "  inflating: __MACOSX/CT_COVID/._2020.02.25.20027763-p15-53%0.png  \n",
            "  inflating: CT_COVID/2020.02.13.20022673-p13-77%0.png  \n",
            "  inflating: __MACOSX/CT_COVID/._2020.02.13.20022673-p13-77%0.png  \n",
            "  inflating: CT_COVID/2020.02.25.20021568-p24-111%7.png  \n",
            "  inflating: __MACOSX/CT_COVID/._2020.02.25.20021568-p24-111%7.png  \n",
            "  inflating: CT_COVID/2020.02.10.20021584-p6-52%0.png  \n",
            "  inflating: __MACOSX/CT_COVID/._2020.02.10.20021584-p6-52%0.png  \n",
            "  inflating: CT_COVID/2020.03.19.20038539-p10-62.png  \n",
            "  inflating: __MACOSX/CT_COVID/._2020.03.19.20038539-p10-62.png  \n",
            "  inflating: CT_COVID/2020.02.25.20021568-p23-108%10.png  \n",
            "  inflating: __MACOSX/CT_COVID/._2020.02.25.20021568-p23-108%10.png  \n",
            "  inflating: CT_COVID/PIIS0140673620301549_2.png  \n",
            "  inflating: __MACOSX/CT_COVID/._PIIS0140673620301549_2.png  \n",
            "  inflating: CT_COVID/2020.01.24.919183-p27-132.png  \n",
            "  inflating: __MACOSX/CT_COVID/._2020.01.24.919183-p27-132.png  \n",
            "  inflating: CT_COVID/2020.03.04.20030395-p27-108%8.png  \n",
            "  inflating: __MACOSX/CT_COVID/._2020.03.04.20030395-p27-108%8.png  \n",
            "  inflating: CT_COVID/2020.03.13.20035212-p23-160.png  \n",
            "  inflating: __MACOSX/CT_COVID/._2020.03.13.20035212-p23-160.png  \n",
            "  inflating: CT_COVID/2020.02.10.20021584-p6-52%12.png  \n",
            "  inflating: __MACOSX/CT_COVID/._2020.02.10.20021584-p6-52%12.png  \n",
            "  inflating: CT_COVID/2020.02.10.20021584-p6-52%13.png  \n",
            "  inflating: __MACOSX/CT_COVID/._2020.02.10.20021584-p6-52%13.png  \n",
            "  inflating: CT_COVID/2020.03.13.20035212-p23-161.png  \n",
            "  inflating: __MACOSX/CT_COVID/._2020.03.13.20035212-p23-161.png  \n",
            "  inflating: CT_COVID/2020.01.24.919183-p27-133.png  \n",
            "  inflating: __MACOSX/CT_COVID/._2020.01.24.919183-p27-133.png  \n",
            "  inflating: CT_COVID/2020.02.22.20024927-p18-66%2.png  \n",
            "  inflating: __MACOSX/CT_COVID/._2020.02.22.20024927-p18-66%2.png  \n",
            "  inflating: CT_COVID/2020.03.18.20038125-p15-54-6.png  \n",
            "  inflating: __MACOSX/CT_COVID/._2020.03.18.20038125-p15-54-6.png  \n",
            "  inflating: CT_COVID/2020.02.25.20021568-p23-108%11.png  \n",
            "  inflating: __MACOSX/CT_COVID/._2020.02.25.20021568-p23-108%11.png  \n",
            "  inflating: CT_COVID/2020.03.03.20030775-p11-91.png  \n",
            "  inflating: __MACOSX/CT_COVID/._2020.03.03.20030775-p11-91.png  \n",
            "  inflating: CT_COVID/2020.02.25.20021568-p24-111%6.png  \n",
            "  inflating: __MACOSX/CT_COVID/._2020.02.25.20021568-p24-111%6.png  \n",
            "  inflating: CT_COVID/2020.02.10.20021584-p6-52%1.png  \n",
            "  inflating: __MACOSX/CT_COVID/._2020.02.10.20021584-p6-52%1.png  \n",
            "  inflating: CT_COVID/2020.02.13.20022673-p13-77%1.png  \n",
            "  inflating: __MACOSX/CT_COVID/._2020.02.13.20022673-p13-77%1.png  \n",
            "  inflating: CT_COVID/2020.02.25.20027763-p15-53%1.png  \n",
            "  inflating: __MACOSX/CT_COVID/._2020.02.25.20027763-p15-53%1.png  \n",
            "  inflating: CT_COVID/2020.03.26.20041426-p11-120.png  \n",
            "  inflating: __MACOSX/CT_COVID/._2020.03.26.20041426-p11-120.png  \n",
            "  inflating: CT_COVID/2020.03.04.20031047-p14-87%1.png  \n",
            "  inflating: __MACOSX/CT_COVID/._2020.03.04.20031047-p14-87%1.png  \n",
            "  inflating: CT_COVID/2020.03.30.20047985-p9-56%0.png  \n",
            "  inflating: __MACOSX/CT_COVID/._2020.03.30.20047985-p9-56%0.png  \n",
            "  inflating: CT_COVID/kjr-21-e25-p1-14.png  \n",
            "  inflating: __MACOSX/CT_COVID/._kjr-21-e25-p1-14.png  \n",
            "  inflating: CT_COVID/2020.03.04.20031039-p23-97_1%1.png  \n",
            "  inflating: __MACOSX/CT_COVID/._2020.03.04.20031039-p23-97_1%1.png  \n",
            "  inflating: CT_COVID/2020.03.30.20047985-p9-56%2.png  \n",
            "  inflating: __MACOSX/CT_COVID/._2020.03.30.20047985-p9-56%2.png  \n",
            "  inflating: CT_COVID/2020.03.04.20026005-p12-1946%4.png  \n",
            "  inflating: __MACOSX/CT_COVID/._2020.03.04.20026005-p12-1946%4.png  \n",
            "  inflating: CT_COVID/2020.03.12.20027185-p8-221.png  \n",
            "  inflating: __MACOSX/CT_COVID/._2020.03.12.20027185-p8-221.png  \n",
            "  inflating: CT_COVID/2020.03.26.20041426-p11-122.png  \n",
            "  inflating: __MACOSX/CT_COVID/._2020.03.26.20041426-p11-122.png  \n",
            "  inflating: CT_COVID/2020.02.10.20021584-p6-52%3.png  \n",
            "  inflating: __MACOSX/CT_COVID/._2020.02.10.20021584-p6-52%3.png  \n",
            "  inflating: CT_COVID/2020.02.25.20021568-p24-111%4.png  \n",
            "  inflating: __MACOSX/CT_COVID/._2020.02.25.20021568-p24-111%4.png  \n",
            "  inflating: CT_COVID/2020.02.25.20021568-p23-108%13.png  \n",
            "  inflating: __MACOSX/CT_COVID/._2020.02.25.20021568-p23-108%13.png  \n",
            "  inflating: CT_COVID/2020.03.19.20038539-p10-61.png  \n",
            "  inflating: __MACOSX/CT_COVID/._2020.03.19.20038539-p10-61.png  \n",
            "  inflating: CT_COVID/2020.03.18.20038125-p15-54-4.png  \n",
            "  inflating: __MACOSX/CT_COVID/._2020.03.18.20038125-p15-54-4.png  \n",
            "  inflating: CT_COVID/PIIS0140673620301549_1.png  \n",
            "  inflating: __MACOSX/CT_COVID/._PIIS0140673620301549_1.png  \n",
            "  inflating: CT_COVID/2020.03.04.20031047-p13-84%4.png  \n",
            "  inflating: __MACOSX/CT_COVID/._2020.03.04.20031047-p13-84%4.png  \n",
            "  inflating: CT_COVID/2020.02.22.20024927-p18-66%0.png  \n",
            "  inflating: __MACOSX/CT_COVID/._2020.02.22.20024927-p18-66%0.png  \n",
            "  inflating: CT_COVID/2020.03.13.20035212-p23-163.png  \n",
            "  inflating: __MACOSX/CT_COVID/._2020.03.13.20035212-p23-163.png  \n",
            "  inflating: CT_COVID/2020.02.10.20021584-p6-52%11.png  \n",
            "  inflating: __MACOSX/CT_COVID/._2020.02.10.20021584-p6-52%11.png  \n",
            "  inflating: CT_COVID/2020.02.10.20021584-p6-52%10.png  \n",
            "  inflating: __MACOSX/CT_COVID/._2020.02.10.20021584-p6-52%10.png  \n",
            "  inflating: CT_COVID/2020.03.13.20035212-p23-162.png  \n",
            "  inflating: __MACOSX/CT_COVID/._2020.03.13.20035212-p23-162.png  \n",
            "  inflating: CT_COVID/2020.03.04.20031047-p13-84%5.png  \n",
            "  inflating: __MACOSX/CT_COVID/._2020.03.04.20031047-p13-84%5.png  \n",
            "  inflating: CT_COVID/2020.02.22.20024927-p18-66%1.png  \n",
            "  inflating: __MACOSX/CT_COVID/._2020.02.22.20024927-p18-66%1.png  \n",
            "  inflating: CT_COVID/2020.03.18.20038125-p15-54-5.png  \n",
            "  inflating: __MACOSX/CT_COVID/._2020.03.18.20038125-p15-54-5.png  \n",
            "  inflating: CT_COVID/2020.03.19.20038539-p10-60.png  \n",
            "  inflating: __MACOSX/CT_COVID/._2020.03.19.20038539-p10-60.png  \n",
            "  inflating: CT_COVID/2020.02.25.20021568-p23-108%12.png  \n",
            "  inflating: __MACOSX/CT_COVID/._2020.02.25.20021568-p23-108%12.png  \n",
            "  inflating: CT_COVID/2020.02.10.20021584-p6-52%2.png  \n",
            "  inflating: __MACOSX/CT_COVID/._2020.02.10.20021584-p6-52%2.png  \n",
            "  inflating: CT_COVID/2020.02.25.20021568-p24-111%5.png  \n",
            "  inflating: __MACOSX/CT_COVID/._2020.02.25.20021568-p24-111%5.png  \n",
            "  inflating: CT_COVID/2020.03.26.20041426-p11-123.png  \n",
            "  inflating: __MACOSX/CT_COVID/._2020.03.26.20041426-p11-123.png  \n",
            "  inflating: CT_COVID/2020.02.13.20022673-p13-77%2.png  \n",
            "  inflating: __MACOSX/CT_COVID/._2020.02.13.20022673-p13-77%2.png  \n",
            "  inflating: CT_COVID/2020.03.04.20026005-p12-1946%5.png  \n",
            "  inflating: __MACOSX/CT_COVID/._2020.03.04.20026005-p12-1946%5.png  \n",
            "  inflating: CT_COVID/2020.03.04.20031039-p23-97_1%0.png  \n",
            "  inflating: __MACOSX/CT_COVID/._2020.03.04.20031039-p23-97_1%0.png  \n",
            "  inflating: CT_COVID/2020.03.30.20047985-p9-56%3.png  \n",
            "  inflating: __MACOSX/CT_COVID/._2020.03.30.20047985-p9-56%3.png  \n",
            "  inflating: __MACOSX/._CT_COVID     \n"
          ]
        }
      ]
    },
    {
      "cell_type": "code",
      "metadata": {
        "id": "8LBB4v_wRuzn"
      },
      "source": [
        "# ahora que ya lo tenemos descomprimido, tenemos que listar la carpeta donde se\n",
        "# encuentran todas las imágenes para después poder cargarlas. Existen varias\n",
        "# formas de hacer esto, y algunas son más eficientes que otras. Por ejemplo:\n",
        "\n",
        "# images = []\n",
        "# for img in list_imgs:\n",
        "#     images.append(load_image(img))\n",
        "\n",
        "# Esté método es el más lento que podemos utilizar, ya que cada vez que añadamos\n",
        "# una nueva imagen, Python creará una nueva lista y copiará el contenido de la\n",
        "# anterior, así que no es el método más adecuado.\n",
        "\n",
        "# Por el contrario, este es mucho mejor, ya que no se crean nuevas listas,\n",
        "# simplemente se accede a posiciones determinadas y se insertan los datos:\n",
        "\n",
        "# n_images = len(list_imgs)\n",
        "# images = np.zeros((n_images, height, width, channels), dtype=np.uint8)\n",
        "# for i, img in enumerate(list_imgs):\n",
        "#     images[i] = load_image(img)\n",
        "\n",
        "# Sin embargo, éste segundo método tiene un inconveniente: neceistamos que\n",
        "# todas las imágenes tengan el mismo tamaño, algo que no siempre pasa en\n",
        "# los datasets reales: tendremos que redimensionarlas.\n",
        "\n",
        "# Vamos a cargarlas siguiendo los dos métodos para que veais las diferencias.\n",
        "# Para ver el tiempo que tarda cada una utilizaremos la librería TQDM, que\n",
        "# crea una barra de progreso y nos informa de los tiempos."
      ],
      "execution_count": 9,
      "outputs": []
    },
    {
      "cell_type": "code",
      "metadata": {
        "id": "dSgRIAP_SvI7",
        "colab": {
          "base_uri": "https://localhost:8080/"
        },
        "outputId": "cb28a630-53e3-4d79-bbff-5304d871d2c2"
      },
      "source": [
        "# listamos el directorio\n",
        "import glob\n",
        "list_imgs = glob.glob('./CT_COVID/*.png')\n",
        "n_images = len(list_imgs)\n",
        "print(n_images, 'images were loaded!')"
      ],
      "execution_count": 10,
      "outputs": [
        {
          "output_type": "stream",
          "name": "stdout",
          "text": [
            "349 images were loaded!\n"
          ]
        }
      ]
    },
    {
      "cell_type": "code",
      "metadata": {
        "id": "4cxJbqEtTwrT",
        "colab": {
          "base_uri": "https://localhost:8080/"
        },
        "outputId": "5565e5fb-88f1-4aee-e642-6e4ae71664de"
      },
      "source": [
        "# Perfecto, tenemos las 349 CTs que hay disponibles en el dataset.\n",
        "# Ahora, vamos a cargarlas, pero primero necesitamos saber las dimensiones\n",
        "# de las imágenes. Para ello, vamos a utilizar OpenCV.\n",
        "\n",
        "import cv2\n",
        "\n",
        "for img_path in list_imgs:\n",
        "    img = cv2.imread(img_path)\n",
        "    print(img.shape)"
      ],
      "execution_count": 11,
      "outputs": [
        {
          "output_type": "stream",
          "name": "stdout",
          "text": [
            "(269, 346, 3)\n",
            "(253, 348, 3)\n",
            "(602, 900, 3)\n",
            "(250, 355, 3)\n",
            "(305, 498, 3)\n",
            "(124, 172, 3)\n",
            "(351, 516, 3)\n",
            "(202, 287, 3)\n",
            "(107, 146, 3)\n",
            "(203, 411, 3)\n",
            "(106, 195, 3)\n",
            "(355, 521, 3)\n",
            "(304, 408, 3)\n",
            "(485, 681, 3)\n",
            "(258, 345, 3)\n",
            "(224, 322, 3)\n",
            "(237, 354, 3)\n",
            "(391, 512, 3)\n",
            "(137, 235, 3)\n",
            "(1021, 1441, 3)\n",
            "(147, 236, 3)\n",
            "(307, 407, 3)\n",
            "(202, 287, 3)\n",
            "(159, 214, 3)\n",
            "(600, 602, 3)\n",
            "(252, 296, 3)\n",
            "(1112, 1408, 3)\n",
            "(336, 489, 3)\n",
            "(344, 466, 3)\n",
            "(202, 287, 3)\n",
            "(282, 510, 3)\n",
            "(119, 182, 3)\n",
            "(278, 417, 3)\n",
            "(216, 375, 3)\n",
            "(276, 385, 3)\n",
            "(473, 627, 3)\n",
            "(362, 370, 3)\n",
            "(165, 227, 3)\n",
            "(122, 209, 3)\n",
            "(202, 287, 3)\n",
            "(304, 408, 3)\n",
            "(218, 272, 3)\n",
            "(155, 247, 3)\n",
            "(128, 217, 3)\n",
            "(214, 315, 3)\n",
            "(362, 370, 3)\n",
            "(144, 146, 3)\n",
            "(398, 705, 3)\n",
            "(374, 501, 3)\n",
            "(383, 526, 3)\n",
            "(512, 512, 3)\n",
            "(202, 287, 3)\n",
            "(96, 130, 3)\n",
            "(928, 924, 3)\n",
            "(222, 341, 3)\n",
            "(144, 209, 3)\n",
            "(95, 151, 3)\n",
            "(323, 442, 3)\n",
            "(307, 406, 3)\n",
            "(130, 219, 3)\n",
            "(346, 448, 3)\n",
            "(190, 250, 3)\n",
            "(119, 178, 3)\n",
            "(300, 300, 3)\n",
            "(107, 189, 3)\n",
            "(304, 472, 3)\n",
            "(190, 250, 3)\n",
            "(304, 472, 3)\n",
            "(211, 337, 3)\n",
            "(294, 407, 3)\n",
            "(408, 578, 3)\n",
            "(824, 1302, 3)\n",
            "(300, 408, 3)\n",
            "(339, 483, 3)\n",
            "(202, 287, 3)\n",
            "(269, 346, 3)\n",
            "(541, 720, 3)\n",
            "(826, 1308, 3)\n",
            "(388, 556, 3)\n",
            "(223, 323, 3)\n",
            "(240, 348, 3)\n",
            "(332, 566, 3)\n",
            "(211, 337, 3)\n",
            "(306, 463, 3)\n",
            "(532, 818, 3)\n",
            "(243, 346, 3)\n",
            "(270, 351, 3)\n",
            "(182, 273, 3)\n",
            "(298, 458, 3)\n",
            "(398, 516, 3)\n",
            "(100, 151, 3)\n",
            "(202, 287, 3)\n",
            "(139, 210, 3)\n",
            "(323, 442, 3)\n",
            "(207, 371, 3)\n",
            "(248, 352, 3)\n",
            "(212, 310, 3)\n",
            "(212, 310, 3)\n",
            "(202, 287, 3)\n",
            "(335, 563, 3)\n",
            "(269, 346, 3)\n",
            "(320, 499, 3)\n",
            "(99, 155, 3)\n",
            "(336, 506, 3)\n",
            "(275, 351, 3)\n",
            "(272, 436, 3)\n",
            "(76, 143, 3)\n",
            "(293, 407, 3)\n",
            "(225, 427, 3)\n",
            "(238, 333, 3)\n",
            "(324, 463, 3)\n",
            "(285, 457, 3)\n",
            "(163, 209, 3)\n",
            "(137, 227, 3)\n",
            "(351, 727, 3)\n",
            "(349, 492, 3)\n",
            "(598, 902, 3)\n",
            "(406, 572, 3)\n",
            "(308, 412, 3)\n",
            "(300, 412, 3)\n",
            "(378, 567, 3)\n",
            "(124, 172, 3)\n",
            "(212, 310, 3)\n",
            "(398, 556, 3)\n",
            "(366, 612, 3)\n",
            "(211, 337, 3)\n",
            "(213, 315, 3)\n",
            "(321, 356, 3)\n",
            "(303, 516, 3)\n",
            "(612, 758, 3)\n",
            "(328, 415, 3)\n",
            "(225, 430, 3)\n",
            "(920, 926, 3)\n",
            "(129, 196, 3)\n",
            "(318, 458, 3)\n",
            "(515, 826, 3)\n",
            "(345, 516, 3)\n",
            "(483, 796, 3)\n",
            "(204, 343, 3)\n",
            "(127, 203, 3)\n",
            "(261, 371, 3)\n",
            "(247, 351, 3)\n",
            "(131, 182, 3)\n",
            "(307, 490, 3)\n",
            "(241, 372, 3)\n",
            "(275, 405, 3)\n",
            "(145, 227, 3)\n",
            "(357, 501, 3)\n",
            "(237, 338, 3)\n",
            "(202, 287, 3)\n",
            "(345, 475, 3)\n",
            "(194, 305, 3)\n",
            "(448, 589, 3)\n",
            "(108, 196, 3)\n",
            "(272, 436, 3)\n",
            "(380, 489, 3)\n",
            "(381, 608, 3)\n",
            "(276, 363, 3)\n",
            "(177, 259, 3)\n",
            "(217, 329, 3)\n",
            "(221, 408, 3)\n",
            "(437, 563, 3)\n",
            "(302, 410, 3)\n",
            "(202, 287, 3)\n",
            "(595, 602, 3)\n",
            "(126, 199, 3)\n",
            "(285, 442, 3)\n",
            "(193, 349, 3)\n",
            "(150, 246, 3)\n",
            "(303, 462, 3)\n",
            "(129, 190, 3)\n",
            "(612, 758, 3)\n",
            "(296, 420, 3)\n",
            "(482, 764, 3)\n",
            "(253, 348, 3)\n",
            "(340, 320, 3)\n",
            "(231, 374, 3)\n",
            "(465, 634, 3)\n",
            "(302, 406, 3)\n",
            "(291, 484, 3)\n",
            "(253, 348, 3)\n",
            "(345, 485, 3)\n",
            "(246, 364, 3)\n",
            "(346, 442, 3)\n",
            "(388, 557, 3)\n",
            "(196, 300, 3)\n",
            "(192, 249, 3)\n",
            "(304, 472, 3)\n",
            "(98, 115, 3)\n",
            "(323, 588, 3)\n",
            "(402, 737, 3)\n",
            "(140, 140, 3)\n",
            "(512, 512, 3)\n",
            "(307, 407, 3)\n",
            "(1225, 1637, 3)\n",
            "(323, 442, 3)\n",
            "(190, 256, 3)\n",
            "(285, 457, 3)\n",
            "(335, 580, 3)\n",
            "(270, 351, 3)\n",
            "(385, 584, 3)\n",
            "(115, 195, 3)\n",
            "(305, 407, 3)\n",
            "(122, 169, 3)\n",
            "(382, 517, 3)\n",
            "(124, 172, 3)\n",
            "(404, 570, 3)\n",
            "(354, 504, 3)\n",
            "(202, 287, 3)\n",
            "(383, 562, 3)\n",
            "(276, 408, 3)\n",
            "(204, 364, 3)\n",
            "(310, 406, 3)\n",
            "(381, 538, 3)\n",
            "(158, 232, 3)\n",
            "(285, 409, 3)\n",
            "(436, 570, 3)\n",
            "(211, 337, 3)\n",
            "(410, 572, 3)\n",
            "(163, 255, 3)\n",
            "(188, 300, 3)\n",
            "(602, 902, 3)\n",
            "(294, 407, 3)\n",
            "(296, 410, 3)\n",
            "(363, 536, 3)\n",
            "(475, 593, 3)\n",
            "(556, 840, 3)\n",
            "(148, 149, 3)\n",
            "(123, 263, 3)\n",
            "(257, 335, 3)\n",
            "(100, 151, 3)\n",
            "(248, 330, 3)\n",
            "(103, 189, 3)\n",
            "(442, 650, 3)\n",
            "(552, 871, 3)\n",
            "(202, 287, 3)\n",
            "(298, 579, 3)\n",
            "(404, 574, 3)\n",
            "(195, 275, 3)\n",
            "(144, 206, 3)\n",
            "(61, 148, 3)\n",
            "(124, 172, 3)\n",
            "(125, 251, 3)\n",
            "(258, 474, 3)\n",
            "(160, 274, 3)\n",
            "(110, 167, 3)\n",
            "(204, 365, 3)\n",
            "(89, 137, 3)\n",
            "(374, 501, 3)\n",
            "(512, 512, 3)\n",
            "(304, 472, 3)\n",
            "(116, 187, 3)\n",
            "(396, 726, 3)\n",
            "(359, 500, 3)\n",
            "(385, 584, 3)\n",
            "(305, 407, 3)\n",
            "(245, 511, 3)\n",
            "(485, 677, 3)\n",
            "(213, 363, 3)\n",
            "(194, 315, 3)\n",
            "(304, 412, 3)\n",
            "(233, 290, 3)\n",
            "(363, 603, 3)\n",
            "(374, 501, 3)\n",
            "(248, 362, 3)\n",
            "(494, 794, 3)\n",
            "(124, 198, 3)\n",
            "(155, 247, 3)\n",
            "(304, 406, 3)\n",
            "(512, 512, 3)\n",
            "(551, 725, 3)\n",
            "(144, 211, 3)\n",
            "(100, 136, 3)\n",
            "(407, 600, 3)\n",
            "(323, 442, 3)\n",
            "(834, 1306, 3)\n",
            "(322, 494, 3)\n",
            "(351, 509, 3)\n",
            "(407, 597, 3)\n",
            "(344, 440, 3)\n",
            "(512, 512, 3)\n",
            "(319, 450, 3)\n",
            "(1049, 1671, 3)\n",
            "(423, 660, 3)\n",
            "(372, 603, 3)\n",
            "(419, 550, 3)\n",
            "(321, 550, 3)\n",
            "(129, 189, 3)\n",
            "(192, 249, 3)\n",
            "(255, 345, 3)\n",
            "(79, 153, 3)\n",
            "(270, 397, 3)\n",
            "(473, 627, 3)\n",
            "(266, 401, 3)\n",
            "(287, 444, 3)\n",
            "(260, 378, 3)\n",
            "(138, 195, 3)\n",
            "(440, 512, 3)\n",
            "(362, 370, 3)\n",
            "(139, 229, 3)\n",
            "(204, 327, 3)\n",
            "(319, 486, 3)\n",
            "(202, 287, 3)\n",
            "(212, 310, 3)\n",
            "(264, 381, 3)\n",
            "(147, 217, 3)\n",
            "(159, 211, 3)\n",
            "(236, 357, 3)\n",
            "(140, 207, 3)\n",
            "(139, 192, 3)\n",
            "(202, 287, 3)\n",
            "(374, 501, 3)\n",
            "(529, 724, 3)\n",
            "(1114, 1394, 3)\n",
            "(270, 351, 3)\n",
            "(134, 255, 3)\n",
            "(88, 148, 3)\n",
            "(583, 768, 3)\n",
            "(932, 932, 3)\n",
            "(242, 384, 3)\n",
            "(94, 147, 3)\n",
            "(108, 180, 3)\n",
            "(412, 578, 3)\n",
            "(600, 749, 3)\n",
            "(920, 924, 3)\n",
            "(194, 315, 3)\n",
            "(302, 406, 3)\n",
            "(308, 424, 3)\n",
            "(556, 785, 3)\n",
            "(253, 348, 3)\n",
            "(380, 611, 3)\n",
            "(298, 408, 3)\n",
            "(316, 472, 3)\n",
            "(202, 287, 3)\n",
            "(202, 287, 3)\n",
            "(155, 247, 3)\n",
            "(124, 172, 3)\n",
            "(276, 406, 3)\n",
            "(302, 454, 3)\n",
            "(327, 575, 3)\n",
            "(191, 335, 3)\n",
            "(214, 315, 3)\n",
            "(131, 199, 3)\n",
            "(141, 146, 3)\n",
            "(190, 250, 3)\n",
            "(253, 348, 3)\n",
            "(124, 172, 3)\n",
            "(500, 727, 3)\n",
            "(208, 321, 3)\n"
          ]
        }
      ]
    },
    {
      "cell_type": "code",
      "metadata": {
        "id": "DDsQRwsMVFko"
      },
      "source": [
        "# Fijaos que las imágenes tienen tamaños diferentes. Ahora, tenemos dos opciones:\n",
        "#\n",
        "# - Redimensionar las imágenes al mismo tamaño, sin mantener el ASPECT RATIO.\n",
        "#   Es el método más sencillo, pero distosionará las imágenes, por lo que puede\n",
        "#   hacer que nuestro modelo no sea todo lo bueno que podría ser.\n",
        "#\n",
        "# - Redimensionar las imágenes al mismo tamaño, manteniendo el ASPECT RATIO.\n",
        "#   Para ello, podemos redimensionar las imágenes al tamaño deseado y luego\n",
        "#   rellenar \"los huecos\" con algún valor constante, normalmente, 0.\n",
        "#\n",
        "# En este caso, por simplicidad, vamos a hacer la primera opción.\n"
      ],
      "execution_count": 12,
      "outputs": []
    },
    {
      "cell_type": "code",
      "metadata": {
        "id": "aa2g67B_TI9o",
        "colab": {
          "base_uri": "https://localhost:8080/"
        },
        "outputId": "703cf80e-4bce-499d-82e4-da97c7e76967"
      },
      "source": [
        "from tqdm import tqdm\n",
        "\n",
        "# creamos la estructura de datos donde almacenaremos las imágenes cargadas\n",
        "images = []\n",
        "\n",
        "# implementamos el bucle que recorrerá la lista e irá cargando las imágenes,\n",
        "# redimensionándolas y añadiéndolas a nuestra estructura de datos\n",
        "for i, img_path in enumerate(tqdm(list_imgs)):\n",
        "    img = cv2.imread(img_path)\n",
        "    # opencv carga por defecto las imágenes en modo BGR\n",
        "    # esto lo tenemos que tener en cuenta, ya que si entrenamos\n",
        "    # el modelo con imágenes BGR, luego tendremos que alimentarlo\n",
        "    # con imágenes del mismo tipo para que el modelo funcione\n",
        "    # correctamente.\n",
        "    img = cv2.cvtColor(img, cv2.COLOR_BGR2RGB)\n",
        "    # la redimensionamos a 96x96 (este tamaño es arbitrario porque es un ejemplo,\n",
        "    # en un caso real, estudiaríamos el tamaño que menos distorsiona la mayoría\n",
        "    # de las imágenes)\n",
        "    img = cv2.resize(img, dsize=(96, 96))\n",
        "    # aquí incluiríamos los pasos de preprocesamiento que quisiésemos, por ejemplo:\n",
        "    img = img / 255.  # normalizamos la imagen entre 0 y 1\n",
        "    # img = mi_funcion_random_crop(img)  # cortamos un trozo aleatoriamente\n",
        "    # añadimos la imagen a nuestra estructura de datos\n",
        "    images.append(img)\n",
        "\n",
        "print('Loading completed!')"
      ],
      "execution_count": 13,
      "outputs": [
        {
          "output_type": "stream",
          "name": "stderr",
          "text": [
            "100%|██████████| 349/349 [00:02<00:00, 120.43it/s]"
          ]
        },
        {
          "output_type": "stream",
          "name": "stdout",
          "text": [
            "Loading completed!\n"
          ]
        },
        {
          "output_type": "stream",
          "name": "stderr",
          "text": [
            "\n"
          ]
        }
      ]
    },
    {
      "cell_type": "code",
      "metadata": {
        "id": "OdblTec648Wu",
        "colab": {
          "base_uri": "https://localhost:8080/"
        },
        "outputId": "e1860a12-9b25-436e-efbb-ccf7c34ee96d"
      },
      "source": [
        "type(images)"
      ],
      "execution_count": 14,
      "outputs": [
        {
          "output_type": "execute_result",
          "data": {
            "text/plain": [
              "list"
            ]
          },
          "metadata": {},
          "execution_count": 14
        }
      ]
    },
    {
      "cell_type": "code",
      "metadata": {
        "id": "Ffga2ExT5FGM",
        "colab": {
          "base_uri": "https://localhost:8080/"
        },
        "outputId": "4c0f32fc-9248-47ee-8d3d-8418693f3b26"
      },
      "source": [
        "type(images[0])"
      ],
      "execution_count": 15,
      "outputs": [
        {
          "output_type": "execute_result",
          "data": {
            "text/plain": [
              "numpy.ndarray"
            ]
          },
          "metadata": {},
          "execution_count": 15
        }
      ]
    },
    {
      "cell_type": "code",
      "metadata": {
        "id": "gz8o67Jm5C4Q",
        "colab": {
          "base_uri": "https://localhost:8080/"
        },
        "outputId": "3d72412d-ccaf-447d-a87a-75acc46b8850"
      },
      "source": [
        "images[0].shape"
      ],
      "execution_count": 16,
      "outputs": [
        {
          "output_type": "execute_result",
          "data": {
            "text/plain": [
              "(96, 96, 3)"
            ]
          },
          "metadata": {},
          "execution_count": 16
        }
      ]
    },
    {
      "cell_type": "code",
      "metadata": {
        "id": "qq56FJ_45AYN"
      },
      "source": [
        "# En el caso de cargar las imágenes así, tenemos que convertirlas a un TENSOR 4D\n",
        "# de N_Imágenes x Alto x Ancho x Canales. Ahora mismo es una lista de TENSORES 3D,\n",
        "# para convertirlo a Tensor 4D simplemente tenemos que hacer uso de la función\n",
        "# np.stack:\n",
        "\n",
        "images = np.stack(images)\n",
        "images = tf.convert_to_tensor(images, tf.float64)"
      ],
      "execution_count": 17,
      "outputs": []
    },
    {
      "cell_type": "code",
      "metadata": {
        "id": "a2VZAh0P5I1m",
        "colab": {
          "base_uri": "https://localhost:8080/"
        },
        "outputId": "bdcc39a1-2faa-4796-fce0-591b6aa4a090"
      },
      "source": [
        "type(images)"
      ],
      "execution_count": 18,
      "outputs": [
        {
          "output_type": "execute_result",
          "data": {
            "text/plain": [
              "tensorflow.python.framework.ops.EagerTensor"
            ]
          },
          "metadata": {},
          "execution_count": 18
        }
      ]
    },
    {
      "cell_type": "code",
      "metadata": {
        "id": "1QDIU3FP5KSq",
        "colab": {
          "base_uri": "https://localhost:8080/"
        },
        "outputId": "69ba3bb7-8d84-4d88-9ade-c1dba0491494"
      },
      "source": [
        "images.shape"
      ],
      "execution_count": 19,
      "outputs": [
        {
          "output_type": "execute_result",
          "data": {
            "text/plain": [
              "TensorShape([349, 96, 96, 3])"
            ]
          },
          "metadata": {},
          "execution_count": 19
        }
      ]
    },
    {
      "cell_type": "code",
      "metadata": {
        "id": "y-RcPEpFZKw9",
        "colab": {
          "base_uri": "https://localhost:8080/"
        },
        "outputId": "f321dd52-5c17-44ba-a3d3-24e79c213d9b"
      },
      "source": [
        "import numpy as np\n",
        "\n",
        "# creamos la estructura de datos donde almacenaremos las imágenes cargadas\n",
        "images = np.zeros((n_images, 96, 96, 3))\n",
        "\n",
        "# implementamos el bucle que recorrerá la lista e irá cargando las imágenes,\n",
        "# redimensionándolas y añadiéndolas a nuestra estructura de datos\n",
        "for i, img_path in enumerate(tqdm(list_imgs)):\n",
        "    img = cv2.imread(img_path)\n",
        "    # opencv carga por defecto las imágenes en modo BGR\n",
        "    # esto lo tenemos que tener en cuenta, ya que si entrenamos\n",
        "    # el modelo con imágenes BGR, luego tendremos que alimentarlo\n",
        "    # con imágenes del mismo tipo para que el modelo funcione\n",
        "    # correctamente.\n",
        "    img = cv2.cvtColor(img, cv2.COLOR_BGR2RGB)\n",
        "    # la redimensionamos a 96x96 (este tamaño es arbitrario porque es un ejemplo,\n",
        "    # en un caso real, estudiaríamos el tamaño que menos distorsiona la mayoría\n",
        "    # de las imágenes)\n",
        "    img = cv2.resize(img, dsize=(96, 96))\n",
        "    # añadimos la imagen a nuestra estructura de datios\n",
        "    images[i] = img\n",
        "\n",
        "print('Loading completed!')"
      ],
      "execution_count": 20,
      "outputs": [
        {
          "output_type": "stream",
          "name": "stderr",
          "text": [
            "100%|██████████| 349/349 [00:01<00:00, 187.05it/s]"
          ]
        },
        {
          "output_type": "stream",
          "name": "stdout",
          "text": [
            "Loading completed!\n"
          ]
        },
        {
          "output_type": "stream",
          "name": "stderr",
          "text": [
            "\n"
          ]
        }
      ]
    },
    {
      "cell_type": "code",
      "metadata": {
        "id": "UoMkZSKXd31g",
        "colab": {
          "base_uri": "https://localhost:8080/"
        },
        "outputId": "422cd153-b89d-44fd-8e53-e1301addf7a3"
      },
      "source": [
        "# En este caso no se nota la diferencia porque son pocas imágenes, pero cuando\n",
        "# trabajéis con grandes cantidades de datos podréis ver la diferencia.\n",
        "\n",
        "# Ahora que ya los tenemos cargados, vamos a estudiar un poco la estructura de datos\n",
        "images.shape"
      ],
      "execution_count": 21,
      "outputs": [
        {
          "output_type": "execute_result",
          "data": {
            "text/plain": [
              "(349, 96, 96, 3)"
            ]
          },
          "metadata": {},
          "execution_count": 21
        }
      ]
    },
    {
      "cell_type": "code",
      "metadata": {
        "id": "nh2oOhOJ2DH5",
        "colab": {
          "base_uri": "https://localhost:8080/"
        },
        "outputId": "473e294e-a5b8-43f1-b56f-c889e9899295"
      },
      "source": [
        "images.min()"
      ],
      "execution_count": 22,
      "outputs": [
        {
          "output_type": "execute_result",
          "data": {
            "text/plain": [
              "0.0"
            ]
          },
          "metadata": {},
          "execution_count": 22
        }
      ]
    },
    {
      "cell_type": "code",
      "metadata": {
        "id": "Uo15GJPo2FwR",
        "colab": {
          "base_uri": "https://localhost:8080/"
        },
        "outputId": "97f45da1-2c63-4127-ed82-a2ff05a53c94"
      },
      "source": [
        "images.max()"
      ],
      "execution_count": 23,
      "outputs": [
        {
          "output_type": "execute_result",
          "data": {
            "text/plain": [
              "255.0"
            ]
          },
          "metadata": {},
          "execution_count": 23
        }
      ]
    },
    {
      "cell_type": "code",
      "metadata": {
        "id": "y9tVMzhM2MQI",
        "colab": {
          "base_uri": "https://localhost:8080/"
        },
        "outputId": "5234ec91-76f9-4950-8a60-9c77a9b193ce"
      },
      "source": [
        "images.dtype"
      ],
      "execution_count": 24,
      "outputs": [
        {
          "output_type": "execute_result",
          "data": {
            "text/plain": [
              "dtype('float64')"
            ]
          },
          "metadata": {},
          "execution_count": 24
        }
      ]
    },
    {
      "cell_type": "code",
      "metadata": {
        "id": "zFrUyGqO2JWG"
      },
      "source": [
        "# Si os fijáis, nuestros datos son de tipo float64, y van de 0 a 255.\n",
        "# Normalmente, cuando trabajamos con imágenes, solemos trabajar con datos de\n",
        "# tipo uint8 que van de 0 a 255, o float que van de 0 a 1.\n",
        "# Vamos a convertir nuestra imagen a de 0 a 1.\n",
        "images = images / 255."
      ],
      "execution_count": 25,
      "outputs": []
    },
    {
      "cell_type": "code",
      "metadata": {
        "id": "V-_s9qah4U1z",
        "colab": {
          "base_uri": "https://localhost:8080/"
        },
        "outputId": "b6925b45-cc4c-43d5-e26a-8cdb88c39411"
      },
      "source": [
        "images.min()"
      ],
      "execution_count": 26,
      "outputs": [
        {
          "output_type": "execute_result",
          "data": {
            "text/plain": [
              "0.0"
            ]
          },
          "metadata": {},
          "execution_count": 26
        }
      ]
    },
    {
      "cell_type": "code",
      "metadata": {
        "id": "uyicQVLh4Wi0",
        "colab": {
          "base_uri": "https://localhost:8080/"
        },
        "outputId": "49d98977-e179-4db2-9665-10ca106cdcd7"
      },
      "source": [
        "images.max()"
      ],
      "execution_count": 27,
      "outputs": [
        {
          "output_type": "execute_result",
          "data": {
            "text/plain": [
              "1.0"
            ]
          },
          "metadata": {},
          "execution_count": 27
        }
      ]
    },
    {
      "cell_type": "markdown",
      "metadata": {
        "id": "U1Dpet446CZK"
      },
      "source": [
        "Pues así de fácil es como podemos preparar los datos para alimentar nuestra red neuronal y entrenarla :)\n",
        "\n",
        "Más adelante veremos cómo definir nuestra red neuronal y cómo entrenarla."
      ]
    },
    {
      "cell_type": "markdown",
      "metadata": {
        "id": "E2-EEjlWDYgt"
      },
      "source": [
        "##2.2 Sesiones iterativas y grafos\n",
        "\n",
        "Antes os he comentado que en TensorFlow, primero se definen las operaciones a realizar y luego se ejecutan. Para ello, se usa un grafo.\n",
        "\n",
        "Un ejemplo sencillo de una suma de a + b.\n",
        "\n",
        "<img src=\"https://image.ibb.co/nkwp3y/tf_graph_2.png\" alt=\"tf_graph_2\" border=\"0\" height=\"200\">\n",
        "\n",
        "Y aquí tenéis un ejemplo un poco más complicado, para los valientes:\n",
        "\n",
        "![alt text](https://www.tensorflow.org/images/tensors_flowing.gif)\n",
        "\n",
        "Es un ejemplo de un grafo que representa la clasificación de una imagen de un número en su correspondiente clase. No es necesario que entendáis lo que está ocurriendo, simplemente que tensorflow funciona así: primero tu defines las operaciones que quieres que se realicen, junto a las variables necearias (creas el grafo) y luego lo ejecutas (con una sesión). Pero basta de cháchara, ¡vamos a ponernos manos a la obra!\n"
      ]
    },
    {
      "cell_type": "markdown",
      "metadata": {
        "id": "4HNcdMWSRH5z"
      },
      "source": [
        "\n",
        "\n",
        "Si a alguien le interesa el tema del Covid19, este enlace es un buen recurso para obtener más datos y conocer el estado del arte: https://aimi.stanford.edu/resources/covid19."
      ]
    },
    {
      "cell_type": "code",
      "metadata": {
        "id": "N-ADlZ8eYG7h",
        "colab": {
          "base_uri": "https://localhost:8080/"
        },
        "outputId": "5a7e7408-7fa7-4e14-a895-2d7e4ee36624"
      },
      "source": [
        "# Lo primero que necesitamos hacer es asegurarnos de que vamos a ejecutar la\n",
        "# versión 1.x de TensorFlow. Hace aproximadamente unos tres años salió la versión\n",
        "# 2.0, que establece por defecto el \"EagerMode\" para hacer más sencilla la\n",
        "# implementación y depuración de código.\n",
        "\n",
        "# No obstante, al igual que pasó en su día con Python 2 y Python 3, con tensorflow\n",
        "# ha pasado algo similar: la versión 1.x se sigue utilizando mucho. Algunas de\n",
        "# las razones son la retro-compatibilidad y la rapidez de ejecución. En este\n",
        "# curso veremos ejemplos de ambos casos.\n",
        "\n",
        "# Vamos a ver qué versión es la que tenemos:\n",
        "import tensorflow as tf\n",
        "print(tf.__version__)"
      ],
      "execution_count": 28,
      "outputs": [
        {
          "output_type": "stream",
          "name": "stdout",
          "text": [
            "2.17.0\n"
          ]
        }
      ]
    },
    {
      "cell_type": "code",
      "metadata": {
        "id": "IYRJROCKZRWl",
        "colab": {
          "base_uri": "https://localhost:8080/"
        },
        "outputId": "02919b1c-19d3-4b60-8369-b7a40c5712cc"
      },
      "source": [
        "# Desde el 27 de marzo de 2020, Google Colab tiene activada por defecto la versión\n",
        "# 2.x. Para poder usar la 1.x debemos utilizar el siguiente comando mágico:\n",
        "\n",
        "import tensorflow.compat.v1 as tf\n",
        "tf.disable_v2_behavior()"
      ],
      "execution_count": 29,
      "outputs": [
        {
          "output_type": "stream",
          "name": "stderr",
          "text": [
            "WARNING:tensorflow:From /usr/local/lib/python3.10/dist-packages/tensorflow/python/compat/v2_compat.py:98: disable_resource_variables (from tensorflow.python.ops.resource_variables_toggle) is deprecated and will be removed in a future version.\n",
            "Instructions for updating:\n",
            "non-resource variables are not supported in the long term\n"
          ]
        }
      ]
    },
    {
      "cell_type": "code",
      "metadata": {
        "id": "OAXLHP3bZm4U",
        "colab": {
          "base_uri": "https://localhost:8080/"
        },
        "outputId": "32d8d53a-f2a9-41a6-ffe3-063b5775565f"
      },
      "source": [
        "# Vamos a comprobar qué versión tenemos ahora (no cambiamos la version solo permitimos que el código de TF1 tb se pueda ejecutar):\n",
        "import tensorflow as tf\n",
        "print(tf.__version__)"
      ],
      "execution_count": 30,
      "outputs": [
        {
          "output_type": "stream",
          "name": "stdout",
          "text": [
            "2.17.0\n"
          ]
        }
      ]
    },
    {
      "cell_type": "code",
      "metadata": {
        "id": "Dl8M2wYaGmu1"
      },
      "source": [
        "# Lo primero que debemos hacer es importar el paquete de Tensorflow\n",
        "import numpy as np\n",
        "import tensorflow.compat.v1 as tf\n",
        "tf.disable_v2_behavior()\n",
        "import matplotlib.pyplot as plt # importamos también pyplot para gráficas\n",
        "%matplotlib inline\n",
        "\n",
        "# Es muy importante que conozcamos 3 conceptos básicos de TF:\n",
        "# tf.Graph: representa un conjunto de tf.Operations\n",
        "# tf.Operation: son las operaciones indicadas por las ecuaciones que escribimos\n",
        "# tf.Tensor: los resultados de las tf.Operations\n",
        "\n",
        "# En un principio, el tf.Graph es transparente a nosotros, ya que por defecto\n",
        "# existe uno donde se van añadiendo todas las operaciones que definimos:\n",
        "# tf.get_default_graph()"
      ],
      "execution_count": 31,
      "outputs": []
    },
    {
      "cell_type": "code",
      "metadata": {
        "id": "7SX9jnzhF9hb",
        "colab": {
          "base_uri": "https://localhost:8080/"
        },
        "outputId": "7ecf01ac-f337-4d69-e709-b957d04acb8d"
      },
      "source": [
        "# Vamos a empezar con algo muy sencillo, una simple multiplicación en TensorFlow\n",
        "\n",
        "# Primero definimos los valores que queremos utilizar\n",
        "x = tf.constant(6)  # tf.Constant porque no va a cambiar durante la ejecución\n",
        "y = tf.constant(8)\n",
        "\n",
        "# Ahora definimos la operación a realizar: la multiplicación\n",
        "result = tf.multiply(x, y)\n",
        "print(result)"
      ],
      "execution_count": 32,
      "outputs": [
        {
          "output_type": "stream",
          "name": "stdout",
          "text": [
            "Tensor(\"Mul:0\", shape=(), dtype=int32)\n"
          ]
        }
      ]
    },
    {
      "cell_type": "code",
      "metadata": {
        "id": "uPy3q8bZMHkp",
        "colab": {
          "base_uri": "https://localhost:8080/"
        },
        "outputId": "ea205d49-365b-4c3c-86a3-e03524f35c2a"
      },
      "source": [
        "# Como podéis ver, no nos ha devuelto el resultado. Lo que ha hecho hasta ahora\n",
        "# ha sido crear el grafo. Por poner un ejemplo, es como montar un coche. Ahora\n",
        "# lo tenemos montado, pero aún no hace aquello para lo que fue diseñado,\n",
        "# desplazarse. Para ello, deberíamos encenderlo. Pues con esto es igual,\n",
        "# tenemos que encenderlo:\n",
        "sess = tf.Session() # abrimos nuestro \"coche\" y lo encendemos\n",
        "output = sess.run(result)   # nos ponemos en movimiento\n",
        "print(output)"
      ],
      "execution_count": 33,
      "outputs": [
        {
          "output_type": "stream",
          "name": "stdout",
          "text": [
            "48\n"
          ]
        }
      ]
    },
    {
      "cell_type": "code",
      "metadata": {
        "id": "7uwK6qYrSuD5",
        "colab": {
          "base_uri": "https://localhost:8080/"
        },
        "outputId": "0b9e45b0-b9a2-4920-ae77-a2f4ab41d1af"
      },
      "source": [
        "# Podemos ver la definición del grafo\n",
        "print(tf.get_default_graph().as_graph_def())"
      ],
      "execution_count": 34,
      "outputs": [
        {
          "output_type": "stream",
          "name": "stdout",
          "text": [
            "node {\n",
            "  name: \"Const\"\n",
            "  op: \"Const\"\n",
            "  attr {\n",
            "    key: \"dtype\"\n",
            "    value {\n",
            "      type: DT_INT32\n",
            "    }\n",
            "  }\n",
            "  attr {\n",
            "    key: \"value\"\n",
            "    value {\n",
            "      tensor {\n",
            "        dtype: DT_INT32\n",
            "        tensor_shape {\n",
            "        }\n",
            "        int_val: 6\n",
            "      }\n",
            "    }\n",
            "  }\n",
            "}\n",
            "node {\n",
            "  name: \"Const_1\"\n",
            "  op: \"Const\"\n",
            "  attr {\n",
            "    key: \"dtype\"\n",
            "    value {\n",
            "      type: DT_INT32\n",
            "    }\n",
            "  }\n",
            "  attr {\n",
            "    key: \"value\"\n",
            "    value {\n",
            "      tensor {\n",
            "        dtype: DT_INT32\n",
            "        tensor_shape {\n",
            "        }\n",
            "        int_val: 8\n",
            "      }\n",
            "    }\n",
            "  }\n",
            "}\n",
            "node {\n",
            "  name: \"Mul\"\n",
            "  op: \"Mul\"\n",
            "  input: \"Const\"\n",
            "  input: \"Const_1\"\n",
            "  attr {\n",
            "    key: \"T\"\n",
            "    value {\n",
            "      type: DT_INT32\n",
            "    }\n",
            "  }\n",
            "}\n",
            "versions {\n",
            "  producer: 1882\n",
            "}\n",
            "\n"
          ]
        }
      ]
    },
    {
      "cell_type": "code",
      "metadata": {
        "id": "E5PP--6XYpI7"
      },
      "source": [
        "# Como podéis observar, el grafo se compone de 2 nodos de tipo constante y uno\n",
        "# de tipo operador (la multiplicación). Sin embargo, los nombres no son muy indicativos...\n",
        "# ¿Cómo podemos nombrarlos?\n",
        "x2 = tf.constant(5.0, name='Juan')\n",
        "y2 = tf.constant(6.0, name='Manoli')\n",
        "\n",
        "result = tf.multiply(x2, y2)"
      ],
      "execution_count": 35,
      "outputs": []
    },
    {
      "cell_type": "code",
      "metadata": {
        "id": "T8c-UxINTHBx",
        "colab": {
          "base_uri": "https://localhost:8080/"
        },
        "outputId": "4dd0c3f3-18cf-415c-de90-a9f57e071927"
      },
      "source": [
        "# Vemos la definición del grafo\n",
        "print(tf.get_default_graph().as_graph_def())"
      ],
      "execution_count": 36,
      "outputs": [
        {
          "output_type": "stream",
          "name": "stdout",
          "text": [
            "node {\n",
            "  name: \"Const\"\n",
            "  op: \"Const\"\n",
            "  attr {\n",
            "    key: \"dtype\"\n",
            "    value {\n",
            "      type: DT_INT32\n",
            "    }\n",
            "  }\n",
            "  attr {\n",
            "    key: \"value\"\n",
            "    value {\n",
            "      tensor {\n",
            "        dtype: DT_INT32\n",
            "        tensor_shape {\n",
            "        }\n",
            "        int_val: 6\n",
            "      }\n",
            "    }\n",
            "  }\n",
            "}\n",
            "node {\n",
            "  name: \"Const_1\"\n",
            "  op: \"Const\"\n",
            "  attr {\n",
            "    key: \"dtype\"\n",
            "    value {\n",
            "      type: DT_INT32\n",
            "    }\n",
            "  }\n",
            "  attr {\n",
            "    key: \"value\"\n",
            "    value {\n",
            "      tensor {\n",
            "        dtype: DT_INT32\n",
            "        tensor_shape {\n",
            "        }\n",
            "        int_val: 8\n",
            "      }\n",
            "    }\n",
            "  }\n",
            "}\n",
            "node {\n",
            "  name: \"Mul\"\n",
            "  op: \"Mul\"\n",
            "  input: \"Const\"\n",
            "  input: \"Const_1\"\n",
            "  attr {\n",
            "    key: \"T\"\n",
            "    value {\n",
            "      type: DT_INT32\n",
            "    }\n",
            "  }\n",
            "}\n",
            "node {\n",
            "  name: \"Juan\"\n",
            "  op: \"Const\"\n",
            "  attr {\n",
            "    key: \"dtype\"\n",
            "    value {\n",
            "      type: DT_FLOAT\n",
            "    }\n",
            "  }\n",
            "  attr {\n",
            "    key: \"value\"\n",
            "    value {\n",
            "      tensor {\n",
            "        dtype: DT_FLOAT\n",
            "        tensor_shape {\n",
            "        }\n",
            "        float_val: 5.0\n",
            "      }\n",
            "    }\n",
            "  }\n",
            "}\n",
            "node {\n",
            "  name: \"Manoli\"\n",
            "  op: \"Const\"\n",
            "  attr {\n",
            "    key: \"dtype\"\n",
            "    value {\n",
            "      type: DT_FLOAT\n",
            "    }\n",
            "  }\n",
            "  attr {\n",
            "    key: \"value\"\n",
            "    value {\n",
            "      tensor {\n",
            "        dtype: DT_FLOAT\n",
            "        tensor_shape {\n",
            "        }\n",
            "        float_val: 6.0\n",
            "      }\n",
            "    }\n",
            "  }\n",
            "}\n",
            "node {\n",
            "  name: \"Mul_1\"\n",
            "  op: \"Mul\"\n",
            "  input: \"Juan\"\n",
            "  input: \"Manoli\"\n",
            "  attr {\n",
            "    key: \"T\"\n",
            "    value {\n",
            "      type: DT_FLOAT\n",
            "    }\n",
            "  }\n",
            "}\n",
            "versions {\n",
            "  producer: 1882\n",
            "}\n",
            "\n"
          ]
        }
      ]
    },
    {
      "cell_type": "code",
      "metadata": {
        "id": "CwZ66Kd5xLVl"
      },
      "source": [
        "# Una vez hemos acabado de hacer la\n",
        "# operación, necesitamos cerrar la sesión para liberar los recursos:\n",
        "\n",
        "sess.close()  # apagamos y cerramos nuestro \"coche\""
      ],
      "execution_count": 37,
      "outputs": []
    },
    {
      "cell_type": "code",
      "metadata": {
        "id": "FstdCcqvY1Rn"
      },
      "source": [
        "# Si ahora quisieramos ejecutar de nuevo nuestras operaciones, no podríamos.\n",
        "# Sería como intentar conducir el coche desde fuera mientras está cerrado!\n",
        "\n",
        "sess.run(output)"
      ],
      "execution_count": 38,
      "outputs": []
    },
    {
      "cell_type": "code",
      "metadata": {
        "id": "yCaZ6H5tZabx",
        "colab": {
          "base_uri": "https://localhost:8080/"
        },
        "outputId": "d60f42cd-ecae-49de-ef02-802304e3b97f"
      },
      "source": [
        "# Por último, también podemos indicarle a tensorflow sobre que GPU queremos que\n",
        "# se ejecute:\n",
        "\n",
        "# Para ello, primero vamos a ver cómo podemos ver una lista de los dispositivos\n",
        "# disponibles:\n",
        "\n",
        "from tensorflow.python.client import device_lib\n",
        "\n",
        "def get_available_devices():\n",
        "    local_device_protos = device_lib.list_local_devices()\n",
        "    return [x.name for x in local_device_protos]\n",
        "\n",
        "print(get_available_devices())\n"
      ],
      "execution_count": 39,
      "outputs": [
        {
          "output_type": "stream",
          "name": "stdout",
          "text": [
            "['/device:CPU:0']\n"
          ]
        }
      ]
    },
    {
      "cell_type": "code",
      "metadata": {
        "id": "2G2SwY4Ta2In",
        "colab": {
          "base_uri": "https://localhost:8080/"
        },
        "outputId": "fc3a6cc6-8a17-494c-abd8-22d32324bf6f"
      },
      "source": [
        "# Seleccionamos la GPU:0 y multiplicamos [3 3] por [2 2]', lo cual debería dar\n",
        "# 3x2 + 3x2 = 12. Vamos a comprobarlo:\n",
        "\n",
        "# si utilizamos la sentencia \"with ___ as ___:\"\" como en el ejemplo siguiente,\n",
        "# conseguimos que python se encargue de liberar los recursos de la sesion\n",
        "# creada por tensorflow, con lo cual no necesitamos cerrar la sesion manualmente\n",
        "\n",
        "with tf.Session() as sess:\n",
        "  with tf.device(\"/device:CPU:0\"):\n",
        "    matrix1 = tf.constant([[3., 3.]])\n",
        "    matrix2 = tf.constant([[2.],[2.]])\n",
        "    product = tf.matmul(matrix1, matrix2)\n",
        "\n",
        "  output = sess.run(product)\n",
        "  print(output)\n",
        "print(product)"
      ],
      "execution_count": 40,
      "outputs": [
        {
          "output_type": "stream",
          "name": "stdout",
          "text": [
            "[[12.]]\n",
            "Tensor(\"MatMul:0\", shape=(1, 1), dtype=float32, device=/device:CPU:0)\n"
          ]
        }
      ]
    },
    {
      "cell_type": "code",
      "metadata": {
        "id": "G0I4godgZ1EK",
        "colab": {
          "base_uri": "https://localhost:8080/"
        },
        "outputId": "d17c497f-b063-49c2-c465-e52ce587f7e0"
      },
      "source": [
        "# Vamos a crear un Tensor 1D de 32 valores igualmente espaciados entre -3 y 3\n",
        "n_values = 64\n",
        "x = tf.linspace(-3.0, 3.0, n_values)\n",
        "\n",
        "sess = tf.Session()\n",
        "result = sess.run(x)\n",
        "\n",
        "print(result)"
      ],
      "execution_count": 41,
      "outputs": [
        {
          "output_type": "stream",
          "name": "stdout",
          "text": [
            "[-3.         -2.9047618  -2.8095238  -2.7142856  -2.6190476  -2.5238094\n",
            " -2.4285715  -2.3333333  -2.2380953  -2.142857   -2.047619   -1.9523809\n",
            " -1.8571428  -1.7619047  -1.6666666  -1.5714285  -1.4761904  -1.3809524\n",
            " -1.2857143  -1.1904762  -1.0952381  -1.         -0.9047618  -0.8095238\n",
            " -0.7142856  -0.61904764 -0.52380943 -0.42857146 -0.33333325 -0.23809528\n",
            " -0.14285707 -0.0476191   0.0476191   0.14285731  0.23809528  0.3333335\n",
            "  0.42857146  0.5238097   0.61904764  0.71428585  0.8095238   0.904762\n",
            "  1.          1.0952382   1.1904764   1.2857141   1.3809524   1.4761906\n",
            "  1.5714288   1.666667    1.7619047   1.8571429   1.9523811   2.0476193\n",
            "  2.142857    2.2380953   2.3333335   2.4285717   2.5238094   2.6190476\n",
            "  2.7142859   2.809524    2.9047618   3.        ]\n"
          ]
        }
      ]
    },
    {
      "cell_type": "code",
      "metadata": {
        "id": "oH_cClYnaby8",
        "colab": {
          "base_uri": "https://localhost:8080/"
        },
        "outputId": "25b4ebd1-a3ff-4083-9673-38c03c32b312"
      },
      "source": [
        "# Además de con sess.run(_), existen otras formas de evaluar Tensores\n",
        "x.eval(session=sess)"
      ],
      "execution_count": 42,
      "outputs": [
        {
          "output_type": "execute_result",
          "data": {
            "text/plain": [
              "array([-3.        , -2.9047618 , -2.8095238 , -2.7142856 , -2.6190476 ,\n",
              "       -2.5238094 , -2.4285715 , -2.3333333 , -2.2380953 , -2.142857  ,\n",
              "       -2.047619  , -1.9523809 , -1.8571428 , -1.7619047 , -1.6666666 ,\n",
              "       -1.5714285 , -1.4761904 , -1.3809524 , -1.2857143 , -1.1904762 ,\n",
              "       -1.0952381 , -1.        , -0.9047618 , -0.8095238 , -0.7142856 ,\n",
              "       -0.61904764, -0.52380943, -0.42857146, -0.33333325, -0.23809528,\n",
              "       -0.14285707, -0.0476191 ,  0.0476191 ,  0.14285731,  0.23809528,\n",
              "        0.3333335 ,  0.42857146,  0.5238097 ,  0.61904764,  0.71428585,\n",
              "        0.8095238 ,  0.904762  ,  1.        ,  1.0952382 ,  1.1904764 ,\n",
              "        1.2857141 ,  1.3809524 ,  1.4761906 ,  1.5714288 ,  1.666667  ,\n",
              "        1.7619047 ,  1.8571429 ,  1.9523811 ,  2.0476193 ,  2.142857  ,\n",
              "        2.2380953 ,  2.3333335 ,  2.4285717 ,  2.5238094 ,  2.6190476 ,\n",
              "        2.7142859 ,  2.809524  ,  2.9047618 ,  3.        ], dtype=float32)"
            ]
          },
          "metadata": {},
          "execution_count": 42
        }
      ]
    },
    {
      "cell_type": "code",
      "metadata": {
        "id": "jb0uiBo7aomi"
      },
      "source": [
        "# Nos tenemos que acordar siempre de cerrar la sesión\n",
        "sess.close()"
      ],
      "execution_count": 43,
      "outputs": []
    },
    {
      "cell_type": "code",
      "metadata": {
        "id": "LoYGiXEUatpx",
        "colab": {
          "base_uri": "https://localhost:8080/"
        },
        "outputId": "01cc8658-7e5c-4362-dbd6-ca419f4b5e97"
      },
      "source": [
        "# Otra opción es utilizar una sesión interactiva, lo que nos facilita la vida\n",
        "# al no tener que estar llamando constantemente al .run() para que se ejecuten\n",
        "# los resultados.  Mediante una sesión interactiva es posible establecer una\n",
        "# sesión activa por defecto mientras esta se encuentra bajo construcción.\n",
        "sess = tf.InteractiveSession()\n",
        "x.eval()"
      ],
      "execution_count": 44,
      "outputs": [
        {
          "output_type": "execute_result",
          "data": {
            "text/plain": [
              "array([-3.        , -2.9047618 , -2.8095238 , -2.7142856 , -2.6190476 ,\n",
              "       -2.5238094 , -2.4285715 , -2.3333333 , -2.2380953 , -2.142857  ,\n",
              "       -2.047619  , -1.9523809 , -1.8571428 , -1.7619047 , -1.6666666 ,\n",
              "       -1.5714285 , -1.4761904 , -1.3809524 , -1.2857143 , -1.1904762 ,\n",
              "       -1.0952381 , -1.        , -0.9047618 , -0.8095238 , -0.7142856 ,\n",
              "       -0.61904764, -0.52380943, -0.42857146, -0.33333325, -0.23809528,\n",
              "       -0.14285707, -0.0476191 ,  0.0476191 ,  0.14285731,  0.23809528,\n",
              "        0.3333335 ,  0.42857146,  0.5238097 ,  0.61904764,  0.71428585,\n",
              "        0.8095238 ,  0.904762  ,  1.        ,  1.0952382 ,  1.1904764 ,\n",
              "        1.2857141 ,  1.3809524 ,  1.4761906 ,  1.5714288 ,  1.666667  ,\n",
              "        1.7619047 ,  1.8571429 ,  1.9523811 ,  2.0476193 ,  2.142857  ,\n",
              "        2.2380953 ,  2.3333335 ,  2.4285717 ,  2.5238094 ,  2.6190476 ,\n",
              "        2.7142859 ,  2.809524  ,  2.9047618 ,  3.        ], dtype=float32)"
            ]
          },
          "metadata": {},
          "execution_count": 44
        }
      ]
    },
    {
      "cell_type": "code",
      "metadata": {
        "id": "Tlaj5jg6a4y3"
      },
      "source": [
        "# ¿Qué os parece? Más cómodo, ¿no?\n",
        "\n",
        "# ¡Pues esto no es nada! Desde TF 2.0, el Eager Mode es el activo por defecto,\n",
        "# permitiendonos olvidarnos del grafo y comportándose como si de numpy se\n",
        "# tratara. Más adelante veremos un ejemplo de cómo es el modo de ejecución de\n",
        "# TF 2.0 ;)\n",
        "\n",
        "# Para los que seais curiosos, el gran culpable de esto fue PyTorch, otra de las\n",
        "# grandes librerías que existen para Deep Learning. Ésta, desde el principio,\n",
        "# fue mucho más intuitiva y sencilla de utilizar, implementando su \"Autograd\",\n",
        "# que lo que hace es automatizar la diferenciación de variables.\n",
        "\n"
      ],
      "execution_count": 45,
      "outputs": []
    },
    {
      "cell_type": "markdown",
      "metadata": {
        "id": "tK3rEoRzgNY7"
      },
      "source": [
        " Vamos ahora a ver una tf.Operation. Para ello, vamos a usar \"x\" para crear\n",
        " y visualizar una distribución Gaussiana. Para los que no la recordéis, la fórmula de la distribución de probabilidad de Gauss es así:\n",
        "\n",
        "<img src=\"https://image.ibb.co/hTyQbJ/normal_fdp.png\" alt=\"normal_fdp\" border=\"0\">\n",
        "\n",
        "La gráfica la vamos a poder ver enseguida."
      ]
    },
    {
      "cell_type": "code",
      "metadata": {
        "id": "fuX2Xjqs4PNz"
      },
      "source": [
        "sigma = 1.0\n",
        "mean = 0\n",
        "\n",
        "# Implementamos la fórmula de una distribución Gaussiana\n",
        "g1d = tf.exp(tf.negative(tf.pow(x - mean, 2.0) / (2.0 * tf.pow(sigma, 2.0)))) * (1.0 / (sigma * tf.sqrt(2.0 * 3.1415)))"
      ],
      "execution_count": 46,
      "outputs": []
    },
    {
      "cell_type": "code",
      "metadata": {
        "id": "Z7In5yGzbhD5",
        "colab": {
          "base_uri": "https://localhost:8080/"
        },
        "outputId": "f7f7ff26-234d-468a-b5f8-4c292cadb06b"
      },
      "source": [
        "# Podemos comprobar que nuestra tf.Operation ha sido incluída efectivamente en\n",
        "# nuestro tf.Graph:\n",
        "\n",
        "if g1d.graph is tf.get_default_graph():\n",
        "  print('Todo bien')"
      ],
      "execution_count": 47,
      "outputs": [
        {
          "output_type": "stream",
          "name": "stdout",
          "text": [
            "Todo bien\n"
          ]
        }
      ]
    },
    {
      "cell_type": "code",
      "metadata": {
        "id": "3ZwcUXOkbw8g",
        "colab": {
          "base_uri": "https://localhost:8080/",
          "height": 447
        },
        "outputId": "d27af481-0b31-4a4e-db90-ceceeccfb548"
      },
      "source": [
        "# Ejecutando el tf.Graph obtenemos el resultado, y con pyplot lo visualizamos:\n",
        "plt.plot(g1d.eval())"
      ],
      "execution_count": 48,
      "outputs": [
        {
          "output_type": "execute_result",
          "data": {
            "text/plain": [
              "[<matplotlib.lines.Line2D at 0x7994fcf0c0a0>]"
            ]
          },
          "metadata": {},
          "execution_count": 48
        },
        {
          "output_type": "display_data",
          "data": {
            "text/plain": [
              "<Figure size 640x480 with 1 Axes>"
            ],
            "image/png": "[encoded data removed]"
          },
          "metadata": {}
        }
      ]
    },
    {
      "cell_type": "code",
      "metadata": {
        "id": "PX8QHdMOd9vJ",
        "colab": {
          "base_uri": "https://localhost:8080/"
        },
        "outputId": "01323b40-79a9-4487-faca-d0184676d511"
      },
      "source": [
        "# ¿Qué dimensiones tiene \"g1d\"?\n",
        "print(g1d.get_shape())\n",
        "print(type(g1d.get_shape()))"
      ],
      "execution_count": 49,
      "outputs": [
        {
          "output_type": "stream",
          "name": "stdout",
          "text": [
            "(64,)\n",
            "<class 'tensorflow.python.framework.tensor_shape.TensorShape'>\n"
          ]
        }
      ]
    },
    {
      "cell_type": "code",
      "source": [
        "# podemos convertir a list\n",
        "print(g1d.get_shape().as_list())"
      ],
      "metadata": {
        "colab": {
          "base_uri": "https://localhost:8080/"
        },
        "id": "raxopXDcpM55",
        "outputId": "d99d3d6f-0a5e-4d5d-bac9-b79abf5cd9a7"
      },
      "execution_count": 50,
      "outputs": [
        {
          "output_type": "stream",
          "name": "stdout",
          "text": [
            "[64]\n"
          ]
        }
      ]
    },
    {
      "cell_type": "code",
      "metadata": {
        "id": "53bEoZXVeDDi",
        "colab": {
          "base_uri": "https://localhost:8080/"
        },
        "outputId": "24d844f5-7a92-4c2c-bf72-8e2c8516e682"
      },
      "source": [
        "# Habrá momentos en los que no sepamos las dimensiones de una variable hasta que\n",
        "# sea ejecutada la operación que devuelve su valor. Para estos casos, podemos\n",
        "# utilizar tf.shape(variable), que nos devuelve un Tensor que calculará en tiempo\n",
        "# de ejecución las dimensiones de nuestro resultado.\n",
        "\n",
        "# Esto se conoce como 'static shape' y 'dinamic shape', donde static se calcula\n",
        "# teniendo en cuenta las dimensiones de los Tensores y Operaciones involucrados,\n",
        "# y la dinámica en tiempo de ejecución.\n",
        "\n",
        "# ¿Qué pasa si definimos x como un \"placeholder\"? Un place holder es como una\n",
        "# reserva, indica que ahí habrá un tensor, pero no es necesario definirlo en\n",
        "# ese momento. Por ejemplo, definiendo:\n",
        "\n",
        "x = tf.placeholder(tf.int32, shape=[5])\n",
        "\n",
        "# sabemos que x va a albergar un tensor 1D de 5 dimensiones, como confirma\n",
        "# x.get_shape():\n",
        "\n",
        "print(x.get_shape())\n",
        "\n",
        "# pero no sabemos qué valores van a formarla hasta que no se lo indiquemos.\n",
        "\n",
        "# Diferencias entre placeholder y variable:\n",
        "\n",
        "# Variables\n",
        "\n",
        "#  - Se utilizan para alojar parámetros que se aprenden durante el entrenamiento\n",
        "#  - Por tanto, los valores se derivan del entrenamiento\n",
        "#  - Requieren que se les asigne un valor inicial (puede ser aleatorio)\n",
        "\n",
        "# Placeholders\n",
        "\n",
        "#  - Reservan espacio para datos (por ejemplo, para los pixels de una imagen)\n",
        "#  - No requieren que se les asigne un valor iniciar (aunque se puede)"
      ],
      "execution_count": 51,
      "outputs": [
        {
          "output_type": "stream",
          "name": "stdout",
          "text": [
            "(5,)\n"
          ]
        }
      ]
    },
    {
      "cell_type": "code",
      "metadata": {
        "id": "4HwYg186kA6k",
        "colab": {
          "base_uri": "https://localhost:8080/"
        },
        "outputId": "96b94e84-2184-4651-cd78-f17381196c78"
      },
      "source": [
        "# Sin embargo, éste es el valor estático de las dimensiones de x. ¿Qué ocurre\n",
        "# si aplicamos un tf.unique() sobre x?\n",
        "y, _ = tf.unique(x)\n",
        "print(y.get_shape())"
      ],
      "execution_count": 52,
      "outputs": [
        {
          "output_type": "stream",
          "name": "stdout",
          "text": [
            "(?,)\n"
          ]
        }
      ]
    },
    {
      "cell_type": "code",
      "metadata": {
        "id": "fGCCOqWZmQ51",
        "colab": {
          "base_uri": "https://localhost:8080/"
        },
        "outputId": "f59a09dd-0679-405e-f833-4e326aa68845"
      },
      "source": [
        "# Parece que está confundido, como Dinio por la noche. Lo que pasa, es que\n",
        "# tf.unique() devuelve los valores únicos de x, que en un principio no se\n",
        "# saben, ya que x está definida como un placeholder, y un placeholder no tiene\n",
        "# por qué estar definido hasta el momento de la ejecución, como hemos dicho\n",
        "# antes. De hecho, vamos a ver qué ocurre si alimentamos \"x\" con dos valores\n",
        "# distintos:\n",
        "\n",
        "with tf.Session() as sess:\n",
        "  print(sess.run(y, feed_dict={x: [0, 1, 2, 1, 2]}))\n",
        "  print(sess.run(y, feed_dict={x: [0, 1, 2, 1, 2]}).shape)\n",
        "\n",
        "# ¡Fijaos! El tamaño de y cambia dependiendo de lo que devuelve tf.unique(). A\n",
        "# esto se le llama \"dynamic shape\", y siempre está definido, nunca os devolverá\n",
        "# un interrogante por respuesta. Gracias a esto, TensorFlow soporta operaciones\n",
        "# como tf.unique() que pueden tener resultados de tamaños variables."
      ],
      "execution_count": 53,
      "outputs": [
        {
          "output_type": "stream",
          "name": "stdout",
          "text": [
            "[0 1 2]\n",
            "(3,)\n"
          ]
        }
      ]
    },
    {
      "cell_type": "code",
      "metadata": {
        "id": "wAd6y44BkTGF",
        "colab": {
          "base_uri": "https://localhost:8080/"
        },
        "outputId": "6e1dc018-417b-4b85-bf20-e335b67879ad"
      },
      "source": [
        "# Así que ya sabéis, siempre que utilicéis operaciones con salidas variables\n",
        "# tendréis que usar tf.shape(variable) para calcular el dynamic shape de un\n",
        "# tensor\n",
        "\n",
        "sy = tf.shape(y)\n",
        "# Devuelve una lista con las dimensiones\n",
        "print(sy.eval(feed_dict={x: [0, 1, 2, 3, 4]}))\n",
        "\n",
        "# Accedemos a la dimension que nos interesa\n",
        "print(sy.eval(feed_dict={x: [0, 1, 2, 3, 4]})[0])"
      ],
      "execution_count": 54,
      "outputs": [
        {
          "output_type": "stream",
          "name": "stdout",
          "text": [
            "[5]\n",
            "5\n"
          ]
        }
      ]
    },
    {
      "cell_type": "code",
      "metadata": {
        "id": "aRSp25a-eVyz",
        "colab": {
          "base_uri": "https://localhost:8080/"
        },
        "outputId": "17e875af-9aa5-4d5c-e966-d7f73810957f"
      },
      "source": [
        "# Así, podemos realizar operaciones después teniendo en cuenta el tamaño de la\n",
        "# salida de nuestra operación, el cual desconocemos previamente\n",
        "\n",
        "# Recordad que shape devuelve una lista con las dimensiones de nuestro tensor\n",
        "print(tf.shape(y).eval(feed_dict={x: [0, 1, 3, 1, 0]}))\n",
        "print(type(tf.shape(y).eval(feed_dict={x: [0, 1, 3, 1, 0]})))\n",
        "\n",
        "# Es necesario que especifiquemos que dimensiones nos interesan\n",
        "print(tf.stack([y, y[::-1], tf.range(tf.shape(y)[0])]).eval(feed_dict={x: [0, 1, 3, 1, 0]}))"
      ],
      "execution_count": 55,
      "outputs": [
        {
          "output_type": "stream",
          "name": "stdout",
          "text": [
            "[3]\n",
            "<class 'numpy.ndarray'>\n",
            "[[0 1 3]\n",
            " [3 1 0]\n",
            " [0 1 2]]\n"
          ]
        }
      ]
    },
    {
      "cell_type": "code",
      "metadata": {
        "id": "hg6piUw8eYkl",
        "colab": {
          "base_uri": "https://localhost:8080/",
          "height": 483
        },
        "outputId": "7fcb1454-f94e-4340-f841-69d74bdc440f"
      },
      "source": [
        "# Vamos ahora a ver una distribución Gaussiana en 2D\n",
        "g1d_r = tf.reshape(g1d, [n_values, 1])\n",
        "print(g1d.get_shape().as_list())\n",
        "print(g1d_r.get_shape().as_list())\n",
        "\n",
        "# Multiplicamos el vector fila de la Gaussiana 1D por el columna para obtener la\n",
        "# versión 2D\n",
        "g2d = tf.matmul(tf.reshape(g1d, [n_values, 1]), tf.reshape(g1d, [1, n_values]))\n",
        "\n",
        "# Visualizamos la Gaussiana 2D\n",
        "plt.imshow(g2d.eval())"
      ],
      "execution_count": 56,
      "outputs": [
        {
          "output_type": "stream",
          "name": "stdout",
          "text": [
            "[64]\n",
            "[64, 1]\n"
          ]
        },
        {
          "output_type": "execute_result",
          "data": {
            "text/plain": [
              "<matplotlib.image.AxesImage at 0x7994fadbaef0>"
            ]
          },
          "metadata": {},
          "execution_count": 56
        },
        {
          "output_type": "display_data",
          "data": {
            "text/plain": [
              "<Figure size 640x480 with 1 Axes>"
            ],
            "image/png": "[encoded data removed]"
          },
          "metadata": {}
        }
      ]
    },
    {
      "cell_type": "code",
      "metadata": {
        "id": "4j79Av-xWvLu",
        "colab": {
          "base_uri": "https://localhost:8080/"
        },
        "outputId": "0087e56d-1306-48e9-c7bc-90fc7ab10610"
      },
      "source": [
        "# Podemos ver un listado de las operaciones incluídas en nuestro tf.Graph\n",
        "ops = tf.get_default_graph().get_operations()\n",
        "print([op.name for op in ops])"
      ],
      "execution_count": 57,
      "outputs": [
        {
          "output_type": "stream",
          "name": "stdout",
          "text": [
            "['Const', 'Const_1', 'Mul', 'Juan', 'Manoli', 'Mul_1', 'Const_2', 'Const_3', 'MatMul', 'linspace/start', 'linspace/stop', 'linspace/num', 'linspace/Cast', 'linspace/Cast_1', 'linspace/Shape', 'linspace/Shape_1', 'linspace/BroadcastArgs', 'linspace/BroadcastTo', 'linspace/BroadcastTo_1', 'linspace/ExpandDims/dim', 'linspace/ExpandDims', 'linspace/ExpandDims_1/dim', 'linspace/ExpandDims_1', 'linspace/Shape_2', 'linspace/Shape_3', 'linspace/strided_slice/stack', 'linspace/strided_slice/stack_1', 'linspace/strided_slice/stack_2', 'linspace/strided_slice', 'linspace/add/y', 'linspace/add', 'linspace/SelectV2/condition', 'linspace/SelectV2/t', 'linspace/SelectV2', 'linspace/sub/y', 'linspace/sub', 'linspace/Maximum/y', 'linspace/Maximum', 'linspace/sub_1/y', 'linspace/sub_1', 'linspace/Maximum_1/y', 'linspace/Maximum_1', 'linspace/sub_2', 'linspace/Cast_2', 'linspace/truediv', 'linspace/GreaterEqual/y', 'linspace/GreaterEqual', 'linspace/SelectV2_1/e', 'linspace/SelectV2_1', 'linspace/range/start', 'linspace/range/delta', 'linspace/range/Cast', 'linspace/range', 'linspace/Cast_3', 'linspace/range_1/start', 'linspace/range_1/delta', 'linspace/range_1', 'linspace/Equal', 'linspace/SelectV2_2/e', 'linspace/SelectV2_2', 'linspace/Reshape', 'linspace/mul', 'linspace/add_1', 'linspace/concat', 'linspace/zeros_like', 'linspace/Const', 'linspace/strided_slice_1/stack', 'linspace/strided_slice_1/stack_1', 'linspace/strided_slice_1/stack_2', 'linspace/strided_slice_1', 'linspace/Reshape_1/shape', 'linspace/Reshape_1', 'linspace/add_2/y', 'linspace/add_2', 'linspace/Const_1', 'linspace/Const_2', 'linspace/strided_slice_2/stack', 'linspace/strided_slice_2/stack_1', 'linspace/strided_slice_2/stack_2', 'linspace/strided_slice_2', 'linspace/concat_1/axis', 'linspace/concat_1', 'linspace/Slice', 'sub/y', 'sub', 'Pow/y', 'Pow', 'Pow_1/x', 'Pow_1/y', 'Pow_1', 'mul_2/x', 'mul_2', 'truediv', 'Neg', 'Exp', 'Sqrt/x', 'Sqrt', 'mul_3/x', 'mul_3', 'truediv_1/x', 'truediv_1', 'mul_4', 'Placeholder', 'Unique', 'Shape', 'Shape_1', 'Shape_2', 'strided_slice/stack', 'strided_slice/stack_1', 'strided_slice/stack_2', 'strided_slice', 'Shape_3', 'strided_slice_1/stack', 'strided_slice_1/stack_1', 'strided_slice_1/stack_2', 'strided_slice_1', 'range/start', 'range/delta', 'range', 'stack', 'Reshape/shape', 'Reshape', 'Reshape_1/shape', 'Reshape_1', 'Reshape_2/shape', 'Reshape_2', 'MatMul_1']\n"
          ]
        }
      ]
    },
    {
      "cell_type": "markdown",
      "metadata": {
        "id": "tgUfBc9A6lsL"
      },
      "source": [
        "## ¡Enhorabuena! Ya habéis aprendido los conceptos básicos de TensorFlow.\n",
        "\n",
        "Vamos a ver ahora ejemplos del mundo real, para que veáis que esto no solo sirve para dibujar Gaussianas.\n",
        "\n",
        "## 2.3 Problemas de optimización. Descento de gradiente\n",
        "Como veremos a lo largo de las sesiones, una red neuronal no es otra cosa que un optimizador de funciones. ¿Y para qué podríamos utilizar este optimizador de funciones? Vamos a ver varios ejemplo."
      ]
    },
    {
      "cell_type": "markdown",
      "metadata": {
        "id": "3-J6OIdyESot"
      },
      "source": [
        "### 2.3.1 Ejercicio 1\n",
        "\n",
        "Netflix ha decidido colocar otro de sus famosos carteles publicitarios en un edificio.\n",
        "\n",
        "<img src=\"https://laprestampa.com/wp-content/uploads/publicidad-netflix-madrid_blanca-navidad.jpg-376x224.jpg\" alt=\"cartel_netflix\" border=\"0\" width=\"300\">\n",
        "\n",
        "Han decidido que el cartel publicitario tiene que cubrir una superficie de 600 metros cuadrados, dejando un margen de 2 metros arriba y abajo y de 4 metros a izquierda y derecha para publicidad. Sin embargo, no les han comunicado las dimensiones de la fachada del edificio. Podríamos mandar un email al propietario y preguntarle, pero como sabemos matemáticas podemos ahorrárnoslo. ¿Cómo podemos averiguar las dimensiones del edificio?\n",
        "\n",
        "<img src=\"https://image.ibb.co/iq5qRJ/opt_problem.png\" alt=\"opt_problem\" border=\"0\" width=\"400\">\n",
        "\n",
        "Veamos, la superficie completa del edificio será:\n",
        "\n",
        "**Ancho = 4 + x + 4 = x + 8**\n",
        "\n",
        "**Alto = 2 + y + 2 = y + 4**\n",
        "\n",
        "**S = Ancho x Alto = (x+8)(y+4)**\n",
        "\n",
        "Y tenemos la condición de que: **xy = 600**\n",
        "\n",
        "Esto nos permite formar un sistema de ecuaciones, en el que sustituyendo:\n",
        "\n",
        "xy = 600 -> x = 600/y\n",
        "\n",
        "S(y) = ( 600/y + 8)(y+4) = 600 + 8y + 4·600/y + 32 = 632 + 8y + 2400/y\n",
        "\n",
        "En un problema de optimización, se utiliza la información de la pendiente de la función, es decir, la derivada, para calcular su mínimo. Tenemos que igualar la primera derivada a 0 y luego comprobar que la segunda derivada es positiva. Así, en este caso:\n",
        "\n",
        "**S'(y) = 8-2400/y²**\n",
        "\n",
        "**S''(y) = 4800/y³**\n",
        "\n",
        "S'(y) = 0 -> 0 = 8-2400/y² -> 8 = 2400/y² -> y² = 2400/8 = 300 -> **y =** sqrt(300) = sqrt(100 · 3) = sqrt(100)·sqrt(3) = 10·sqrt(3) = **17.32** (descartamos el signo negativo por no tener sentido físico)\n",
        "\n",
        "Sustituyendo en x:\n",
        "\n",
        "**x =** 600 / 10·sqrt(3) = 60 / sqrt(3) = 60·sqrt(3) / sqrt(3)·sqrt(3) = 60·sqrt(3) / 3 = 20·sqrt(3) = **34.64**\n",
        "\n",
        "Como para y = 17.32 -> S''(y) = 0.9238 > 0, hemos encontrado la solución mínima.\n",
        "\n",
        "Con lo cual, las dimensiones del edificio son:\n",
        "\n",
        "**Ancho: x + 8 = 42.64 m**\n",
        "\n",
        "**Alto: y + 4 = 21.32 m**\n",
        "\n",
        "\n",
        "¿Habéis visto lo útiles que son las derivadas? Acabamos de solucionar este problema **analíticamente**. Lo hemos hecho así porque es sencillo y podemos, pero existen muchos problemas para los que es muy computacionalmente costoso solucionarlos analíticamente, por lo que se emplean métodos numéricos. Uno de estos métodos es el **Descenso del gradiente**. ¿Y qué es el descenso del gradiente?\n",
        "\n",
        "Veamoslo rápidamente con un ejemplo.\n",
        "\n",
        "El descenso del gradiente es el mecanismo que hace que una red neuronal aprenda. Al fin y el cabo, podemos ver el descenso del gradiente como un algoritmo de optimización que permite minimizar cualquier función (siempre que sea diferenciable, es decir, que podamos calcular sus derivadas.\n",
        "\n",
        "<center><img src=\"http://www.cs.us.es/~fsancho/images/2017-02/gradient_descent.gif\" border=\"0\"></center>\n",
        "\n",
        "No os preocupéis, lo veremos con más detalle en próximas sesiones!\n",
        "\n",
        "Ahora que ya conocemos una forma de encontrar el valor óptimo a nuestra funcion, ¿Qué os parece si solucionamos este problema esta vez **numéricamente con Tensorflow**? ¡Vamos allá!"
      ]
    },
    {
      "cell_type": "code",
      "metadata": {
        "id": "AIClIu8I62dV",
        "colab": {
          "base_uri": "https://localhost:8080/"
        },
        "outputId": "5779790c-5481-4675-ad0f-fbce546d8c5c"
      },
      "source": [
        "# Tenemos el sistema de ecuaciones:\n",
        "# S = (x+8)(y+4)\n",
        "# xy = 600\n",
        "\n",
        "# Que sustituyendo, nos da la siguiente ecuación:\n",
        "\n",
        "# S(y) = 632 + 8y + 2400/y\n",
        "\n",
        "# Que es la que queremos minimizar\n",
        "\n",
        "import numpy as np\n",
        "import tensorflow.compat.v1 as tf\n",
        "tf.disable_v2_behavior()\n",
        "\n",
        "# x = tf.Variable(initial_value=tf.random_uniform([1], 34, 35),name='x')\n",
        "y = tf.Variable(initial_value=tf.random.uniform([1], 0., 50.), name='y')\n",
        "\n",
        "# Loss function\n",
        "s = tf.add(tf.add(632.0, tf.multiply(8.0, y)), tf.divide(2400.0, y), name='s')\n",
        "\n",
        "opt =  tf.train.GradientDescentOptimizer(0.05)\n",
        "train = opt.minimize(s)\n",
        "\n",
        "sess = tf.Session()\n",
        "\n",
        "init = tf.initialize_all_variables()\n",
        "sess.run(init)\n",
        "\n",
        "old_solution = 0\n",
        "tolerance = 1e-4\n",
        "for step in range(500):\n",
        "    sess.run(train)\n",
        "    solution = sess.run(y)\n",
        "    if np.abs(solution - old_solution) < tolerance:\n",
        "      print(\"The solution is y = {}\".format(old_solution))\n",
        "      break\n",
        "\n",
        "    old_solution = solution\n",
        "    if step % 10 == 0:\n",
        "      print(step, \"y = \" + str(old_solution), \"s = \" + str(sess.run(s)))"
      ],
      "execution_count": 58,
      "outputs": [
        {
          "output_type": "stream",
          "name": "stderr",
          "text": [
            "WARNING:tensorflow:From /usr/local/lib/python3.10/dist-packages/tensorflow/python/util/tf_should_use.py:288: initialize_all_variables (from tensorflow.python.ops.variables) is deprecated and will be removed after 2017-03-02.\n",
            "Instructions for updating:\n",
            "Use `tf.global_variables_initializer` instead.\n"
          ]
        },
        {
          "output_type": "stream",
          "name": "stdout",
          "text": [
            "0 y = [27.378662] s = [938.6888]\n",
            "10 y = [25.112284] s = [928.469]\n",
            "20 y = [23.163345] s = [920.91876]\n",
            "30 y = [21.555626] s = [915.78485]\n",
            "40 y = [20.290018] s = [912.6049]\n",
            "50 y = [19.340847] s = [910.8165]\n",
            "60 y = [18.66081] s = [909.89825]\n",
            "70 y = [18.192387] s = [909.4624]\n",
            "80 y = [17.8796] s = [909.268]\n",
            "90 y = [17.675476] s = [909.1852]\n",
            "100 y = [17.544376] s = [909.15094]\n",
            "110 y = [17.461082] s = [909.1372]\n",
            "120 y = [17.408535] s = [909.1317]\n",
            "130 y = [17.375532] s = [909.1295]\n",
            "140 y = [17.354866] s = [909.12866]\n",
            "150 y = [17.341946] s = [909.12836]\n",
            "160 y = [17.333878] s = [909.1282]\n",
            "170 y = [17.328846] s = [909.1281]\n",
            "180 y = [17.325706] s = [909.1282]\n",
            "190 y = [17.323751] s = [909.1282]\n",
            "The solution is y = [17.322628]\n"
          ]
        }
      ]
    },
    {
      "cell_type": "markdown",
      "metadata": {
        "id": "47Md2tE2dGY_"
      },
      "source": [
        "Por supuesto, ahora quedaría calcular **x** sustituyendo en x = 600/y"
      ]
    },
    {
      "cell_type": "code",
      "metadata": {
        "id": "q-ihkupwdU9X",
        "colab": {
          "base_uri": "https://localhost:8080/"
        },
        "outputId": "c8e0c726-7d9d-4ece-d298-9e91c31f4e75"
      },
      "source": [
        "x = 600/old_solution[0]\n",
        "print(x)"
      ],
      "execution_count": 59,
      "outputs": [
        {
          "output_type": "stream",
          "name": "stdout",
          "text": [
            "34.63677677915307\n"
          ]
        }
      ]
    },
    {
      "cell_type": "markdown",
      "metadata": {
        "id": "sEKkR6AMdrR7"
      },
      "source": [
        "Vamos a hacer una última comprobación dibujando la función:"
      ]
    },
    {
      "cell_type": "code",
      "metadata": {
        "id": "lT5d9IQ1g4QV",
        "colab": {
          "base_uri": "https://localhost:8080/",
          "height": 481
        },
        "outputId": "efa89882-e2d8-4a84-87ac-197eaf07bf78"
      },
      "source": [
        "import matplotlib.pyplot as plt\n",
        "\n",
        "y = np.linspace(0, 400., 500)\n",
        "s = 632.0 + 8*y + 2400/y\n",
        "plt.plot(y, s)"
      ],
      "execution_count": 60,
      "outputs": [
        {
          "output_type": "stream",
          "name": "stderr",
          "text": [
            "<ipython-input-60-5cbcbc78b8ff>:4: RuntimeWarning: divide by zero encountered in divide\n",
            "  s = 632.0 + 8*y + 2400/y\n"
          ]
        },
        {
          "output_type": "execute_result",
          "data": {
            "text/plain": [
              "[<matplotlib.lines.Line2D at 0x7994fadea2f0>]"
            ]
          },
          "metadata": {},
          "execution_count": 60
        },
        {
          "output_type": "display_data",
          "data": {
            "text/plain": [
              "<Figure size 640x480 with 1 Axes>"
            ],
            "image/png": "[encoded data removed]"
          },
          "metadata": {}
        }
      ]
    },
    {
      "cell_type": "code",
      "metadata": {
        "id": "qvBbbaqPkY13",
        "colab": {
          "base_uri": "https://localhost:8080/"
        },
        "outputId": "bbc981f9-1b0c-45bd-b6ba-95826a71337d"
      },
      "source": [
        "print(\"El mínimo de la función se encuentra para s = {}\".format(np.min(s)))\n",
        "min_s = np.min(s)\n",
        "s_min_idx = np.nonzero(s==min_s)\n",
        "y_min = y[s_min_idx]\n",
        "print(\"El valor de y que consigue el mínimo es y = {}\".format(y_min[0]))"
      ],
      "execution_count": 61,
      "outputs": [
        {
          "output_type": "stream",
          "name": "stdout",
          "text": [
            "El mínimo de la función se encuentra para s = 909.1730734195664\n",
            "El valor de y que consigue el mínimo es y = 17.635270541082164\n"
          ]
        }
      ]
    },
    {
      "cell_type": "markdown",
      "metadata": {
        "id": "to1lM2_n0M2O"
      },
      "source": [
        "¡Vamos a ver otro ejemplo!\n",
        "\n",
        "### 2.3.3 Ejercicio 2\n",
        "\n",
        "En este caso, queremos encontrar el mínimo de la función y=log²(x)"
      ]
    },
    {
      "cell_type": "code",
      "metadata": {
        "id": "JDMg7mZs0Lxr",
        "colab": {
          "base_uri": "https://localhost:8080/"
        },
        "outputId": "fe4fab60-39a1-4a4b-cdc1-9d1168e0b545"
      },
      "source": [
        "# Hallar el mínimo de la función y=log(x)^2\n",
        "x = tf.Variable(15, name=\"x\", dtype=tf.float32)\n",
        "log_x = tf.log(x)\n",
        "log_x_squared = tf.square(log_x)\n",
        "\n",
        "optimizer = tf.train.GradientDescentOptimizer(0.5)\n",
        "train = optimizer.minimize(log_x_squared)\n",
        "init = tf.initialize_all_variables()\n",
        "\n",
        "def optimize():\n",
        "  with tf.Session() as session:\n",
        "    session.run(init)\n",
        "    print(\"Starting at:\", \"x = \", session.run(x), \"log(x)^2 = \", session.run(log_x_squared))\n",
        "    for step in range(100):\n",
        "      session.run(train)\n",
        "      print(\"Step \", step, \"x = \", session.run(x), \"log(x)^2 = \", session.run(log_x_squared))\n",
        "\n",
        "optimize()"
      ],
      "execution_count": 62,
      "outputs": [
        {
          "output_type": "stream",
          "name": "stdout",
          "text": [
            "Starting at: x =  15.0 log(x)^2 =  7.333536\n",
            "Step  0 x =  14.819464 log(x)^2 =  7.2681003\n",
            "Step  1 x =  14.637545 log(x)^2 =  7.2016535\n",
            "Step  2 x =  14.454208 log(x)^2 =  7.134165\n",
            "Step  3 x =  14.269419 log(x)^2 =  7.065595\n",
            "Step  4 x =  14.0831375 log(x)^2 =  6.9959087\n",
            "Step  5 x =  13.895326 log(x)^2 =  6.9250684\n",
            "Step  6 x =  13.705941 log(x)^2 =  6.85303\n",
            "Step  7 x =  13.514941 log(x)^2 =  6.7797523\n",
            "Step  8 x =  13.322281 log(x)^2 =  6.7051888\n",
            "Step  9 x =  13.127912 log(x)^2 =  6.6292896\n",
            "Step  10 x =  12.931785 log(x)^2 =  6.552003\n",
            "Step  11 x =  12.733847 log(x)^2 =  6.473277\n",
            "Step  12 x =  12.534043 log(x)^2 =  6.393051\n",
            "Step  13 x =  12.332316 log(x)^2 =  6.3112655\n",
            "Step  14 x =  12.128606 log(x)^2 =  6.227854\n",
            "Step  15 x =  11.922847 log(x)^2 =  6.1427464\n",
            "Step  16 x =  11.7149725 log(x)^2 =  6.0558696\n",
            "Step  17 x =  11.50491 log(x)^2 =  5.967145\n",
            "Step  18 x =  11.292586 log(x)^2 =  5.876486\n",
            "Step  19 x =  11.077919 log(x)^2 =  5.7838035\n",
            "Step  20 x =  10.860825 log(x)^2 =  5.6889997\n",
            "Step  21 x =  10.641213 log(x)^2 =  5.591969\n",
            "Step  22 x =  10.418989 log(x)^2 =  5.492602\n",
            "Step  23 x =  10.194051 log(x)^2 =  5.390775\n",
            "Step  24 x =  9.96629 log(x)^2 =  5.2863593\n",
            "Step  25 x =  9.735592 log(x)^2 =  5.1792135\n",
            "Step  26 x =  9.501832 log(x)^2 =  5.069183\n",
            "Step  27 x =  9.264879 log(x)^2 =  4.956104\n",
            "Step  28 x =  9.024592 log(x)^2 =  4.8397946\n",
            "Step  29 x =  8.780819 log(x)^2 =  4.7200594\n",
            "Step  30 x =  8.533397 log(x)^2 =  4.596682\n",
            "Step  31 x =  8.28215 log(x)^2 =  4.46943\n",
            "Step  32 x =  8.02689 log(x)^2 =  4.3380437\n",
            "Step  33 x =  7.767412 log(x)^2 =  4.202242\n",
            "Step  34 x =  7.503497 log(x)^2 =  4.0617127\n",
            "Step  35 x =  7.2349067 log(x)^2 =  3.9161143\n",
            "Step  36 x =  6.961383 log(x)^2 =  3.7650676\n",
            "Step  37 x =  6.682648 log(x)^2 =  3.6081545\n",
            "Step  38 x =  6.398402 log(x)^2 =  3.4449155\n",
            "Step  39 x =  6.108322 log(x)^2 =  3.2748406\n",
            "Step  40 x =  5.8120623 log(x)^2 =  3.097373\n",
            "Step  41 x =  5.509255 log(x)^2 =  2.9119012\n",
            "Step  42 x =  5.1995163 log(x)^2 =  2.7177687\n",
            "Step  43 x =  4.882455 log(x)^2 =  2.51428\n",
            "Step  44 x =  4.55769 log(x)^2 =  2.3007305\n",
            "Step  45 x =  4.2248864 log(x)^2 =  2.076459\n",
            "Step  46 x =  3.8838139 log(x)^2 =  1.8409541\n",
            "Step  47 x =  3.534462 log(x)^2 =  1.5940605\n",
            "Step  48 x =  3.1772475 log(x)^2 =  1.3363713\n",
            "Step  49 x =  2.8134058 log(x)^2 =  1.0699747\n",
            "Step  50 x =  2.445739 log(x)^2 =  0.79985714\n",
            "Step  51 x =  2.0800633 log(x)^2 =  0.5364073\n",
            "Step  52 x =  1.7279595 log(x)^2 =  0.2991447\n",
            "Step  53 x =  1.4114351 log(x)^2 =  0.118753985\n",
            "Step  54 x =  1.1672815 log(x)^2 =  0.023925146\n",
            "Step  55 x =  1.0347706 log(x)^2 =  0.0011682564\n",
            "Step  56 x =  1.0017394 log(x)^2 =  3.0201984e-06\n",
            "Step  57 x =  1.0000045 log(x)^2 =  2.0520379e-11\n",
            "Step  58 x =  1.0 log(x)^2 =  0.0\n",
            "Step  59 x =  1.0 log(x)^2 =  0.0\n",
            "Step  60 x =  1.0 log(x)^2 =  0.0\n",
            "Step  61 x =  1.0 log(x)^2 =  0.0\n",
            "Step  62 x =  1.0 log(x)^2 =  0.0\n",
            "Step  63 x =  1.0 log(x)^2 =  0.0\n",
            "Step  64 x =  1.0 log(x)^2 =  0.0\n",
            "Step  65 x =  1.0 log(x)^2 =  0.0\n",
            "Step  66 x =  1.0 log(x)^2 =  0.0\n",
            "Step  67 x =  1.0 log(x)^2 =  0.0\n",
            "Step  68 x =  1.0 log(x)^2 =  0.0\n",
            "Step  69 x =  1.0 log(x)^2 =  0.0\n",
            "Step  70 x =  1.0 log(x)^2 =  0.0\n",
            "Step  71 x =  1.0 log(x)^2 =  0.0\n",
            "Step  72 x =  1.0 log(x)^2 =  0.0\n",
            "Step  73 x =  1.0 log(x)^2 =  0.0\n",
            "Step  74 x =  1.0 log(x)^2 =  0.0\n",
            "Step  75 x =  1.0 log(x)^2 =  0.0\n",
            "Step  76 x =  1.0 log(x)^2 =  0.0\n",
            "Step  77 x =  1.0 log(x)^2 =  0.0\n",
            "Step  78 x =  1.0 log(x)^2 =  0.0\n",
            "Step  79 x =  1.0 log(x)^2 =  0.0\n",
            "Step  80 x =  1.0 log(x)^2 =  0.0\n",
            "Step  81 x =  1.0 log(x)^2 =  0.0\n",
            "Step  82 x =  1.0 log(x)^2 =  0.0\n",
            "Step  83 x =  1.0 log(x)^2 =  0.0\n",
            "Step  84 x =  1.0 log(x)^2 =  0.0\n",
            "Step  85 x =  1.0 log(x)^2 =  0.0\n",
            "Step  86 x =  1.0 log(x)^2 =  0.0\n",
            "Step  87 x =  1.0 log(x)^2 =  0.0\n",
            "Step  88 x =  1.0 log(x)^2 =  0.0\n",
            "Step  89 x =  1.0 log(x)^2 =  0.0\n",
            "Step  90 x =  1.0 log(x)^2 =  0.0\n",
            "Step  91 x =  1.0 log(x)^2 =  0.0\n",
            "Step  92 x =  1.0 log(x)^2 =  0.0\n",
            "Step  93 x =  1.0 log(x)^2 =  0.0\n",
            "Step  94 x =  1.0 log(x)^2 =  0.0\n",
            "Step  95 x =  1.0 log(x)^2 =  0.0\n",
            "Step  96 x =  1.0 log(x)^2 =  0.0\n",
            "Step  97 x =  1.0 log(x)^2 =  0.0\n",
            "Step  98 x =  1.0 log(x)^2 =  0.0\n",
            "Step  99 x =  1.0 log(x)^2 =  0.0\n"
          ]
        }
      ]
    },
    {
      "cell_type": "markdown",
      "metadata": {
        "id": "GaOkcoPX1WbO"
      },
      "source": [
        "\n",
        "\n",
        "A ver... visualizemos la función:"
      ]
    },
    {
      "cell_type": "code",
      "metadata": {
        "id": "juQYjXU51OIt",
        "colab": {
          "base_uri": "https://localhost:8080/",
          "height": 498
        },
        "outputId": "6f393c23-56c4-45bb-fc3d-06821c4e849c"
      },
      "source": [
        "x_values = np.linspace(0, 10, 100)\n",
        "fx = np.log(x_values) ** 2\n",
        "plt.plot(x_values, fx)\n",
        "\n",
        "print(f\"El minimo de la funcion se encuentra en f(x) = {np.min(fx)}\")\n",
        "min_fx = np.min(fx)\n",
        "fx_min_idx = np.nonzero(fx==min_fx)\n",
        "x_min_value = x_values[fx_min_idx]\n",
        "print(f\"El valor de x que consigue el mínimo es {x_min_value[0]}\")"
      ],
      "execution_count": 63,
      "outputs": [
        {
          "output_type": "stream",
          "name": "stdout",
          "text": [
            "El minimo de la funcion se encuentra en f(x) = 0.00010100925076817785\n",
            "El valor de x que consigue el mínimo es 1.0101010101010102\n"
          ]
        },
        {
          "output_type": "stream",
          "name": "stderr",
          "text": [
            "<ipython-input-63-be51dddcd411>:2: RuntimeWarning: divide by zero encountered in log\n",
            "  fx = np.log(x_values) ** 2\n"
          ]
        },
        {
          "output_type": "display_data",
          "data": {
            "text/plain": [
              "<Figure size 640x480 with 1 Axes>"
            ],
            "image/png": "[encoded data removed]"
          },
          "metadata": {}
        }
      ]
    },
    {
      "cell_type": "markdown",
      "metadata": {
        "id": "5mcxneho21S_"
      },
      "source": [
        "\n",
        "### 2.3.2 Ejercicio 3. Regresión Lineal\n",
        "A continuación, vamos a realizar una **regresión lineal** sobre un determinado conjunto de datos $X$. Dicha regresión lineal vendrá dada por la ecuación de la recta de la forma $\\hat{Y} = XW + b$. La solución óptima del ajuste de la recta ($W_{opt}, b_{opt}$) sobre la distribución de datos se puede obtener minimizando la función error cuadrático medio definida como  $MSE = \\frac{1}{N}\\sum_{i=1}^{N}(\\hat{y}_i - y_i)^2$ donde $N$ es el número de muestras del conjunto de datos e $Y$ es un vector con el *ground truth* de los mismos.\n",
        "\n",
        "Vamos a ello! Veamos como ajustar una recta a un conjunto de datos que representan la inteligencia de cada uno de los personajes de Los Simpsons, desde Ralph Wiggum hasta el Doctor Frink.\n",
        "\n",
        "<img src=\"https://image.ibb.co/kXFbyn/ralph.gif\" alt=\"ralph\" border=\"0\" height=200>&nbsp;\n",
        "<img src=\"https://image.ibb.co/nMK1yJ/frink.gif\" alt=\"frink\" border=\"0\" height=200>"
      ]
    },
    {
      "cell_type": "code",
      "metadata": {
        "id": "zuw2eV6965pO",
        "colab": {
          "base_uri": "https://localhost:8080/",
          "height": 430
        },
        "outputId": "e135c86e-8db1-49b2-abf9-564932001d46"
      },
      "source": [
        "# Vamos a ver cual es la distribución de las inteligencias según las edades\n",
        "# normalizadas de 0 a 1, donde Maggie es la más pequeña, y Montgomery Burns el\n",
        "# más mayorS\n",
        "n_observations = 50\n",
        "_, ax = plt.subplots(1, 1)\n",
        "xs = np.linspace(0., 1., n_observations)\n",
        "ys = 100 * np.sin(xs) + np.random.uniform(0., 50., n_observations)\n",
        "ax.scatter(xs, ys)\n",
        "plt.draw()"
      ],
      "execution_count": 64,
      "outputs": [
        {
          "output_type": "display_data",
          "data": {
            "text/plain": [
              "<Figure size 640x480 with 1 Axes>"
            ],
            "image/png": "[encoded data removed]"
          },
          "metadata": {}
        }
      ]
    },
    {
      "cell_type": "code",
      "metadata": {
        "id": "YmMtQBKi7z0T"
      },
      "source": [
        "# Ahora necesitamos dos tf.placeholders, para la entrada y la salida de nuestro\n",
        "# algoritmo de regresión. Como ya sabéis, los placeholders son variables a las\n",
        "# que no es necesario asignarle un valor hasta que se ejecute el grafo\n",
        "X = tf.placeholder(tf.float32)\n",
        "Y = tf.placeholder(tf.float32)\n",
        "\n",
        "# Vamos a intentar optimizar una recta de regresión lineal:\n",
        "# min_(W,b) ||(X*w + b) - y||^2\n",
        "# Necesitamos 2 variables, W (los pesos) y b (la bias). Los elementos de tipo\n",
        "# tf.Variable necesitan una inicialización, y su tipo no se puede cambiar\n",
        "# después. Lo que si podemos cambiar es su valor, mediante el método \"assign\"\n",
        "\n",
        "W = tf.Variable(tf.random_normal([1]), name='weight')\n",
        "b = tf.Variable(tf.random_normal([1]), name='bias')\n",
        "Y_pred = tf.add(tf.multiply(X, W), b)\n",
        "\n",
        "# Definimos la función de coste o pérdidas como la diferencia entre nuestras\n",
        "# predicciones y los valores reales\n",
        "loss = tf.reduce_mean(tf.pow(Y_pred - Y, 2))"
      ],
      "execution_count": 65,
      "outputs": []
    },
    {
      "cell_type": "code",
      "metadata": {
        "id": "tZsQMjn694Yz"
      },
      "source": [
        "# Definimos ahora el método de optimización, que va a ser el Descenso del\n",
        "# gradiente. Más adelante entenderemos como funciona. Básicamente, calcula\n",
        "# la variación de cada peso con respecto al error total, y actualiza cada peso\n",
        "# de forma que disminuya el error total en las subsiguientes iteraciones.\n",
        "# El learning rate indica cómo de brusca es la actualización de los pesos\n",
        "\n",
        "learning_rate = 0.01\n",
        "optimizer = tf.train.GradientDescentOptimizer(learning_rate).minimize(loss)"
      ],
      "execution_count": 66,
      "outputs": []
    },
    {
      "cell_type": "code",
      "metadata": {
        "id": "SQML8lzU3O6L",
        "colab": {
          "base_uri": "https://localhost:8080/",
          "height": 1000
        },
        "outputId": "aabc092d-7f2e-4eae-ed0b-2574ec9853ee"
      },
      "source": [
        "# Definimos el número de iteraciones permitidas y comenzamos la inicialización\n",
        "# usando la GPU\n",
        "n_epochs = 1000\n",
        "\n",
        "# Si no activamos la GPU, el mensaje siguiente aparecerá!\n",
        "\n",
        "with tf.Session() as sess:\n",
        "  with tf.device(\"/GPU:0\"):\n",
        "    # Con esta sentencia inicializamos todas las variables definidas\n",
        "    sess.run(tf.global_variables_initializer())\n",
        "\n",
        "    # Empieza el ajuste\n",
        "    prev_training_loss = 0.0\n",
        "    for epoch_i in range(n_epochs):\n",
        "      for (x, y) in zip(xs, ys):\n",
        "        sess.run(optimizer, feed_dict={X: x, Y: y})\n",
        "\n",
        "      W_, b_, training_loss = sess.run([W, b, loss], feed_dict={X: xs, Y: ys})\n",
        "\n",
        "      # Imprimimos las pérdidas cada 20 épocas\n",
        "      if epoch_i % 20 == 0:\n",
        "        print(training_loss)\n",
        "\n",
        "      # Condición de terminación\n",
        "      if np.abs(prev_training_loss - training_loss) < 0.000001:\n",
        "        print(W_, b_)\n",
        "        break\n",
        "      prev_training_loss = training_loss\n",
        "\n",
        "    # Dibujamos el resultado\n",
        "    plt.scatter(xs, ys)\n",
        "    plt.plot(xs, Y_pred.eval(feed_dict={X: xs}, session=sess))"
      ],
      "execution_count": 74,
      "outputs": [
        {
          "output_type": "error",
          "ename": "InvalidArgumentError",
          "evalue": "Graph execution error:\n\nDetected at node 'init_4' defined at (most recent call last):\n    File \"/usr/lib/python3.10/runpy.py\", line 196, in _run_module_as_main\n    File \"/usr/lib/python3.10/runpy.py\", line 86, in _run_code\n    File \"/usr/local/lib/python3.10/dist-packages/colab_kernel_launcher.py\", line 37, in <module>\n    File \"/usr/local/lib/python3.10/dist-packages/traitlets/config/application.py\", line 992, in launch_instance\n    File \"/usr/local/lib/python3.10/dist-packages/ipykernel/kernelapp.py\", line 619, in start\n    File \"/usr/local/lib/python3.10/dist-packages/tornado/platform/asyncio.py\", line 195, in start\n    File \"/usr/lib/python3.10/asyncio/base_events.py\", line 603, in run_forever\n    File \"/usr/lib/python3.10/asyncio/base_events.py\", line 1909, in _run_once\n    File \"/usr/lib/python3.10/asyncio/events.py\", line 80, in _run\n    File \"/usr/local/lib/python3.10/dist-packages/tornado/ioloop.py\", line 685, in <lambda>\n    File \"/usr/local/lib/python3.10/dist-packages/tornado/ioloop.py\", line 738, in _run_callback\n    File \"/usr/local/lib/python3.10/dist-packages/tornado/gen.py\", line 825, in inner\n    File \"/usr/local/lib/python3.10/dist-packages/tornado/gen.py\", line 786, in run\n    File \"/usr/local/lib/python3.10/dist-packages/ipykernel/kernelbase.py\", line 361, in process_one\n    File \"/usr/local/lib/python3.10/dist-packages/tornado/gen.py\", line 234, in wrapper\n    File \"/usr/local/lib/python3.10/dist-packages/ipykernel/kernelbase.py\", line 261, in dispatch_shell\n    File \"/usr/local/lib/python3.10/dist-packages/tornado/gen.py\", line 234, in wrapper\n    File \"/usr/local/lib/python3.10/dist-packages/ipykernel/kernelbase.py\", line 539, in execute_request\n    File \"/usr/local/lib/python3.10/dist-packages/tornado/gen.py\", line 234, in wrapper\n    File \"/usr/local/lib/python3.10/dist-packages/ipykernel/ipkernel.py\", line 302, in do_execute\n    File \"/usr/local/lib/python3.10/dist-packages/ipykernel/zmqshell.py\", line 539, in run_cell\n    File \"/usr/local/lib/python3.10/dist-packages/IPython/core/interactiveshell.py\", line 2975, in run_cell\n    File \"/usr/local/lib/python3.10/dist-packages/IPython/core/interactiveshell.py\", line 3030, in _run_cell\n    File \"/usr/local/lib/python3.10/dist-packages/IPython/core/async_helpers.py\", line 78, in _pseudo_sync_runner\n    File \"/usr/local/lib/python3.10/dist-packages/IPython/core/interactiveshell.py\", line 3257, in run_cell_async\n    File \"/usr/local/lib/python3.10/dist-packages/IPython/core/interactiveshell.py\", line 3473, in run_ast_nodes\n    File \"/usr/local/lib/python3.10/dist-packages/IPython/core/interactiveshell.py\", line 3553, in run_code\n    File \"<ipython-input-74-6b13481bc302>\", line 10, in <cell line: 7>\nNode: 'init_4'\nCannot assign a device for operation init_4: {{node init_4}} was explicitly assigned to /device:GPU:0 but available devices are [ /job:localhost/replica:0/task:0/device:CPU:0 ]. Make sure the device specification refers to a valid device.\n\t [[init_4]]",
          "traceback": [
            "\u001b[0;31m---------------------------------------------------------------------------\u001b[0m",
            "\u001b[0;31mInvalidArgumentError\u001b[0m                      Traceback (most recent call last)",
            "\u001b[0;32m/usr/local/lib/python3.10/dist-packages/tensorflow/python/client/session.py\u001b[0m in \u001b[0;36m_do_call\u001b[0;34m(self, fn, *args)\u001b[0m\n\u001b[1;32m   1400\u001b[0m     \u001b[0;32mtry\u001b[0m\u001b[0;34m:\u001b[0m\u001b[0;34m\u001b[0m\u001b[0;34m\u001b[0m\u001b[0m\n\u001b[0;32m-> 1401\u001b[0;31m       \u001b[0;32mreturn\u001b[0m \u001b[0mfn\u001b[0m\u001b[0;34m(\u001b[0m\u001b[0;34m*\u001b[0m\u001b[0margs\u001b[0m\u001b[0;34m)\u001b[0m\u001b[0;34m\u001b[0m\u001b[0;34m\u001b[0m\u001b[0m\n\u001b[0m\u001b[1;32m   1402\u001b[0m     \u001b[0;32mexcept\u001b[0m \u001b[0merrors\u001b[0m\u001b[0;34m.\u001b[0m\u001b[0mOpError\u001b[0m \u001b[0;32mas\u001b[0m \u001b[0me\u001b[0m\u001b[0;34m:\u001b[0m\u001b[0;34m\u001b[0m\u001b[0;34m\u001b[0m\u001b[0m\n",
            "\u001b[0;32m/usr/local/lib/python3.10/dist-packages/tensorflow/python/client/session.py\u001b[0m in \u001b[0;36m_run_fn\u001b[0;34m(feed_dict, fetch_list, target_list, options, run_metadata)\u001b[0m\n\u001b[1;32m   1382\u001b[0m       \u001b[0;31m# Ensure any changes to the graph are reflected in the runtime.\u001b[0m\u001b[0;34m\u001b[0m\u001b[0;34m\u001b[0m\u001b[0m\n\u001b[0;32m-> 1383\u001b[0;31m       \u001b[0mself\u001b[0m\u001b[0;34m.\u001b[0m\u001b[0m_extend_graph\u001b[0m\u001b[0;34m(\u001b[0m\u001b[0;34m)\u001b[0m\u001b[0;34m\u001b[0m\u001b[0;34m\u001b[0m\u001b[0m\n\u001b[0m\u001b[1;32m   1384\u001b[0m       return self._call_tf_sessionrun(options, feed_dict, fetch_list,\n",
            "\u001b[0;32m/usr/local/lib/python3.10/dist-packages/tensorflow/python/client/session.py\u001b[0m in \u001b[0;36m_extend_graph\u001b[0;34m(self)\u001b[0m\n\u001b[1;32m   1423\u001b[0m     \u001b[0;32mwith\u001b[0m \u001b[0mself\u001b[0m\u001b[0;34m.\u001b[0m\u001b[0m_graph\u001b[0m\u001b[0;34m.\u001b[0m\u001b[0m_session_run_lock\u001b[0m\u001b[0;34m(\u001b[0m\u001b[0;34m)\u001b[0m\u001b[0;34m:\u001b[0m  \u001b[0;31m# pylint: disable=protected-access\u001b[0m\u001b[0;34m\u001b[0m\u001b[0;34m\u001b[0m\u001b[0m\n\u001b[0;32m-> 1424\u001b[0;31m       \u001b[0mtf_session\u001b[0m\u001b[0;34m.\u001b[0m\u001b[0mExtendSession\u001b[0m\u001b[0;34m(\u001b[0m\u001b[0mself\u001b[0m\u001b[0;34m.\u001b[0m\u001b[0m_session\u001b[0m\u001b[0;34m)\u001b[0m\u001b[0;34m\u001b[0m\u001b[0;34m\u001b[0m\u001b[0m\n\u001b[0m\u001b[1;32m   1425\u001b[0m \u001b[0;34m\u001b[0m\u001b[0m\n",
            "\u001b[0;31mInvalidArgumentError\u001b[0m: Cannot assign a device for operation init_4: {{node init_4}} was explicitly assigned to /device:GPU:0 but available devices are [ /job:localhost/replica:0/task:0/device:CPU:0 ]. Make sure the device specification refers to a valid device.\n\t [[init_4]]",
            "\nDuring handling of the above exception, another exception occurred:\n",
            "\u001b[0;31mInvalidArgumentError\u001b[0m                      Traceback (most recent call last)",
            "\u001b[0;32m<ipython-input-74-6b13481bc302>\u001b[0m in \u001b[0;36m<cell line: 7>\u001b[0;34m()\u001b[0m\n\u001b[1;32m      8\u001b[0m   \u001b[0;32mwith\u001b[0m \u001b[0mtf\u001b[0m\u001b[0;34m.\u001b[0m\u001b[0mdevice\u001b[0m\u001b[0;34m(\u001b[0m\u001b[0;34m\"/GPU:0\"\u001b[0m\u001b[0;34m)\u001b[0m\u001b[0;34m:\u001b[0m\u001b[0;34m\u001b[0m\u001b[0;34m\u001b[0m\u001b[0m\n\u001b[1;32m      9\u001b[0m     \u001b[0;31m# Con esta sentencia inicializamos todas las variables definidas\u001b[0m\u001b[0;34m\u001b[0m\u001b[0;34m\u001b[0m\u001b[0m\n\u001b[0;32m---> 10\u001b[0;31m     \u001b[0msess\u001b[0m\u001b[0;34m.\u001b[0m\u001b[0mrun\u001b[0m\u001b[0;34m(\u001b[0m\u001b[0mtf\u001b[0m\u001b[0;34m.\u001b[0m\u001b[0mglobal_variables_initializer\u001b[0m\u001b[0;34m(\u001b[0m\u001b[0;34m)\u001b[0m\u001b[0;34m)\u001b[0m\u001b[0;34m\u001b[0m\u001b[0;34m\u001b[0m\u001b[0m\n\u001b[0m\u001b[1;32m     11\u001b[0m \u001b[0;34m\u001b[0m\u001b[0m\n\u001b[1;32m     12\u001b[0m     \u001b[0;31m# Empieza el ajuste\u001b[0m\u001b[0;34m\u001b[0m\u001b[0;34m\u001b[0m\u001b[0m\n",
            "\u001b[0;32m/usr/local/lib/python3.10/dist-packages/tensorflow/python/client/session.py\u001b[0m in \u001b[0;36mrun\u001b[0;34m(self, fetches, feed_dict, options, run_metadata)\u001b[0m\n\u001b[1;32m    969\u001b[0m \u001b[0;34m\u001b[0m\u001b[0m\n\u001b[1;32m    970\u001b[0m     \u001b[0;32mtry\u001b[0m\u001b[0;34m:\u001b[0m\u001b[0;34m\u001b[0m\u001b[0;34m\u001b[0m\u001b[0m\n\u001b[0;32m--> 971\u001b[0;31m       result = self._run(None, fetches, feed_dict, options_ptr,\n\u001b[0m\u001b[1;32m    972\u001b[0m                          run_metadata_ptr)\n\u001b[1;32m    973\u001b[0m       \u001b[0;32mif\u001b[0m \u001b[0mrun_metadata\u001b[0m\u001b[0;34m:\u001b[0m\u001b[0;34m\u001b[0m\u001b[0;34m\u001b[0m\u001b[0m\n",
            "\u001b[0;32m/usr/local/lib/python3.10/dist-packages/tensorflow/python/client/session.py\u001b[0m in \u001b[0;36m_run\u001b[0;34m(self, handle, fetches, feed_dict, options, run_metadata)\u001b[0m\n\u001b[1;32m   1212\u001b[0m     \u001b[0;31m# or if the call is a partial run that specifies feeds.\u001b[0m\u001b[0;34m\u001b[0m\u001b[0;34m\u001b[0m\u001b[0m\n\u001b[1;32m   1213\u001b[0m     \u001b[0;32mif\u001b[0m \u001b[0mfinal_fetches\u001b[0m \u001b[0;32mor\u001b[0m \u001b[0mfinal_targets\u001b[0m \u001b[0;32mor\u001b[0m \u001b[0;34m(\u001b[0m\u001b[0mhandle\u001b[0m \u001b[0;32mand\u001b[0m \u001b[0mfeed_dict_tensor\u001b[0m\u001b[0;34m)\u001b[0m\u001b[0;34m:\u001b[0m\u001b[0;34m\u001b[0m\u001b[0;34m\u001b[0m\u001b[0m\n\u001b[0;32m-> 1214\u001b[0;31m       results = self._do_run(handle, final_targets, final_fetches,\n\u001b[0m\u001b[1;32m   1215\u001b[0m                              feed_dict_tensor, options, run_metadata)\n\u001b[1;32m   1216\u001b[0m     \u001b[0;32melse\u001b[0m\u001b[0;34m:\u001b[0m\u001b[0;34m\u001b[0m\u001b[0;34m\u001b[0m\u001b[0m\n",
            "\u001b[0;32m/usr/local/lib/python3.10/dist-packages/tensorflow/python/client/session.py\u001b[0m in \u001b[0;36m_do_run\u001b[0;34m(self, handle, target_list, fetch_list, feed_dict, options, run_metadata)\u001b[0m\n\u001b[1;32m   1392\u001b[0m \u001b[0;34m\u001b[0m\u001b[0m\n\u001b[1;32m   1393\u001b[0m     \u001b[0;32mif\u001b[0m \u001b[0mhandle\u001b[0m \u001b[0;32mis\u001b[0m \u001b[0;32mNone\u001b[0m\u001b[0;34m:\u001b[0m\u001b[0;34m\u001b[0m\u001b[0;34m\u001b[0m\u001b[0m\n\u001b[0;32m-> 1394\u001b[0;31m       return self._do_call(_run_fn, feeds, fetches, targets, options,\n\u001b[0m\u001b[1;32m   1395\u001b[0m                            run_metadata)\n\u001b[1;32m   1396\u001b[0m     \u001b[0;32melse\u001b[0m\u001b[0;34m:\u001b[0m\u001b[0;34m\u001b[0m\u001b[0;34m\u001b[0m\u001b[0m\n",
            "\u001b[0;32m/usr/local/lib/python3.10/dist-packages/tensorflow/python/client/session.py\u001b[0m in \u001b[0;36m_do_call\u001b[0;34m(self, fn, *args)\u001b[0m\n\u001b[1;32m   1418\u001b[0m                     \u001b[0;34m'\\nsession_config.graph_options.rewrite_options.'\u001b[0m\u001b[0;34m\u001b[0m\u001b[0;34m\u001b[0m\u001b[0m\n\u001b[1;32m   1419\u001b[0m                     'disable_meta_optimizer = True')\n\u001b[0;32m-> 1420\u001b[0;31m       \u001b[0;32mraise\u001b[0m \u001b[0mtype\u001b[0m\u001b[0;34m(\u001b[0m\u001b[0me\u001b[0m\u001b[0;34m)\u001b[0m\u001b[0;34m(\u001b[0m\u001b[0mnode_def\u001b[0m\u001b[0;34m,\u001b[0m \u001b[0mop\u001b[0m\u001b[0;34m,\u001b[0m \u001b[0mmessage\u001b[0m\u001b[0;34m)\u001b[0m  \u001b[0;31m# pylint: disable=no-value-for-parameter\u001b[0m\u001b[0;34m\u001b[0m\u001b[0;34m\u001b[0m\u001b[0m\n\u001b[0m\u001b[1;32m   1421\u001b[0m \u001b[0;34m\u001b[0m\u001b[0m\n\u001b[1;32m   1422\u001b[0m   \u001b[0;32mdef\u001b[0m \u001b[0m_extend_graph\u001b[0m\u001b[0;34m(\u001b[0m\u001b[0mself\u001b[0m\u001b[0;34m)\u001b[0m\u001b[0;34m:\u001b[0m\u001b[0;34m\u001b[0m\u001b[0;34m\u001b[0m\u001b[0m\n",
            "\u001b[0;31mInvalidArgumentError\u001b[0m: Graph execution error:\n\nDetected at node 'init_4' defined at (most recent call last):\n    File \"/usr/lib/python3.10/runpy.py\", line 196, in _run_module_as_main\n    File \"/usr/lib/python3.10/runpy.py\", line 86, in _run_code\n    File \"/usr/local/lib/python3.10/dist-packages/colab_kernel_launcher.py\", line 37, in <module>\n    File \"/usr/local/lib/python3.10/dist-packages/traitlets/config/application.py\", line 992, in launch_instance\n    File \"/usr/local/lib/python3.10/dist-packages/ipykernel/kernelapp.py\", line 619, in start\n    File \"/usr/local/lib/python3.10/dist-packages/tornado/platform/asyncio.py\", line 195, in start\n    File \"/usr/lib/python3.10/asyncio/base_events.py\", line 603, in run_forever\n    File \"/usr/lib/python3.10/asyncio/base_events.py\", line 1909, in _run_once\n    File \"/usr/lib/python3.10/asyncio/events.py\", line 80, in _run\n    File \"/usr/local/lib/python3.10/dist-packages/tornado/ioloop.py\", line 685, in <lambda>\n    File \"/usr/local/lib/python3.10/dist-packages/tornado/ioloop.py\", line 738, in _run_callback\n    File \"/usr/local/lib/python3.10/dist-packages/tornado/gen.py\", line 825, in inner\n    File \"/usr/local/lib/python3.10/dist-packages/tornado/gen.py\", line 786, in run\n    File \"/usr/local/lib/python3.10/dist-packages/ipykernel/kernelbase.py\", line 361, in process_one\n    File \"/usr/local/lib/python3.10/dist-packages/tornado/gen.py\", line 234, in wrapper\n    File \"/usr/local/lib/python3.10/dist-packages/ipykernel/kernelbase.py\", line 261, in dispatch_shell\n    File \"/usr/local/lib/python3.10/dist-packages/tornado/gen.py\", line 234, in wrapper\n    File \"/usr/local/lib/python3.10/dist-packages/ipykernel/kernelbase.py\", line 539, in execute_request\n    File \"/usr/local/lib/python3.10/dist-packages/tornado/gen.py\", line 234, in wrapper\n    File \"/usr/local/lib/python3.10/dist-packages/ipykernel/ipkernel.py\", line 302, in do_execute\n    File \"/usr/local/lib/python3.10/dist-packages/ipykernel/zmqshell.py\", line 539, in run_cell\n    File \"/usr/local/lib/python3.10/dist-packages/IPython/core/interactiveshell.py\", line 2975, in run_cell\n    File \"/usr/local/lib/python3.10/dist-packages/IPython/core/interactiveshell.py\", line 3030, in _run_cell\n    File \"/usr/local/lib/python3.10/dist-packages/IPython/core/async_helpers.py\", line 78, in _pseudo_sync_runner\n    File \"/usr/local/lib/python3.10/dist-packages/IPython/core/interactiveshell.py\", line 3257, in run_cell_async\n    File \"/usr/local/lib/python3.10/dist-packages/IPython/core/interactiveshell.py\", line 3473, in run_ast_nodes\n    File \"/usr/local/lib/python3.10/dist-packages/IPython/core/interactiveshell.py\", line 3553, in run_code\n    File \"<ipython-input-74-6b13481bc302>\", line 10, in <cell line: 7>\nNode: 'init_4'\nCannot assign a device for operation init_4: {{node init_4}} was explicitly assigned to /device:GPU:0 but available devices are [ /job:localhost/replica:0/task:0/device:CPU:0 ]. Make sure the device specification refers to a valid device.\n\t [[init_4]]"
          ]
        }
      ]
    },
    {
      "cell_type": "code",
      "metadata": {
        "id": "0ar-ifeED5P7",
        "colab": {
          "base_uri": "https://localhost:8080/",
          "height": 583
        },
        "outputId": "9c351481-e667-4cbd-ba69-72fb32d65825"
      },
      "source": [
        "# ¿Y si quisiéramos ejecutarlo en la CPU?\n",
        "n_epochs = 1000\n",
        "with tf.Session() as sess:\n",
        "  with tf.device(\"/device:CPU:0\"):\n",
        "    # Inicializamos todas las variables definidas\n",
        "    sess.run(tf.global_variables_initializer())\n",
        "\n",
        "    # Empieza el ajuste\n",
        "    prev_training_loss = 0.0\n",
        "    for epoch_i in range(n_epochs):\n",
        "      for (x, y) in zip(xs, ys):\n",
        "        sess.run(optimizer, feed_dict={X: x, Y: y})\n",
        "      W_, b_, training_loss = sess.run([W, b, loss], feed_dict={X: xs, Y: ys})\n",
        "\n",
        "      # Imprimimos las pérdidas cada 20 épocas\n",
        "      if epoch_i % 20 == 0:\n",
        "        print('epoch: ', epoch_i, 'W: ', W_, 'b: ', b_, 'loss: ', training_loss)\n",
        "\n",
        "      # Condición de terminación\n",
        "      if np.abs(prev_training_loss - training_loss) < 0.00001:\n",
        "        print(W_, b_)\n",
        "        break\n",
        "      prev_training_loss = training_loss\n",
        "\n",
        "    # Dibujamos el resultado\n",
        "    plt.scatter(xs, ys)\n",
        "    plt.plot(xs, Y_pred.eval(feed_dict={X:xs}, session=sess))"
      ],
      "execution_count": 68,
      "outputs": [
        {
          "output_type": "stream",
          "name": "stdout",
          "text": [
            "epoch:  0 W:  [23.576477] b:  [43.080437] loss:  766.2905\n",
            "epoch:  20 W:  [70.46212] b:  [34.770294] loss:  274.87527\n",
            "epoch:  40 W:  [80.65474] b:  [28.184605] loss:  252.96835\n",
            "epoch:  60 W:  [83.2858] b:  [26.484623] loss:  250.96024\n",
            "epoch:  80 W:  [83.964966] b:  [26.0458] loss:  250.68488\n",
            "epoch:  100 W:  [84.140305] b:  [25.932497] loss:  250.63\n",
            "epoch:  120 W:  [84.18559] b:  [25.903252] loss:  250.6169\n",
            "epoch:  140 W:  [84.197205] b:  [25.89574] loss:  250.61362\n",
            "[84.19919] [25.894453]\n"
          ]
        },
        {
          "output_type": "display_data",
          "data": {
            "text/plain": [
              "<Figure size 640x480 with 1 Axes>"
            ],
            "image/png": "[encoded data removed]"
          },
          "metadata": {}
        }
      ]
    },
    {
      "cell_type": "markdown",
      "metadata": {
        "id": "0rjtlGVXGyoi"
      },
      "source": [
        "\n",
        "\n",
        "### 2.3.4 Ejercicio 4. Regresión logística\n",
        "Veamos ahora cómo clasificar imágenes de dígitos con una regresión logística.\n",
        "\n",
        "Vamos a utilizar el archiconocido dataset MNIST, que es como el \"Hola mundo\" de los datasets:\n",
        "\n",
        "<img src=\"https://image.ibb.co/gkZAD8/mnist.jpg\" alt=\"mnist\" border=\"0\" height=\"300\">\n",
        "<img src=\"https://image.ibb.co/kgLyOT/mnist_image.png\" alt=\"mnist_image\" border=\"0\" height=\"300\">"
      ]
    },
    {
      "cell_type": "code",
      "metadata": {
        "id": "tknM5oPIS2nt",
        "colab": {
          "base_uri": "https://localhost:8080/",
          "height": 413
        },
        "outputId": "a4163a7b-7df6-42e7-a6ed-665e5f10b874"
      },
      "source": [
        "# Importamos el dataset que vamos a utilizar: el MNIST\n",
        "import numpy as np\n",
        "import matplotlib.pyplot as plt\n",
        "import tensorflow.compat.v1 as tf\n",
        "tf.disable_v2_behavior()\n",
        "from sklearn.model_selection import train_test_split\n",
        "\n",
        "# Cargamos el dataset\n",
        "(x_train, y_train), (x_test, y_test) = tf.keras.datasets.mnist.load_data()\n",
        "x_train, x_val, y_train, y_val = train_test_split(x_train, y_train, test_size=0.15)\n",
        "\n",
        "# Normalizamos el dataset\n",
        "x_train = x_train / 255.\n",
        "x_test = x_test / 255.\n",
        "x_val= x_val / 255.\n",
        "\n",
        "# El dataset ya está dividido en train, validation y test. Dentro de cada uno\n",
        "# de estos subsets ver el número de ejemplos y las dimensiones:\n",
        "print(\"El conjunto de entrenamiento tiene dimensiones: \", x_train.shape)\n",
        "print(\"El conjunto de validación tiene dimensiones: \",x_val.shape)\n",
        "print(\"El conjunto de test tiene dimensiones: \",x_test.shape)\n",
        "\n",
        "#Hacemos lo mismo para las etiquetas.\n",
        "print(\"El conjunto de entrenamiento (etiquetas) tiene dimensiones: \", y_train.shape)\n",
        "print(\"El conjunto de validación (etiquetas) tiene dimensiones: \",y_val.shape)\n",
        "print(\"El conjunto de test (etiquetas) tiene dimensiones: \",y_test.shape)\n",
        "\n",
        "# Cada etiqueta debería ser guardada en un vector de longitud = N_CLASES, con todo 0s excepto para\n",
        "# el índice que indica la clase a la que pertenece la imágen, que contiene un 1)\n",
        "# Por ejemplo, si tenemos 10 clases (números del 0 al 9), y la etiqueta\n",
        "# pertenece al número 5:\n",
        "# label = [0 0 0 0 0 1 0 0 0 0]\n",
        "#Esto se llama one-hot encodding, cambiamos el formato de la etiquetas\n",
        "y_train = tf.one_hot(y_train, depth=10)\n",
        "y_val = tf.one_hot(y_val, depth=10)\n",
        "y_test = tf.one_hot(y_test, depth=10)\n",
        "\n",
        "print(\"El conjunto de entrenamiento (etiquetas) en one-hot encoding tiene dimensiones: \", y_train.shape)\n",
        "print(\"El conjunto de validación (etiquetas) en one-hot encoding tiene dimensiones: \",y_val.shape)\n",
        "print(\"El conjunto de test (etiquetas) en one-hot encoding tiene dimensiones: \",y_test.shape)\n",
        "\n",
        "# Veamos algunas de las imágenes del dataset...\n",
        "# Para ello, solo necesitamos acceder a un vector de nuestra matrix y\n",
        "# redimensionarlo a 28x28\n",
        "plt.subplot(131)\n",
        "plt.imshow(np.reshape(x_train[0, :], (28, 28)), cmap='gray')\n",
        "plt.subplot(132)\n",
        "plt.imshow(np.reshape(x_train[27500, :], (28, 28)), cmap='gray')\n",
        "plt.subplot(133)\n",
        "plt.imshow(np.reshape(x_train[41000, :], (28, 28)), cmap='gray')"
      ],
      "execution_count": 69,
      "outputs": [
        {
          "output_type": "stream",
          "name": "stdout",
          "text": [
            "Downloading data from https://storage.googleapis.com/tensorflow/tf-keras-datasets/mnist.npz\n",
            "\u001b[1m11490434/11490434\u001b[0m \u001b[32m━━━━━━━━━━━━━━━━━━━━\u001b[0m\u001b[37m\u001b[0m \u001b[1m0s\u001b[0m 0us/step\n",
            "El conjunto de entrenamiento tiene dimensiones:  (51000, 28, 28)\n",
            "El conjunto de validación tiene dimensiones:  (9000, 28, 28)\n",
            "El conjunto de test tiene dimensiones:  (10000, 28, 28)\n",
            "El conjunto de entrenamiento (etiquetas) tiene dimensiones:  (51000,)\n",
            "El conjunto de validación (etiquetas) tiene dimensiones:  (9000,)\n",
            "El conjunto de test (etiquetas) tiene dimensiones:  (10000,)\n",
            "El conjunto de entrenamiento (etiquetas) en one-hot encoding tiene dimensiones:  (51000, 10)\n",
            "El conjunto de validación (etiquetas) en one-hot encoding tiene dimensiones:  (9000, 10)\n",
            "El conjunto de test (etiquetas) en one-hot encoding tiene dimensiones:  (10000, 10)\n"
          ]
        },
        {
          "output_type": "execute_result",
          "data": {
            "text/plain": [
              "<matplotlib.image.AxesImage at 0x7994f92d3f40>"
            ]
          },
          "metadata": {},
          "execution_count": 69
        },
        {
          "output_type": "display_data",
          "data": {
            "text/plain": [
              "<Figure size 640x480 with 3 Axes>"
            ],
            "image/png": "[encoded data removed]"
          },
          "metadata": {}
        }
      ]
    },
    {
      "cell_type": "code",
      "source": [
        "# hiperparámetros\n",
        "learning_rate = 0.01\n",
        "n_epochs = 10\n",
        "batch_size = 100\n",
        "\n",
        "# Reducimos tamaño de entrenamiento para que vaya más rápido\n",
        "size_train=1000\n",
        "x_train=x_train[0:size_train]\n",
        "y_train= y_train[0:size_train]"
      ],
      "metadata": {
        "id": "172Dm15kjz6K"
      },
      "execution_count": 70,
      "outputs": []
    },
    {
      "cell_type": "code",
      "metadata": {
        "id": "2L7KFmKSVtKZ",
        "colab": {
          "base_uri": "https://localhost:8080/"
        },
        "outputId": "3de2304d-1fde-4287-f047-4b89052d7439"
      },
      "source": [
        "# Ya hemos visto un poco en qué consiste el dataset del MNIST.\n",
        "# Ahora, convertimos las imágenes a vectores, dado que aún no hemos visto cómo podemos implementar un modelo que trabaje con imágenes\n",
        "x_train = tf.reshape(x_train, shape=(size_train, -1)) # Nuestros datos ya están en formato [N_instancias, variables] (60000 instancias, 784 (28+28) pixels).\n",
        "x_val = tf.reshape(x_val, shape=(9000, -1)) # Nuestros datos ya están en formato [N_instancias, variables] (9000 instancias, 784 (28+28) pixels).\n",
        "x_test = tf.reshape(x_test, shape=(10000, -1)) # Nuestros datos ya están en formato [N_instancias, variables] (10000 instancias, 784 (28+28) pixels).\n",
        "# Vamos a crear nuestro regresor:\n",
        "\n",
        "# Cuando ejecutamos en grafo, lo primero es que creemos el placeholder\n",
        "# para nuestros datos de entrada y salida. En este caso, la entrada va a ser\n",
        "# un conjunto de vectores de tamaño 768 (vamos a pasarle varias imágenes\n",
        "# a la vez a nuestro regresor, de esta forma, cuando calcule el gradiente\n",
        "# se basará en varias imágenes, con lo que la  estimación será más precisa\n",
        "# que si utilizase solo una). La salida tendrá dimensión 10, que son las 10\n",
        "# clases en las que podemos clasificar\n",
        "\n",
        "n_input = 784  # Número de características de los datos: nº píxels de la imagen\n",
        "n_output = 10  # Número de clases: del 0 al 9\n",
        "\n",
        " # Creamos el placeholder de entrada a nuestro algoritmo\n",
        "net_input = tf.placeholder(tf.float32, [None, n_input])\n",
        "# Necesitamos también un placeholder para la etiqueta de la imagen, con la que\n",
        "# compararemos nuestra predicción\n",
        "y_true = tf.placeholder(tf.float32, [None, n_output])\n",
        "\n",
        "\n",
        "# Ahora tenemos que definir la ecuación de nuestra regresión. En este caso vamos\n",
        "# a definir nuestra regresión como y = W*x + b\n",
        "W = tf.Variable(tf.zeros([n_input, n_output]))  # Variable destinada a los pesos\n",
        "b = tf.Variable(tf.zeros([n_output]))  # Variable destinada a la bias\n",
        "\n",
        "# Como la salida es multiclase, necesitamos una función que nos devuelva las\n",
        "# probabilidades de una imagen de pertenecer a cada de las posibles clases. Lo\n",
        "# ideal, además, es que estas probabilidades sumasen 1.\n",
        "# Por ejemplo, si metemos una imagen con un 5, una posible salida sería:\n",
        "# [0.05 0.05 0.05 0.05 0.05 0.55 0.05 0.05 0.05 0.05]\n",
        "# cuya suma de probabilidades es 1, y la clase con la mayor probabilidad es 5.\n",
        "# Aplicamos la función softmax para normalizar las probabilidades de salida\n",
        "net_output = tf.nn.softmax(tf.matmul(net_input, W) + b)\n",
        "print(\"Tamaño del input es: {}\".format(net_input)) # Dimensiones  axb\n",
        "print(\"Tamaño los pesos es: {}\".format(net_output)) # El prodcuto tendrá dimensiones  axc"
      ],
      "execution_count": 71,
      "outputs": [
        {
          "output_type": "stream",
          "name": "stdout",
          "text": [
            "Tamaño del input es: Tensor(\"Placeholder_3:0\", shape=(?, 784), dtype=float32)\n",
            "Tamaño los pesos es: Tensor(\"Softmax:0\", shape=(?, 10), dtype=float32)\n"
          ]
        }
      ]
    },
    {
      "cell_type": "markdown",
      "metadata": {
        "id": "y-dt_6lvXUP8"
      },
      "source": [
        "### La función softmax\n",
        "<img src=\"https://image.ibb.co/ethRg7/softmax.png\" alt=\"softmax\" border=\"0\">"
      ]
    },
    {
      "cell_type": "code",
      "metadata": {
        "id": "jnYdIg6CXcrQ"
      },
      "source": [
        "# Ahora, definimos nuestra función de pérdidas: esta vez, la cros-entropía\n",
        "# a veces la llaman loss, a veces cost => es lo mismo\n",
        "cost = -tf.reduce_sum(y_true * tf.log(net_output))\n",
        "\n",
        "# Comprobamos si nuestra predicción es igual a la etiqueta\n",
        "idx_prediction = tf.argmax(net_output, 1)\n",
        "idx_label = tf.argmax(y_true, 1)\n",
        "correct_prediction = tf.equal(idx_prediction, idx_label)\n",
        "\n",
        "# Definimos nuestra medida de precisión como el número de aciertos con respecto\n",
        "# al número de muestras predichas\n",
        "accuracy = tf.reduce_mean(tf.cast(correct_prediction, \"float\"))\n",
        "\n",
        "# Ahora indicamos que queremos minimizar nuestra función de pérdidas (la entropía\n",
        "# cruzada) usando el algoritmo del descenso del gradiente y con una tasa de\n",
        "# aprendizaje = 0.01.\n",
        "optimizer = tf.train.GradientDescentOptimizer(learning_rate).minimize(cost)"
      ],
      "execution_count": 72,
      "outputs": []
    },
    {
      "cell_type": "code",
      "source": [
        "# Pues ya lo tenemos todo listo! Solo nos queda ejecutar el grafo:\n",
        "# Esto es necesario para poder escribir continuamente en la misma línea\n",
        "from IPython.display import clear_output\n",
        "\n",
        "#Definimos el número de batches totales\n",
        "total_batch = size_train / batch_size\n",
        "\n",
        "# inicializamos las variables\n",
        "init = tf.global_variables_initializer()\n",
        "\n",
        "with tf.Session() as sess:\n",
        "\n",
        "  sess.run(init)\n",
        "\n",
        "  # Ahora entrenamos nuestro regresor\n",
        "  #ind=0\n",
        "  for sample_i in range(0,x_train.shape[0],batch_size):\n",
        "    sample_x = x_train[sample_i:sample_i+batch_size]\n",
        "    sample_y = y_train[sample_i:sample_i+batch_size]\n",
        "    sess.run(optimizer, feed_dict={net_input: sample_x.eval(),\n",
        "                                   y_true: sample_y.eval()})\n",
        "    # Comprobamos cómo va funcionando nuestro regresor con el conjunto de validación\n",
        "    if  sample_i  % batch_size == 0:\n",
        "      val_acc = sess.run(accuracy, feed_dict={net_input: x_val.eval(),\n",
        "                                              y_true: y_val.eval()})\n",
        "      print(\"({}/{}) Acc: {}\".format(sample_i + batch_size, size_train, val_acc))\n",
        "\n",
        "  # Cuando ya ha visto todas las muestras del conjunto de entrenamiento,\n",
        "  # mostramos la precisión final con el conjunto de test\n",
        "  print('Test accuracy: ', sess.run(accuracy, feed_dict={net_input: x_test.eval(),\n",
        "                                      y_true: y_test.eval()}))"
      ],
      "metadata": {
        "id": "9hsCU1sTlGn1",
        "colab": {
          "base_uri": "https://localhost:8080/"
        },
        "outputId": "f79075b3-8321-47c9-b913-31370e952df1"
      },
      "execution_count": 73,
      "outputs": [
        {
          "output_type": "stream",
          "name": "stdout",
          "text": [
            "(100/1000) Acc: 0.31155556440353394\n",
            "(200/1000) Acc: 0.4968888759613037\n",
            "(300/1000) Acc: 0.3160000145435333\n",
            "(400/1000) Acc: 0.48055556416511536\n",
            "(500/1000) Acc: 0.5472221970558167\n",
            "(600/1000) Acc: 0.47699999809265137\n",
            "(700/1000) Acc: 0.5135555267333984\n",
            "(800/1000) Acc: 0.47200000286102295\n",
            "(900/1000) Acc: 0.6628888845443726\n",
            "(1000/1000) Acc: 0.6141111254692078\n",
            "Test accuracy:  0.6238\n"
          ]
        }
      ]
    },
    {
      "cell_type": "markdown",
      "metadata": {
        "id": "UWl8_jUglKeZ"
      },
      "source": [
        "Hemos implementado una regresión logística, con esta formula: y = G(Wx + b), donde G = softmax() en vez de la típica G = sigmoid(). Pues bien, si os fijáis en la siguiente imagen, en la que se define **el perceptrón** (una red neuronal de una sola capa) podréis comprobar como output = Activation_function(Wx). ¿Lo véis? ¡Solo falta la bias! ¿Y os fijáis que en la entrada hay un 1? Con lo cual, el peso w0 no se ve multiplicado por nada. ¡Exacto! El peso w0 es la bias, que aparece con esta notación simplemente para poder implementarlo en forma de multiplicación matricial.\n",
        "\n",
        "<img src=\"https://image.ibb.co/kzdu17/perceptron_schematic.png\" alt=\"perceptron_schematic\" border=\"0\">\n",
        "\n",
        "Con lo cual, lo que acabamos de implementar es un perceptron, con un batch_size = 100, 1 época, gradien descent como optimizador y softmax como función de activación.\n",
        "\n",
        "**En la siguiente sesión veremos las redes neuronales en profundidad, ¡por hoy ya habéis tenido bastante!**"
      ]
    }
  ]
}