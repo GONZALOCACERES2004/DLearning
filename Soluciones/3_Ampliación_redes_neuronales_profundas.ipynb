{
  "nbformat": 4,
  "nbformat_minor": 0,
  "metadata": {
    "colab": {
      "provenance": [],
      "include_colab_link": true
    },
    "kernelspec": {
      "name": "python3",
      "display_name": "Python 3"
    },
    "language_info": {
      "name": "python"
    }
  },
  "cells": [
    {
      "cell_type": "markdown",
      "metadata": {
        "id": "view-in-github",
        "colab_type": "text"
      },
      "source": [
        "<a href=\"https://colab.research.google.com/github/GONZALOCACERES2004/DLearning/blob/main/Soluciones/3_Ampliacio%CC%81n_redes_neuronales_profundas.ipynb\" target=\"_parent\"><img src=\"https://colab.research.google.com/assets/colab-badge.svg\" alt=\"Open In Colab\"/></a>"
      ]
    },
    {
      "cell_type": "markdown",
      "source": [
        "Durante la práctica hemos incluido la primera hidden layer de 32 neuronas para **dar el efecto de dar profundidad a nuestra red** creando ya un *multilayer perceptron*. Para ello hemos definido las variables ```(W1, B1)``` y ```(W2, B2)```  y re-calculaado  las predicciones como $\\hat{Y} = softmax(Y1*W2 + B2)$ siendo $Y1 = FA(X*W1+ B1)$, siendo FA la función de activación(aunque todo esto lo ha hecho keras por nosotros)\n",
        "\n",
        "Hay que tener en cuenta que conforme le damos profundidad a la red es importante inicializar los pesos (```W1``` y ```W2``` en nuestro caso) con **valores aleatorios siguiendo una distribución gaussiana**. De otra forma, el optimizador puede quedarse atascado en la posición inicial y no ser capaz de moverse en la dirección del mínimo de la función de pérdidas.\n",
        "\n",
        "A partir de dos capas ocultas en adelante es cuando podemos hablar de **redes neuronales profundas**. Ahora vamos a darle más profundidad a nuestra red poniendo cuatro capas ocultas, nuestra deep net estará compuesta por la entrada, cuatro capas ocultas con 200, 100, 60 y 30 neuronas, respectivamente y la capa de salida con las 10 neuronas.\n",
        "\n"
      ],
      "metadata": {
        "id": "61FH8k4maazz"
      }
    },
    {
      "cell_type": "code",
      "source": [
        "import numpy as np\n",
        "import tensorflow as tf\n",
        "from sklearn.model_selection import train_test_split\n",
        "from tensorflow.keras.utils import to_categorical\n",
        "\n",
        "np.random.seed(42)\n",
        "tf.random.set_seed(42)\n",
        "\n",
        "# Importamos el dataset MNIST desde Keras datasets y cargamos los datos #(X)\n",
        "mnist = tf.keras.datasets.mnist\n",
        "(x_train, y_train), (x_te, y_te) = mnist.load_data()\n",
        "# Normalizamos los datos en el rango de 0-1 para que computacionalmente sea más eficiente el proceso #(X)\n",
        "x_train, x_te = x_train / 255.0, x_te / 255.0\n",
        "# Pasamos a etiquetas one-hot encoded #(X)\n",
        "y_train = to_categorical(y_train)\n",
        "y_te = to_categorical(y_te)\n",
        "# Dividimos el conjunto de training en training y validation #(X)\n",
        "x_tr, x_val, y_tr, y_val = train_test_split(x_train, y_train, test_size=0.1, random_state=42)"
      ],
      "metadata": {
        "colab": {
          "base_uri": "https://localhost:8080/"
        },
        "id": "KcGa5Ia5OUer",
        "outputId": "631bfc39-7017-4c59-f31b-c00ea3bad9eb"
      },
      "execution_count": 1,
      "outputs": [
        {
          "output_type": "stream",
          "name": "stdout",
          "text": [
            "Downloading data from https://storage.googleapis.com/tensorflow/tf-keras-datasets/mnist.npz\n",
            "\u001b[1m11490434/11490434\u001b[0m \u001b[32m━━━━━━━━━━━━━━━━━━━━\u001b[0m\u001b[37m\u001b[0m \u001b[1m0s\u001b[0m 0us/step\n"
          ]
        }
      ]
    },
    {
      "cell_type": "code",
      "source": [
        "from tensorflow.keras.models import Sequential\n",
        "from sklearn.metrics import classification_report\n",
        "from tensorflow.keras.layers import Dense, Flatten, Input\n",
        "from tensorflow.keras.optimizers import SGD\n",
        "import matplotlib.pyplot as plt"
      ],
      "metadata": {
        "id": "bEzVePRxPpGv"
      },
      "execution_count": 2,
      "outputs": []
    },
    {
      "cell_type": "code",
      "source": [
        "# definimos la función para entrenar nuestra red con los parámetros deseados\n",
        "def set_model(nb_hidden_layers: int, nb_neurons_per_layer: list[int]):\n",
        "  model = Sequential()\n",
        "  model.add(Flatten(input_shape=(28, 28)))\n",
        "  for i in range(nb_hidden_layers):\n",
        "    model.add(Dense(nb_neurons_per_layer[i], activation=\"relu\"))\n",
        "  model.add(Dense(10, activation=\"softmax\"))\n",
        "  return model\n",
        "\n",
        "\n",
        "def train_deep_net(activation_function, learning_rate, lr_decay, batch_size, num_epochs):\n",
        "  # Implementamos la red empleando Keras\n",
        "  model = Sequential()\n",
        "  model.add(Flatten(input_shape=(28, 28)))\n",
        "  model.add(Dense(100, activation=activation_function))\n",
        "  model.add(Dense(60, activation=activation_function))\n",
        "  model.add(Dense(30, activation=activation_function))\n",
        "  model.add(Dense(10, activation=\"softmax\"))\n",
        "\n",
        "  # Compilamos y entrenamos el modelo SGD\n",
        "  print(\"[INFO]: Entrenando red neuronal...\")\n",
        "  lr_schedule = tf.keras.optimizers.schedules.ExponentialDecay(\n",
        "      learning_rate,\n",
        "      decay_steps=100000,\n",
        "      decay_rate=lr_decay,\n",
        "      staircase=True)\n",
        "\n",
        "  # Entrenando la solución\n",
        "  optimizer = tf.keras.optimizers.SGD(learning_rate=lr_schedule)\n",
        "  model.compile(loss=\"categorical_crossentropy\", optimizer=optimizer, metrics=[\"accuracy\"])  #(X)\n",
        "\n",
        "  # Entrenando la solución\n",
        "  H = model.fit(x_tr, y_tr, validation_data=(x_val, y_val), epochs=num_epochs, batch_size=batch_size)  #(X)\n",
        "\n",
        "  # Evaluando el modelo de predicción con las imágenes de test\n",
        "  print(\"[INFO]: Evaluando red neuronal...\")\n",
        "  predictions = model.predict(x_te, batch_size=batch_size)\n",
        "  print(classification_report(y_te.argmax(axis=1), predictions.argmax(axis=1)))\n",
        "\n",
        "  # Muestro gráfica de accuracy y losses\n",
        "  plt.style.use(\"ggplot\")\n",
        "  plt.figure()\n",
        "  plt.plot(np.arange(0, num_epochs), H.history[\"loss\"], label=\"train_loss\")\n",
        "  plt.plot(np.arange(0, num_epochs), H.history[\"val_loss\"], label=\"val_loss\")\n",
        "  plt.plot(np.arange(0, num_epochs), H.history[\"accuracy\"], label=\"train_acc\")\n",
        "  plt.plot(np.arange(0, num_epochs), H.history[\"val_accuracy\"], label=\"val_acc\")\n",
        "  plt.title(\"Training Loss and Accuracy\")\n",
        "  plt.xlabel(\"Epoch #\")\n",
        "  plt.ylabel(\"Loss/Accuracy\")\n",
        "  plt.legend()"
      ],
      "metadata": {
        "id": "PXFLhMxSOgBq"
      },
      "execution_count": 4,
      "outputs": []
    },
    {
      "cell_type": "code",
      "source": [
        "activation_function = tf.nn.relu\n",
        "learning_rate = 0.1\n",
        "lr_decay = 0.1\n",
        "num_epochs = 30\n",
        "batch_size = 128\n",
        "train_deep_net(activation_function, learning_rate, lr_decay, batch_size, num_epochs)"
      ],
      "metadata": {
        "colab": {
          "base_uri": "https://localhost:8080/",
          "height": 1000
        },
        "id": "ETNlelvJPNoK",
        "outputId": "4cfa2235-7a6a-408b-e601-c3037ec2ad08"
      },
      "execution_count": 6,
      "outputs": [
        {
          "output_type": "stream",
          "name": "stderr",
          "text": [
            "/usr/local/lib/python3.10/dist-packages/keras/src/layers/reshaping/flatten.py:37: UserWarning: Do not pass an `input_shape`/`input_dim` argument to a layer. When using Sequential models, prefer using an `Input(shape)` object as the first layer in the model instead.\n",
            "  super().__init__(**kwargs)\n"
          ]
        },
        {
          "output_type": "stream",
          "name": "stdout",
          "text": [
            "[INFO]: Entrenando red neuronal...\n",
            "Epoch 1/30\n",
            "\u001b[1m422/422\u001b[0m \u001b[32m━━━━━━━━━━━━━━━━━━━━\u001b[0m\u001b[37m\u001b[0m \u001b[1m7s\u001b[0m 14ms/step - accuracy: 0.6935 - loss: 0.9538 - val_accuracy: 0.9268 - val_loss: 0.2398\n",
            "Epoch 2/30\n",
            "\u001b[1m422/422\u001b[0m \u001b[32m━━━━━━━━━━━━━━━━━━━━\u001b[0m\u001b[37m\u001b[0m \u001b[1m6s\u001b[0m 4ms/step - accuracy: 0.9332 - loss: 0.2242 - val_accuracy: 0.9475 - val_loss: 0.1747\n",
            "Epoch 3/30\n",
            "\u001b[1m422/422\u001b[0m \u001b[32m━━━━━━━━━━━━━━━━━━━━\u001b[0m\u001b[37m\u001b[0m \u001b[1m2s\u001b[0m 4ms/step - accuracy: 0.9523 - loss: 0.1620 - val_accuracy: 0.9562 - val_loss: 0.1451\n",
            "Epoch 4/30\n",
            "\u001b[1m422/422\u001b[0m \u001b[32m━━━━━━━━━━━━━━━━━━━━\u001b[0m\u001b[37m\u001b[0m \u001b[1m2s\u001b[0m 5ms/step - accuracy: 0.9604 - loss: 0.1290 - val_accuracy: 0.9603 - val_loss: 0.1290\n",
            "Epoch 5/30\n",
            "\u001b[1m422/422\u001b[0m \u001b[32m━━━━━━━━━━━━━━━━━━━━\u001b[0m\u001b[37m\u001b[0m \u001b[1m3s\u001b[0m 7ms/step - accuracy: 0.9680 - loss: 0.1067 - val_accuracy: 0.9638 - val_loss: 0.1203\n",
            "Epoch 6/30\n",
            "\u001b[1m422/422\u001b[0m \u001b[32m━━━━━━━━━━━━━━━━━━━━\u001b[0m\u001b[37m\u001b[0m \u001b[1m5s\u001b[0m 8ms/step - accuracy: 0.9741 - loss: 0.0907 - val_accuracy: 0.9655 - val_loss: 0.1157\n",
            "Epoch 7/30\n",
            "\u001b[1m422/422\u001b[0m \u001b[32m━━━━━━━━━━━━━━━━━━━━\u001b[0m\u001b[37m\u001b[0m \u001b[1m3s\u001b[0m 8ms/step - accuracy: 0.9772 - loss: 0.0781 - val_accuracy: 0.9668 - val_loss: 0.1101\n",
            "Epoch 8/30\n",
            "\u001b[1m422/422\u001b[0m \u001b[32m━━━━━━━━━━━━━━━━━━━━\u001b[0m\u001b[37m\u001b[0m \u001b[1m6s\u001b[0m 11ms/step - accuracy: 0.9805 - loss: 0.0679 - val_accuracy: 0.9677 - val_loss: 0.1059\n",
            "Epoch 9/30\n",
            "\u001b[1m422/422\u001b[0m \u001b[32m━━━━━━━━━━━━━━━━━━━━\u001b[0m\u001b[37m\u001b[0m \u001b[1m2s\u001b[0m 4ms/step - accuracy: 0.9831 - loss: 0.0592 - val_accuracy: 0.9687 - val_loss: 0.1037\n",
            "Epoch 10/30\n",
            "\u001b[1m422/422\u001b[0m \u001b[32m━━━━━━━━━━━━━━━━━━━━\u001b[0m\u001b[37m\u001b[0m \u001b[1m3s\u001b[0m 5ms/step - accuracy: 0.9858 - loss: 0.0512 - val_accuracy: 0.9705 - val_loss: 0.1008\n",
            "Epoch 11/30\n",
            "\u001b[1m422/422\u001b[0m \u001b[32m━━━━━━━━━━━━━━━━━━━━\u001b[0m\u001b[37m\u001b[0m \u001b[1m2s\u001b[0m 4ms/step - accuracy: 0.9881 - loss: 0.0445 - val_accuracy: 0.9715 - val_loss: 0.0983\n",
            "Epoch 12/30\n",
            "\u001b[1m422/422\u001b[0m \u001b[32m━━━━━━━━━━━━━━━━━━━━\u001b[0m\u001b[37m\u001b[0m \u001b[1m2s\u001b[0m 5ms/step - accuracy: 0.9898 - loss: 0.0387 - val_accuracy: 0.9713 - val_loss: 0.0987\n",
            "Epoch 13/30\n",
            "\u001b[1m422/422\u001b[0m \u001b[32m━━━━━━━━━━━━━━━━━━━━\u001b[0m\u001b[37m\u001b[0m \u001b[1m3s\u001b[0m 6ms/step - accuracy: 0.9915 - loss: 0.0338 - val_accuracy: 0.9710 - val_loss: 0.0993\n",
            "Epoch 14/30\n",
            "\u001b[1m422/422\u001b[0m \u001b[32m━━━━━━━━━━━━━━━━━━━━\u001b[0m\u001b[37m\u001b[0m \u001b[1m3s\u001b[0m 7ms/step - accuracy: 0.9928 - loss: 0.0293 - val_accuracy: 0.9727 - val_loss: 0.1007\n",
            "Epoch 15/30\n",
            "\u001b[1m422/422\u001b[0m \u001b[32m━━━━━━━━━━━━━━━━━━━━\u001b[0m\u001b[37m\u001b[0m \u001b[1m2s\u001b[0m 4ms/step - accuracy: 0.9938 - loss: 0.0254 - val_accuracy: 0.9715 - val_loss: 0.1034\n",
            "Epoch 16/30\n",
            "\u001b[1m422/422\u001b[0m \u001b[32m━━━━━━━━━━━━━━━━━━━━\u001b[0m\u001b[37m\u001b[0m \u001b[1m2s\u001b[0m 4ms/step - accuracy: 0.9953 - loss: 0.0218 - val_accuracy: 0.9698 - val_loss: 0.1102\n",
            "Epoch 17/30\n",
            "\u001b[1m422/422\u001b[0m \u001b[32m━━━━━━━━━━━━━━━━━━━━\u001b[0m\u001b[37m\u001b[0m \u001b[1m2s\u001b[0m 4ms/step - accuracy: 0.9962 - loss: 0.0185 - val_accuracy: 0.9703 - val_loss: 0.1149\n",
            "Epoch 18/30\n",
            "\u001b[1m422/422\u001b[0m \u001b[32m━━━━━━━━━━━━━━━━━━━━\u001b[0m\u001b[37m\u001b[0m \u001b[1m3s\u001b[0m 4ms/step - accuracy: 0.9971 - loss: 0.0155 - val_accuracy: 0.9703 - val_loss: 0.1173\n",
            "Epoch 19/30\n",
            "\u001b[1m422/422\u001b[0m \u001b[32m━━━━━━━━━━━━━━━━━━━━\u001b[0m\u001b[37m\u001b[0m \u001b[1m3s\u001b[0m 7ms/step - accuracy: 0.9980 - loss: 0.0132 - val_accuracy: 0.9715 - val_loss: 0.1141\n",
            "Epoch 20/30\n",
            "\u001b[1m422/422\u001b[0m \u001b[32m━━━━━━━━━━━━━━━━━━━━\u001b[0m\u001b[37m\u001b[0m \u001b[1m4s\u001b[0m 5ms/step - accuracy: 0.9986 - loss: 0.0111 - val_accuracy: 0.9732 - val_loss: 0.1101\n",
            "Epoch 21/30\n",
            "\u001b[1m422/422\u001b[0m \u001b[32m━━━━━━━━━━━━━━━━━━━━\u001b[0m\u001b[37m\u001b[0m \u001b[1m2s\u001b[0m 4ms/step - accuracy: 0.9989 - loss: 0.0096 - val_accuracy: 0.9740 - val_loss: 0.1078\n",
            "Epoch 22/30\n",
            "\u001b[1m422/422\u001b[0m \u001b[32m━━━━━━━━━━━━━━━━━━━━\u001b[0m\u001b[37m\u001b[0m \u001b[1m3s\u001b[0m 5ms/step - accuracy: 0.9992 - loss: 0.0082 - val_accuracy: 0.9750 - val_loss: 0.1064\n",
            "Epoch 23/30\n",
            "\u001b[1m422/422\u001b[0m \u001b[32m━━━━━━━━━━━━━━━━━━━━\u001b[0m\u001b[37m\u001b[0m \u001b[1m2s\u001b[0m 5ms/step - accuracy: 0.9994 - loss: 0.0067 - val_accuracy: 0.9762 - val_loss: 0.1024\n",
            "Epoch 24/30\n",
            "\u001b[1m422/422\u001b[0m \u001b[32m━━━━━━━━━━━━━━━━━━━━\u001b[0m\u001b[37m\u001b[0m \u001b[1m3s\u001b[0m 8ms/step - accuracy: 0.9996 - loss: 0.0055 - val_accuracy: 0.9768 - val_loss: 0.1014\n",
            "Epoch 25/30\n",
            "\u001b[1m422/422\u001b[0m \u001b[32m━━━━━━━━━━━━━━━━━━━━\u001b[0m\u001b[37m\u001b[0m \u001b[1m2s\u001b[0m 5ms/step - accuracy: 0.9998 - loss: 0.0046 - val_accuracy: 0.9767 - val_loss: 0.1020\n",
            "Epoch 26/30\n",
            "\u001b[1m422/422\u001b[0m \u001b[32m━━━━━━━━━━━━━━━━━━━━\u001b[0m\u001b[37m\u001b[0m \u001b[1m2s\u001b[0m 5ms/step - accuracy: 0.9999 - loss: 0.0040 - val_accuracy: 0.9773 - val_loss: 0.1025\n",
            "Epoch 27/30\n",
            "\u001b[1m422/422\u001b[0m \u001b[32m━━━━━━━━━━━━━━━━━━━━\u001b[0m\u001b[37m\u001b[0m \u001b[1m2s\u001b[0m 4ms/step - accuracy: 0.9999 - loss: 0.0034 - val_accuracy: 0.9758 - val_loss: 0.1122\n",
            "Epoch 28/30\n",
            "\u001b[1m422/422\u001b[0m \u001b[32m━━━━━━━━━━━━━━━━━━━━\u001b[0m\u001b[37m\u001b[0m \u001b[1m3s\u001b[0m 4ms/step - accuracy: 0.9999 - loss: 0.0031 - val_accuracy: 0.9775 - val_loss: 0.1042\n",
            "Epoch 29/30\n",
            "\u001b[1m422/422\u001b[0m \u001b[32m━━━━━━━━━━━━━━━━━━━━\u001b[0m\u001b[37m\u001b[0m \u001b[1m2s\u001b[0m 5ms/step - accuracy: 0.9999 - loss: 0.0027 - val_accuracy: 0.9767 - val_loss: 0.1093\n",
            "Epoch 30/30\n",
            "\u001b[1m422/422\u001b[0m \u001b[32m━━━━━━━━━━━━━━━━━━━━\u001b[0m\u001b[37m\u001b[0m \u001b[1m3s\u001b[0m 6ms/step - accuracy: 0.9999 - loss: 0.0024 - val_accuracy: 0.9777 - val_loss: 0.1080\n",
            "[INFO]: Evaluando red neuronal...\n",
            "\u001b[1m79/79\u001b[0m \u001b[32m━━━━━━━━━━━━━━━━━━━━\u001b[0m\u001b[37m\u001b[0m \u001b[1m0s\u001b[0m 3ms/step\n",
            "              precision    recall  f1-score   support\n",
            "\n",
            "           0       0.97      0.99      0.98       980\n",
            "           1       0.99      0.99      0.99      1135\n",
            "           2       0.96      0.98      0.97      1032\n",
            "           3       0.97      0.98      0.97      1010\n",
            "           4       0.97      0.97      0.97       982\n",
            "           5       0.97      0.98      0.97       892\n",
            "           6       0.98      0.97      0.98       958\n",
            "           7       0.97      0.98      0.97      1028\n",
            "           8       0.99      0.93      0.96       974\n",
            "           9       0.97      0.96      0.96      1009\n",
            "\n",
            "    accuracy                           0.97     10000\n",
            "   macro avg       0.97      0.97      0.97     10000\n",
            "weighted avg       0.97      0.97      0.97     10000\n",
            "\n"
          ]
        },
        {
          "output_type": "display_data",
          "data": {
            "text/plain": [
              "<Figure size 640x480 with 1 Axes>"
            ],
            "image/png": "[encoded data removed]"
          },
          "metadata": {}
        }
      ]
    },
    {
      "cell_type": "markdown",
      "source": [
        "Que programandolo en tensorflow sería:"
      ],
      "metadata": {
        "id": "7o6CPCUKP-Ry"
      }
    },
    {
      "metadata": {
        "id": "1f2q9gkgDLd9"
      },
      "cell_type": "code",
      "source": [
        "'''def train_deep_net(learning_rate, batch_size, num_epochs, act_function, optimizer):\n",
        "  # Creamos placeholders para ir almacenando los datos de entrada y los labels\n",
        "  X = tf.placeholder(tf.float32, [None, 784]) #(X) # Imágenes del mnist: 28*28 = 784\n",
        "  Y_true = tf.placeholder(tf.float32, [None, 10]) #(X) # Número indicando la clase 0-9 => 10 clases\n",
        "\n",
        "  # Creamos e inicializamos las variables W y b con valores aleatorios que sigan una distribución normal\n",
        "  W1 = tf.Variable(tf.truncated_normal([784, 200], stddev=0.1)) #(X)\n",
        "  B1 = tf.Variable(tf.zeros([200])) #(X)\n",
        "  W2 = tf.Variable(tf.truncated_normal([200, 100], stddev=0.1)) #(X)\n",
        "  B2 = tf.Variable(tf.zeros([100])) #(X)\n",
        "  W3 = tf.Variable(tf.truncated_normal([100, 60], stddev=0.1)) #(X)\n",
        "  B3 = tf.Variable(tf.zeros([60])) #(X)\n",
        "  W4 = tf.Variable(tf.truncated_normal([60, 30], stddev=0.1)) #(X)\n",
        "  B4 = tf.Variable(tf.zeros([30])) #(X)\n",
        "  W5 = tf.Variable(tf.truncated_normal([30, 10], stddev=0.1)) #(X)\n",
        "  B5 = tf.Variable(tf.zeros([10])) #(X)\n",
        "\n",
        "  # Calculamos las predicciones\n",
        "  Y1 = act_function(tf.matmul(X,W1) + B1) #(X)\n",
        "  Y2 = act_function(tf.matmul(Y1,W2) + B2) #(X)\n",
        "  Y3 = act_function(tf.matmul(Y2,W3) + B3) #(X)\n",
        "  Y4 = act_function(tf.matmul(Y3,W4) + B4) #(X)\n",
        "  Y_logits = tf.matmul(Y4,W5) + B5\n",
        "  Y_pred = tf.nn.softmax(Y_logits)\n",
        "\n",
        "  # Definimos función de pérdidas (Cross_entropy)\n",
        "  loss = tf.reduce_mean(tf.nn.softmax_cross_entropy_with_logits_v2(logits=Y_logits, labels=Y_true))\n",
        "  #loss = tf.reduce_mean(-tf.reduce_sum(Y_true * tf.log(Y_pred), reduction_indices=1)) #(X)\n",
        "  #loss = tf.reduce_mean(-tf.reduce_sum(Y_true*tf.log(Y_pred), reduction_indices=1))\n",
        "\n",
        "  # Optimizador SGD\n",
        "  train = optimizer(lr).minimize(loss) #(X)\n",
        "\n",
        "  # % de predicciones correctas en un determinado batch (i.e. accuracy)\n",
        "  is_correct = tf.equal(tf.argmax(Y_pred,1), tf.argmax(Y_true,1))\n",
        "  accuracy = tf.reduce_mean(tf.cast(is_correct, tf.float32))\n",
        "\n",
        "  # Inicializamos variables\n",
        "  init = tf.initializers.global_variables() #(X)\n",
        "\n",
        "  # Abrimos la sesión\n",
        "  with tf.Session() as sess:\n",
        "    sess.run(init) #(X)\n",
        "    # Entrenamiento de nuestra red\n",
        "    acc_epoch_tr = []\n",
        "    acc_epoch_val = []\n",
        "    loss_epoch_tr = []\n",
        "    loss_epoch_val = []\n",
        "    for epoch in range(n_epochs):\n",
        "      avg_acc = 0.\n",
        "      avg_loss = 0.\n",
        "      steps = int(mnist.train.num_examples/batch_size) #(X) Calcular número de batches\n",
        "      for i in range(steps):\n",
        "        batch_X, batch_Y = mnist.train.next_batch(batch_size) #(X) # Pedir un nuevo batch del set de datos (emplear función next_batch)\n",
        "        sess.run(train, feed_dict={X: batch_X, Y_true: batch_Y}) #(X) # Entrenamos\n",
        "        a,l = sess.run([accuracy, loss], feed_dict={X: batch_X, Y_true: batch_Y}) #(X) # Calculamos accuracy y cross_entropy del batch\n",
        "        avg_acc += a / steps #(X) Calcular el accuracy medio de los diferentes batches\n",
        "        avg_loss += l / steps #(X) Calcular las pérdidas medias de los diferentes batches\n",
        "      # Almacenamos el accuracy y las losses medios para cada época\n",
        "      acc_epoch_tr.append(avg_acc) #(X)\n",
        "      loss_epoch_tr.append(avg_loss) #(X)\n",
        "      # Calculamos accuracy y losses en validation\n",
        "      a_val, l_val = sess.run([accuracy, loss], feed_dict={X: mnist.validation.images, Y_true: mnist.validation.labels}) #(X)\n",
        "      acc_epoch_val.append(a_val) #(X)\n",
        "      loss_epoch_val.append(l_val) #(X)\n",
        "      # Sacamos información por pantalla\n",
        "      print(\"[INFO]: Época {} ---> Acc_train = {} - Loss_train = {} - Acc_val = {} - Loss_val = {}\".format(epoch, avg_acc, avg_loss, a_val, l_val)) #(X)\n",
        "\n",
        "    # Cálculo de accuracy y losses en el conjunto de test\n",
        "    a_test, l_test = sess.run([accuracy, loss], feed_dict={X: mnist.test.images, Y_true: mnist.test.labels}) #(X)\n",
        "    print(\"[INFO]: Accuracy en test = {} - Losses en test = {}\".format(a_test, l_test)) #(X)\n",
        "\n",
        "    # Gráficar losses por época\n",
        "    plt.plot(np.arange(0, n_epochs), loss_epoch_tr) #(X)\n",
        "    plt.plot(np.arange(0, n_epochs), loss_epoch_val)\n",
        "    plt.legend(['train', 'val'], loc='upper left')\n",
        "    plt.title('Training Loss') #(X)\n",
        "    plt.xlabel('Epoch #') #(X)\n",
        "    plt.ylabel('Loss') #(X)\n",
        "\n",
        "b_size = 128\n",
        "n_epochs = 50\n",
        "lr = 0.005\n",
        "act_function = tf.nn.relu\n",
        "optimizer = tf.train.GradientDescentOptimizer\n",
        "train_deep_net(lr, b_size, n_epochs, act_function, optimizer)'''"
      ],
      "execution_count": null,
      "outputs": []
    }
  ]
}